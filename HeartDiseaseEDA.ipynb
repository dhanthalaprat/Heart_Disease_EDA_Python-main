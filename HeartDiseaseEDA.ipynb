{
  "cells": [
    {
      "cell_type": "markdown",
      "metadata": {
        "id": "view-in-github",
        "colab_type": "text"
      },
      "source": [
        "<a href=\"https://colab.research.google.com/github/anilmacherla/Heat_Disease_EDA_Python/blob/main/HeartDiseaseEDA.ipynb\" target=\"_parent\"><img src=\"https://colab.research.google.com/assets/colab-badge.svg\" alt=\"Open In Colab\"/></a>"
      ]
    },
    {
      "cell_type": "code",
      "execution_count": null,
      "metadata": {
        "colab": {
          "base_uri": "https://localhost:8080/",
          "height": 73
        },
        "id": "FqSEqNufxliW",
        "outputId": "ac619e09-d1ed-4a60-f97a-e736f95c0cec"
      },
      "outputs": [
        {
          "output_type": "display_data",
          "data": {
            "text/plain": [
              "<IPython.core.display.HTML object>"
            ],
            "text/html": [
              "\n",
              "     <input type=\"file\" id=\"files-bd5c6523-91ba-4d17-aa72-367b380428dc\" name=\"files[]\" multiple disabled\n",
              "        style=\"border:none\" />\n",
              "     <output id=\"result-bd5c6523-91ba-4d17-aa72-367b380428dc\">\n",
              "      Upload widget is only available when the cell has been executed in the\n",
              "      current browser session. Please rerun this cell to enable.\n",
              "      </output>\n",
              "      <script>// Copyright 2017 Google LLC\n",
              "//\n",
              "// Licensed under the Apache License, Version 2.0 (the \"License\");\n",
              "// you may not use this file except in compliance with the License.\n",
              "// You may obtain a copy of the License at\n",
              "//\n",
              "//      http://www.apache.org/licenses/LICENSE-2.0\n",
              "//\n",
              "// Unless required by applicable law or agreed to in writing, software\n",
              "// distributed under the License is distributed on an \"AS IS\" BASIS,\n",
              "// WITHOUT WARRANTIES OR CONDITIONS OF ANY KIND, either express or implied.\n",
              "// See the License for the specific language governing permissions and\n",
              "// limitations under the License.\n",
              "\n",
              "/**\n",
              " * @fileoverview Helpers for google.colab Python module.\n",
              " */\n",
              "(function(scope) {\n",
              "function span(text, styleAttributes = {}) {\n",
              "  const element = document.createElement('span');\n",
              "  element.textContent = text;\n",
              "  for (const key of Object.keys(styleAttributes)) {\n",
              "    element.style[key] = styleAttributes[key];\n",
              "  }\n",
              "  return element;\n",
              "}\n",
              "\n",
              "// Max number of bytes which will be uploaded at a time.\n",
              "const MAX_PAYLOAD_SIZE = 100 * 1024;\n",
              "\n",
              "function _uploadFiles(inputId, outputId) {\n",
              "  const steps = uploadFilesStep(inputId, outputId);\n",
              "  const outputElement = document.getElementById(outputId);\n",
              "  // Cache steps on the outputElement to make it available for the next call\n",
              "  // to uploadFilesContinue from Python.\n",
              "  outputElement.steps = steps;\n",
              "\n",
              "  return _uploadFilesContinue(outputId);\n",
              "}\n",
              "\n",
              "// This is roughly an async generator (not supported in the browser yet),\n",
              "// where there are multiple asynchronous steps and the Python side is going\n",
              "// to poll for completion of each step.\n",
              "// This uses a Promise to block the python side on completion of each step,\n",
              "// then passes the result of the previous step as the input to the next step.\n",
              "function _uploadFilesContinue(outputId) {\n",
              "  const outputElement = document.getElementById(outputId);\n",
              "  const steps = outputElement.steps;\n",
              "\n",
              "  const next = steps.next(outputElement.lastPromiseValue);\n",
              "  return Promise.resolve(next.value.promise).then((value) => {\n",
              "    // Cache the last promise value to make it available to the next\n",
              "    // step of the generator.\n",
              "    outputElement.lastPromiseValue = value;\n",
              "    return next.value.response;\n",
              "  });\n",
              "}\n",
              "\n",
              "/**\n",
              " * Generator function which is called between each async step of the upload\n",
              " * process.\n",
              " * @param {string} inputId Element ID of the input file picker element.\n",
              " * @param {string} outputId Element ID of the output display.\n",
              " * @return {!Iterable<!Object>} Iterable of next steps.\n",
              " */\n",
              "function* uploadFilesStep(inputId, outputId) {\n",
              "  const inputElement = document.getElementById(inputId);\n",
              "  inputElement.disabled = false;\n",
              "\n",
              "  const outputElement = document.getElementById(outputId);\n",
              "  outputElement.innerHTML = '';\n",
              "\n",
              "  const pickedPromise = new Promise((resolve) => {\n",
              "    inputElement.addEventListener('change', (e) => {\n",
              "      resolve(e.target.files);\n",
              "    });\n",
              "  });\n",
              "\n",
              "  const cancel = document.createElement('button');\n",
              "  inputElement.parentElement.appendChild(cancel);\n",
              "  cancel.textContent = 'Cancel upload';\n",
              "  const cancelPromise = new Promise((resolve) => {\n",
              "    cancel.onclick = () => {\n",
              "      resolve(null);\n",
              "    };\n",
              "  });\n",
              "\n",
              "  // Wait for the user to pick the files.\n",
              "  const files = yield {\n",
              "    promise: Promise.race([pickedPromise, cancelPromise]),\n",
              "    response: {\n",
              "      action: 'starting',\n",
              "    }\n",
              "  };\n",
              "\n",
              "  cancel.remove();\n",
              "\n",
              "  // Disable the input element since further picks are not allowed.\n",
              "  inputElement.disabled = true;\n",
              "\n",
              "  if (!files) {\n",
              "    return {\n",
              "      response: {\n",
              "        action: 'complete',\n",
              "      }\n",
              "    };\n",
              "  }\n",
              "\n",
              "  for (const file of files) {\n",
              "    const li = document.createElement('li');\n",
              "    li.append(span(file.name, {fontWeight: 'bold'}));\n",
              "    li.append(span(\n",
              "        `(${file.type || 'n/a'}) - ${file.size} bytes, ` +\n",
              "        `last modified: ${\n",
              "            file.lastModifiedDate ? file.lastModifiedDate.toLocaleDateString() :\n",
              "                                    'n/a'} - `));\n",
              "    const percent = span('0% done');\n",
              "    li.appendChild(percent);\n",
              "\n",
              "    outputElement.appendChild(li);\n",
              "\n",
              "    const fileDataPromise = new Promise((resolve) => {\n",
              "      const reader = new FileReader();\n",
              "      reader.onload = (e) => {\n",
              "        resolve(e.target.result);\n",
              "      };\n",
              "      reader.readAsArrayBuffer(file);\n",
              "    });\n",
              "    // Wait for the data to be ready.\n",
              "    let fileData = yield {\n",
              "      promise: fileDataPromise,\n",
              "      response: {\n",
              "        action: 'continue',\n",
              "      }\n",
              "    };\n",
              "\n",
              "    // Use a chunked sending to avoid message size limits. See b/62115660.\n",
              "    let position = 0;\n",
              "    do {\n",
              "      const length = Math.min(fileData.byteLength - position, MAX_PAYLOAD_SIZE);\n",
              "      const chunk = new Uint8Array(fileData, position, length);\n",
              "      position += length;\n",
              "\n",
              "      const base64 = btoa(String.fromCharCode.apply(null, chunk));\n",
              "      yield {\n",
              "        response: {\n",
              "          action: 'append',\n",
              "          file: file.name,\n",
              "          data: base64,\n",
              "        },\n",
              "      };\n",
              "\n",
              "      let percentDone = fileData.byteLength === 0 ?\n",
              "          100 :\n",
              "          Math.round((position / fileData.byteLength) * 100);\n",
              "      percent.textContent = `${percentDone}% done`;\n",
              "\n",
              "    } while (position < fileData.byteLength);\n",
              "  }\n",
              "\n",
              "  // All done.\n",
              "  yield {\n",
              "    response: {\n",
              "      action: 'complete',\n",
              "    }\n",
              "  };\n",
              "}\n",
              "\n",
              "scope.google = scope.google || {};\n",
              "scope.google.colab = scope.google.colab || {};\n",
              "scope.google.colab._files = {\n",
              "  _uploadFiles,\n",
              "  _uploadFilesContinue,\n",
              "};\n",
              "})(self);\n",
              "</script> "
            ]
          },
          "metadata": {}
        },
        {
          "output_type": "stream",
          "name": "stdout",
          "text": [
            "Saving healthcare-dataset-stroke-data.csv to healthcare-dataset-stroke-data.csv\n"
          ]
        }
      ],
      "source": [
        "#code to upload the file from the device\n",
        "from google.colab import files\n",
        "\n",
        "uploaded = files.upload()"
      ]
    },
    {
      "cell_type": "code",
      "execution_count": null,
      "metadata": {
        "id": "euIY_QhdTRzA"
      },
      "outputs": [],
      "source": [
        "import seaborn as sb\n",
        "#read the data into the data frame\n",
        "import pandas as pd\n",
        "import numpy as np\n",
        "import matplotlib.pyplot as plt\n",
        "import matplotlib.pyplot as plt\n",
        "import seaborn as sns\n",
        "import warnings\n",
        "warnings.filterwarnings(\"ignore\")\n",
        "from sklearn import preprocessing\n",
        "from sklearn.model_selection import train_test_split\n",
        "from sklearn.preprocessing import StandardScaler\n",
        "import statsmodels.api as sm\n",
        "from imblearn.over_sampling import SMOTE\n",
        "from sklearn.linear_model import LogisticRegression\n",
        "from sklearn.metrics import precision_score, recall_score, f1_score, accuracy_score\n",
        "from sklearn.ensemble import RandomForestClassifier\n",
        "from sklearn.model_selection import KFold\n",
        "from sklearn.model_selection import cross_val_score\n",
        "from sklearn.model_selection import cross_validate\n",
        "from sklearn import model_selection"
      ]
    },
    {
      "cell_type": "code",
      "execution_count": null,
      "metadata": {
        "id": "YS3yNejeyPmd"
      },
      "outputs": [],
      "source": [
        "\n",
        "df=pd.read_csv('healthcare-dataset-stroke-data.csv')"
      ]
    },
    {
      "cell_type": "code",
      "execution_count": null,
      "metadata": {
        "colab": {
          "base_uri": "https://localhost:8080/",
          "height": 206
        },
        "id": "5H8n69i5yYnT",
        "outputId": "39459702-35cc-47bb-d763-8f10a7c6c506"
      },
      "outputs": [
        {
          "output_type": "execute_result",
          "data": {
            "text/plain": [
              "      id  gender   age  hypertension  heart_disease ever_married  \\\n",
              "0   9046    Male  67.0             0              1          Yes   \n",
              "1  51676  Female  61.0             0              0          Yes   \n",
              "2  31112    Male  80.0             0              1          Yes   \n",
              "3  60182  Female  49.0             0              0          Yes   \n",
              "4   1665  Female  79.0             1              0          Yes   \n",
              "\n",
              "       work_type Residence_type  avg_glucose_level   bmi   smoking_status  \\\n",
              "0        Private          Urban             228.69  36.6  formerly smoked   \n",
              "1  Self-employed          Rural             202.21   NaN     never smoked   \n",
              "2        Private          Rural             105.92  32.5     never smoked   \n",
              "3        Private          Urban             171.23  34.4           smokes   \n",
              "4  Self-employed          Rural             174.12  24.0     never smoked   \n",
              "\n",
              "   stroke  \n",
              "0       1  \n",
              "1       1  \n",
              "2       1  \n",
              "3       1  \n",
              "4       1  "
            ],
            "text/html": [
              "\n",
              "  <div id=\"df-9b216b25-5976-4738-9804-0703feb1a6bf\">\n",
              "    <div class=\"colab-df-container\">\n",
              "      <div>\n",
              "<style scoped>\n",
              "    .dataframe tbody tr th:only-of-type {\n",
              "        vertical-align: middle;\n",
              "    }\n",
              "\n",
              "    .dataframe tbody tr th {\n",
              "        vertical-align: top;\n",
              "    }\n",
              "\n",
              "    .dataframe thead th {\n",
              "        text-align: right;\n",
              "    }\n",
              "</style>\n",
              "<table border=\"1\" class=\"dataframe\">\n",
              "  <thead>\n",
              "    <tr style=\"text-align: right;\">\n",
              "      <th></th>\n",
              "      <th>id</th>\n",
              "      <th>gender</th>\n",
              "      <th>age</th>\n",
              "      <th>hypertension</th>\n",
              "      <th>heart_disease</th>\n",
              "      <th>ever_married</th>\n",
              "      <th>work_type</th>\n",
              "      <th>Residence_type</th>\n",
              "      <th>avg_glucose_level</th>\n",
              "      <th>bmi</th>\n",
              "      <th>smoking_status</th>\n",
              "      <th>stroke</th>\n",
              "    </tr>\n",
              "  </thead>\n",
              "  <tbody>\n",
              "    <tr>\n",
              "      <th>0</th>\n",
              "      <td>9046</td>\n",
              "      <td>Male</td>\n",
              "      <td>67.0</td>\n",
              "      <td>0</td>\n",
              "      <td>1</td>\n",
              "      <td>Yes</td>\n",
              "      <td>Private</td>\n",
              "      <td>Urban</td>\n",
              "      <td>228.69</td>\n",
              "      <td>36.6</td>\n",
              "      <td>formerly smoked</td>\n",
              "      <td>1</td>\n",
              "    </tr>\n",
              "    <tr>\n",
              "      <th>1</th>\n",
              "      <td>51676</td>\n",
              "      <td>Female</td>\n",
              "      <td>61.0</td>\n",
              "      <td>0</td>\n",
              "      <td>0</td>\n",
              "      <td>Yes</td>\n",
              "      <td>Self-employed</td>\n",
              "      <td>Rural</td>\n",
              "      <td>202.21</td>\n",
              "      <td>NaN</td>\n",
              "      <td>never smoked</td>\n",
              "      <td>1</td>\n",
              "    </tr>\n",
              "    <tr>\n",
              "      <th>2</th>\n",
              "      <td>31112</td>\n",
              "      <td>Male</td>\n",
              "      <td>80.0</td>\n",
              "      <td>0</td>\n",
              "      <td>1</td>\n",
              "      <td>Yes</td>\n",
              "      <td>Private</td>\n",
              "      <td>Rural</td>\n",
              "      <td>105.92</td>\n",
              "      <td>32.5</td>\n",
              "      <td>never smoked</td>\n",
              "      <td>1</td>\n",
              "    </tr>\n",
              "    <tr>\n",
              "      <th>3</th>\n",
              "      <td>60182</td>\n",
              "      <td>Female</td>\n",
              "      <td>49.0</td>\n",
              "      <td>0</td>\n",
              "      <td>0</td>\n",
              "      <td>Yes</td>\n",
              "      <td>Private</td>\n",
              "      <td>Urban</td>\n",
              "      <td>171.23</td>\n",
              "      <td>34.4</td>\n",
              "      <td>smokes</td>\n",
              "      <td>1</td>\n",
              "    </tr>\n",
              "    <tr>\n",
              "      <th>4</th>\n",
              "      <td>1665</td>\n",
              "      <td>Female</td>\n",
              "      <td>79.0</td>\n",
              "      <td>1</td>\n",
              "      <td>0</td>\n",
              "      <td>Yes</td>\n",
              "      <td>Self-employed</td>\n",
              "      <td>Rural</td>\n",
              "      <td>174.12</td>\n",
              "      <td>24.0</td>\n",
              "      <td>never smoked</td>\n",
              "      <td>1</td>\n",
              "    </tr>\n",
              "  </tbody>\n",
              "</table>\n",
              "</div>\n",
              "      <button class=\"colab-df-convert\" onclick=\"convertToInteractive('df-9b216b25-5976-4738-9804-0703feb1a6bf')\"\n",
              "              title=\"Convert this dataframe to an interactive table.\"\n",
              "              style=\"display:none;\">\n",
              "        \n",
              "  <svg xmlns=\"http://www.w3.org/2000/svg\" height=\"24px\"viewBox=\"0 0 24 24\"\n",
              "       width=\"24px\">\n",
              "    <path d=\"M0 0h24v24H0V0z\" fill=\"none\"/>\n",
              "    <path d=\"M18.56 5.44l.94 2.06.94-2.06 2.06-.94-2.06-.94-.94-2.06-.94 2.06-2.06.94zm-11 1L8.5 8.5l.94-2.06 2.06-.94-2.06-.94L8.5 2.5l-.94 2.06-2.06.94zm10 10l.94 2.06.94-2.06 2.06-.94-2.06-.94-.94-2.06-.94 2.06-2.06.94z\"/><path d=\"M17.41 7.96l-1.37-1.37c-.4-.4-.92-.59-1.43-.59-.52 0-1.04.2-1.43.59L10.3 9.45l-7.72 7.72c-.78.78-.78 2.05 0 2.83L4 21.41c.39.39.9.59 1.41.59.51 0 1.02-.2 1.41-.59l7.78-7.78 2.81-2.81c.8-.78.8-2.07 0-2.86zM5.41 20L4 18.59l7.72-7.72 1.47 1.35L5.41 20z\"/>\n",
              "  </svg>\n",
              "      </button>\n",
              "      \n",
              "  <style>\n",
              "    .colab-df-container {\n",
              "      display:flex;\n",
              "      flex-wrap:wrap;\n",
              "      gap: 12px;\n",
              "    }\n",
              "\n",
              "    .colab-df-convert {\n",
              "      background-color: #E8F0FE;\n",
              "      border: none;\n",
              "      border-radius: 50%;\n",
              "      cursor: pointer;\n",
              "      display: none;\n",
              "      fill: #1967D2;\n",
              "      height: 32px;\n",
              "      padding: 0 0 0 0;\n",
              "      width: 32px;\n",
              "    }\n",
              "\n",
              "    .colab-df-convert:hover {\n",
              "      background-color: #E2EBFA;\n",
              "      box-shadow: 0px 1px 2px rgba(60, 64, 67, 0.3), 0px 1px 3px 1px rgba(60, 64, 67, 0.15);\n",
              "      fill: #174EA6;\n",
              "    }\n",
              "\n",
              "    [theme=dark] .colab-df-convert {\n",
              "      background-color: #3B4455;\n",
              "      fill: #D2E3FC;\n",
              "    }\n",
              "\n",
              "    [theme=dark] .colab-df-convert:hover {\n",
              "      background-color: #434B5C;\n",
              "      box-shadow: 0px 1px 3px 1px rgba(0, 0, 0, 0.15);\n",
              "      filter: drop-shadow(0px 1px 2px rgba(0, 0, 0, 0.3));\n",
              "      fill: #FFFFFF;\n",
              "    }\n",
              "  </style>\n",
              "\n",
              "      <script>\n",
              "        const buttonEl =\n",
              "          document.querySelector('#df-9b216b25-5976-4738-9804-0703feb1a6bf button.colab-df-convert');\n",
              "        buttonEl.style.display =\n",
              "          google.colab.kernel.accessAllowed ? 'block' : 'none';\n",
              "\n",
              "        async function convertToInteractive(key) {\n",
              "          const element = document.querySelector('#df-9b216b25-5976-4738-9804-0703feb1a6bf');\n",
              "          const dataTable =\n",
              "            await google.colab.kernel.invokeFunction('convertToInteractive',\n",
              "                                                     [key], {});\n",
              "          if (!dataTable) return;\n",
              "\n",
              "          const docLinkHtml = 'Like what you see? Visit the ' +\n",
              "            '<a target=\"_blank\" href=https://colab.research.google.com/notebooks/data_table.ipynb>data table notebook</a>'\n",
              "            + ' to learn more about interactive tables.';\n",
              "          element.innerHTML = '';\n",
              "          dataTable['output_type'] = 'display_data';\n",
              "          await google.colab.output.renderOutput(dataTable, element);\n",
              "          const docLink = document.createElement('div');\n",
              "          docLink.innerHTML = docLinkHtml;\n",
              "          element.appendChild(docLink);\n",
              "        }\n",
              "      </script>\n",
              "    </div>\n",
              "  </div>\n",
              "  "
            ]
          },
          "metadata": {},
          "execution_count": 7
        }
      ],
      "source": [
        "#chehck the data is loaded properly in dataframe\n",
        "df.head()"
      ]
    },
    {
      "cell_type": "code",
      "execution_count": null,
      "metadata": {
        "colab": {
          "base_uri": "https://localhost:8080/"
        },
        "id": "KM7na3Juybji",
        "outputId": "24d7baa8-b937-4825-c9e7-77607f045f43"
      },
      "outputs": [
        {
          "output_type": "execute_result",
          "data": {
            "text/plain": [
              "id                   False\n",
              "gender               False\n",
              "age                  False\n",
              "hypertension         False\n",
              "heart_disease        False\n",
              "ever_married         False\n",
              "work_type            False\n",
              "Residence_type       False\n",
              "avg_glucose_level    False\n",
              "bmi                   True\n",
              "smoking_status       False\n",
              "stroke               False\n",
              "dtype: bool"
            ]
          },
          "metadata": {},
          "execution_count": 8
        }
      ],
      "source": [
        "#Check for null values\n",
        "df.isnull().any()"
      ]
    },
    {
      "cell_type": "code",
      "execution_count": null,
      "metadata": {
        "colab": {
          "base_uri": "https://localhost:8080/"
        },
        "id": "U_SQdH6Tylr_",
        "outputId": "c154feb4-8565-46ce-866c-1c79497a3fae"
      },
      "outputs": [
        {
          "output_type": "execute_result",
          "data": {
            "text/plain": [
              "201"
            ]
          },
          "metadata": {},
          "execution_count": 9
        }
      ],
      "source": [
        "#Null values count\n",
        "df['bmi'].isna().sum()"
      ]
    },
    {
      "cell_type": "code",
      "execution_count": null,
      "metadata": {
        "colab": {
          "base_uri": "https://localhost:8080/"
        },
        "id": "B_vyXyqLy6D5",
        "outputId": "d50d04c4-2d7f-429f-b9ba-49b64215f547"
      },
      "outputs": [
        {
          "output_type": "execute_result",
          "data": {
            "text/plain": [
              "['work_type', 'smoking_status', 'ever_married', 'gender', 'Residence_type']"
            ]
          },
          "metadata": {},
          "execution_count": 10
        }
      ],
      "source": [
        "#Identify the categorical variable\n",
        "df.describe().columns\n",
        "list(set(df.columns) - set(df.describe().columns))"
      ]
    },
    {
      "cell_type": "code",
      "execution_count": null,
      "metadata": {
        "colab": {
          "base_uri": "https://localhost:8080/"
        },
        "id": "HI8K2UnT3vBz",
        "outputId": "3cc6aa6c-3fce-46b9-e3f4-4db94f5d8b7a"
      },
      "outputs": [
        {
          "output_type": "execute_result",
          "data": {
            "text/plain": [
              "0"
            ]
          },
          "metadata": {},
          "execution_count": 11
        }
      ],
      "source": [
        "#drop NAN rows in the data frame\n",
        "df1 = df\n",
        "df1 = df1.dropna()\n",
        "df1['bmi'].isna().sum()"
      ]
    },
    {
      "cell_type": "code",
      "execution_count": null,
      "metadata": {
        "colab": {
          "base_uri": "https://localhost:8080/",
          "height": 304
        },
        "id": "wIcLz_F11-cc",
        "outputId": "8def1a62-d87e-4fe1-8171-ec8b0db3b905"
      },
      "outputs": [
        {
          "output_type": "execute_result",
          "data": {
            "text/plain": [
              "      id  gender   age  hypertension  heart_disease ever_married  \\\n",
              "0   9046    Male  67.0             0              1          Yes   \n",
              "1  51676  Female  61.0             0              0          Yes   \n",
              "2  31112    Male  80.0             0              1          Yes   \n",
              "3  60182  Female  49.0             0              0          Yes   \n",
              "4   1665  Female  79.0             1              0          Yes   \n",
              "\n",
              "       work_type Residence_type  avg_glucose_level   bmi   smoking_status  \\\n",
              "0        Private          Urban             228.69  36.6  formerly smoked   \n",
              "1  Self-employed          Rural             202.21   NaN     never smoked   \n",
              "2        Private          Rural             105.92  32.5     never smoked   \n",
              "3        Private          Urban             171.23  34.4           smokes   \n",
              "4  Self-employed          Rural             174.12  24.0     never smoked   \n",
              "\n",
              "   stroke  bmi_median  \n",
              "0       1        36.6  \n",
              "1       1        28.1  \n",
              "2       1        32.5  \n",
              "3       1        34.4  \n",
              "4       1        24.0  "
            ],
            "text/html": [
              "\n",
              "  <div id=\"df-6ee30226-a7d8-4a3b-a09d-91ef3cd81f21\">\n",
              "    <div class=\"colab-df-container\">\n",
              "      <div>\n",
              "<style scoped>\n",
              "    .dataframe tbody tr th:only-of-type {\n",
              "        vertical-align: middle;\n",
              "    }\n",
              "\n",
              "    .dataframe tbody tr th {\n",
              "        vertical-align: top;\n",
              "    }\n",
              "\n",
              "    .dataframe thead th {\n",
              "        text-align: right;\n",
              "    }\n",
              "</style>\n",
              "<table border=\"1\" class=\"dataframe\">\n",
              "  <thead>\n",
              "    <tr style=\"text-align: right;\">\n",
              "      <th></th>\n",
              "      <th>id</th>\n",
              "      <th>gender</th>\n",
              "      <th>age</th>\n",
              "      <th>hypertension</th>\n",
              "      <th>heart_disease</th>\n",
              "      <th>ever_married</th>\n",
              "      <th>work_type</th>\n",
              "      <th>Residence_type</th>\n",
              "      <th>avg_glucose_level</th>\n",
              "      <th>bmi</th>\n",
              "      <th>smoking_status</th>\n",
              "      <th>stroke</th>\n",
              "      <th>bmi_median</th>\n",
              "    </tr>\n",
              "  </thead>\n",
              "  <tbody>\n",
              "    <tr>\n",
              "      <th>0</th>\n",
              "      <td>9046</td>\n",
              "      <td>Male</td>\n",
              "      <td>67.0</td>\n",
              "      <td>0</td>\n",
              "      <td>1</td>\n",
              "      <td>Yes</td>\n",
              "      <td>Private</td>\n",
              "      <td>Urban</td>\n",
              "      <td>228.69</td>\n",
              "      <td>36.6</td>\n",
              "      <td>formerly smoked</td>\n",
              "      <td>1</td>\n",
              "      <td>36.6</td>\n",
              "    </tr>\n",
              "    <tr>\n",
              "      <th>1</th>\n",
              "      <td>51676</td>\n",
              "      <td>Female</td>\n",
              "      <td>61.0</td>\n",
              "      <td>0</td>\n",
              "      <td>0</td>\n",
              "      <td>Yes</td>\n",
              "      <td>Self-employed</td>\n",
              "      <td>Rural</td>\n",
              "      <td>202.21</td>\n",
              "      <td>NaN</td>\n",
              "      <td>never smoked</td>\n",
              "      <td>1</td>\n",
              "      <td>28.1</td>\n",
              "    </tr>\n",
              "    <tr>\n",
              "      <th>2</th>\n",
              "      <td>31112</td>\n",
              "      <td>Male</td>\n",
              "      <td>80.0</td>\n",
              "      <td>0</td>\n",
              "      <td>1</td>\n",
              "      <td>Yes</td>\n",
              "      <td>Private</td>\n",
              "      <td>Rural</td>\n",
              "      <td>105.92</td>\n",
              "      <td>32.5</td>\n",
              "      <td>never smoked</td>\n",
              "      <td>1</td>\n",
              "      <td>32.5</td>\n",
              "    </tr>\n",
              "    <tr>\n",
              "      <th>3</th>\n",
              "      <td>60182</td>\n",
              "      <td>Female</td>\n",
              "      <td>49.0</td>\n",
              "      <td>0</td>\n",
              "      <td>0</td>\n",
              "      <td>Yes</td>\n",
              "      <td>Private</td>\n",
              "      <td>Urban</td>\n",
              "      <td>171.23</td>\n",
              "      <td>34.4</td>\n",
              "      <td>smokes</td>\n",
              "      <td>1</td>\n",
              "      <td>34.4</td>\n",
              "    </tr>\n",
              "    <tr>\n",
              "      <th>4</th>\n",
              "      <td>1665</td>\n",
              "      <td>Female</td>\n",
              "      <td>79.0</td>\n",
              "      <td>1</td>\n",
              "      <td>0</td>\n",
              "      <td>Yes</td>\n",
              "      <td>Self-employed</td>\n",
              "      <td>Rural</td>\n",
              "      <td>174.12</td>\n",
              "      <td>24.0</td>\n",
              "      <td>never smoked</td>\n",
              "      <td>1</td>\n",
              "      <td>24.0</td>\n",
              "    </tr>\n",
              "  </tbody>\n",
              "</table>\n",
              "</div>\n",
              "      <button class=\"colab-df-convert\" onclick=\"convertToInteractive('df-6ee30226-a7d8-4a3b-a09d-91ef3cd81f21')\"\n",
              "              title=\"Convert this dataframe to an interactive table.\"\n",
              "              style=\"display:none;\">\n",
              "        \n",
              "  <svg xmlns=\"http://www.w3.org/2000/svg\" height=\"24px\"viewBox=\"0 0 24 24\"\n",
              "       width=\"24px\">\n",
              "    <path d=\"M0 0h24v24H0V0z\" fill=\"none\"/>\n",
              "    <path d=\"M18.56 5.44l.94 2.06.94-2.06 2.06-.94-2.06-.94-.94-2.06-.94 2.06-2.06.94zm-11 1L8.5 8.5l.94-2.06 2.06-.94-2.06-.94L8.5 2.5l-.94 2.06-2.06.94zm10 10l.94 2.06.94-2.06 2.06-.94-2.06-.94-.94-2.06-.94 2.06-2.06.94z\"/><path d=\"M17.41 7.96l-1.37-1.37c-.4-.4-.92-.59-1.43-.59-.52 0-1.04.2-1.43.59L10.3 9.45l-7.72 7.72c-.78.78-.78 2.05 0 2.83L4 21.41c.39.39.9.59 1.41.59.51 0 1.02-.2 1.41-.59l7.78-7.78 2.81-2.81c.8-.78.8-2.07 0-2.86zM5.41 20L4 18.59l7.72-7.72 1.47 1.35L5.41 20z\"/>\n",
              "  </svg>\n",
              "      </button>\n",
              "      \n",
              "  <style>\n",
              "    .colab-df-container {\n",
              "      display:flex;\n",
              "      flex-wrap:wrap;\n",
              "      gap: 12px;\n",
              "    }\n",
              "\n",
              "    .colab-df-convert {\n",
              "      background-color: #E8F0FE;\n",
              "      border: none;\n",
              "      border-radius: 50%;\n",
              "      cursor: pointer;\n",
              "      display: none;\n",
              "      fill: #1967D2;\n",
              "      height: 32px;\n",
              "      padding: 0 0 0 0;\n",
              "      width: 32px;\n",
              "    }\n",
              "\n",
              "    .colab-df-convert:hover {\n",
              "      background-color: #E2EBFA;\n",
              "      box-shadow: 0px 1px 2px rgba(60, 64, 67, 0.3), 0px 1px 3px 1px rgba(60, 64, 67, 0.15);\n",
              "      fill: #174EA6;\n",
              "    }\n",
              "\n",
              "    [theme=dark] .colab-df-convert {\n",
              "      background-color: #3B4455;\n",
              "      fill: #D2E3FC;\n",
              "    }\n",
              "\n",
              "    [theme=dark] .colab-df-convert:hover {\n",
              "      background-color: #434B5C;\n",
              "      box-shadow: 0px 1px 3px 1px rgba(0, 0, 0, 0.15);\n",
              "      filter: drop-shadow(0px 1px 2px rgba(0, 0, 0, 0.3));\n",
              "      fill: #FFFFFF;\n",
              "    }\n",
              "  </style>\n",
              "\n",
              "      <script>\n",
              "        const buttonEl =\n",
              "          document.querySelector('#df-6ee30226-a7d8-4a3b-a09d-91ef3cd81f21 button.colab-df-convert');\n",
              "        buttonEl.style.display =\n",
              "          google.colab.kernel.accessAllowed ? 'block' : 'none';\n",
              "\n",
              "        async function convertToInteractive(key) {\n",
              "          const element = document.querySelector('#df-6ee30226-a7d8-4a3b-a09d-91ef3cd81f21');\n",
              "          const dataTable =\n",
              "            await google.colab.kernel.invokeFunction('convertToInteractive',\n",
              "                                                     [key], {});\n",
              "          if (!dataTable) return;\n",
              "\n",
              "          const docLinkHtml = 'Like what you see? Visit the ' +\n",
              "            '<a target=\"_blank\" href=https://colab.research.google.com/notebooks/data_table.ipynb>data table notebook</a>'\n",
              "            + ' to learn more about interactive tables.';\n",
              "          element.innerHTML = '';\n",
              "          dataTable['output_type'] = 'display_data';\n",
              "          await google.colab.output.renderOutput(dataTable, element);\n",
              "          const docLink = document.createElement('div');\n",
              "          docLink.innerHTML = docLinkHtml;\n",
              "          element.appendChild(docLink);\n",
              "        }\n",
              "      </script>\n",
              "    </div>\n",
              "  </div>\n",
              "  "
            ]
          },
          "metadata": {},
          "execution_count": 12
        }
      ],
      "source": [
        "#Replacing the null values with median\n",
        "median=df.bmi.median()\n",
        "df['bmi_median'] =  df['bmi'].fillna(median)\n",
        "df.head()"
      ]
    },
    {
      "cell_type": "code",
      "execution_count": null,
      "metadata": {
        "colab": {
          "base_uri": "https://localhost:8080/",
          "height": 286
        },
        "id": "iJEInlo4lXfY",
        "outputId": "21d78bc5-ee43-4e9c-c0b9-f7baa02c83ef"
      },
      "outputs": [
        {
          "output_type": "execute_result",
          "data": {
            "text/plain": [
              "<matplotlib.legend.Legend at 0x7f9cbedf7400>"
            ]
          },
          "metadata": {},
          "execution_count": 13
        },
        {
          "output_type": "display_data",
          "data": {
            "text/plain": [
              "<Figure size 432x288 with 1 Axes>"
            ],
            "image/png": "[encoded data removed]"
          },
          "metadata": {
            "needs_background": "light"
          }
        }
      ],
      "source": [
        "#Plotting the variance distribution between the bmi and bmi_median\n",
        "fig = plt.figure()\n",
        "ax = fig.add_subplot(111)\n",
        "df1['bmi'].plot(kind='kde', ax=ax)\n",
        "df['bmi_median'].plot(kind='kde', ax=ax, color='orange')\n",
        "lines, labels = ax.get_legend_handles_labels()\n",
        "ax.legend(lines, labels, loc='best')"
      ]
    },
    {
      "cell_type": "code",
      "execution_count": null,
      "metadata": {
        "id": "yK6wsyT3l4_Z"
      },
      "outputs": [],
      "source": [
        "#Replacing the null values with random values\n",
        "df['bmi_random'] = df['bmi']\n",
        "random_sample_value = df['bmi'].dropna().sample(df['bmi'].isnull().sum(),random_state=0)\n",
        "random_sample_value.index = df[df['bmi'].isnull()].index\n",
        "df.loc[df['bmi'].isnull(),'bmi_random'] =random_sample_value"
      ]
    },
    {
      "cell_type": "code",
      "execution_count": null,
      "metadata": {
        "colab": {
          "base_uri": "https://localhost:8080/",
          "height": 206
        },
        "id": "JXLUnlPwy0vR",
        "outputId": "4d8e39c3-dd42-4ae6-e2b2-88985c1379e7"
      },
      "outputs": [
        {
          "data": {
            "text/html": [
              "\n",
              "  <div id=\"df-9aee0396-7b21-41f5-8756-2ed3db7920ae\">\n",
              "    <div class=\"colab-df-container\">\n",
              "      <div>\n",
              "<style scoped>\n",
              "    .dataframe tbody tr th:only-of-type {\n",
              "        vertical-align: middle;\n",
              "    }\n",
              "\n",
              "    .dataframe tbody tr th {\n",
              "        vertical-align: top;\n",
              "    }\n",
              "\n",
              "    .dataframe thead th {\n",
              "        text-align: right;\n",
              "    }\n",
              "</style>\n",
              "<table border=\"1\" class=\"dataframe\">\n",
              "  <thead>\n",
              "    <tr style=\"text-align: right;\">\n",
              "      <th></th>\n",
              "      <th>id</th>\n",
              "      <th>gender</th>\n",
              "      <th>age</th>\n",
              "      <th>hypertension</th>\n",
              "      <th>heart_disease</th>\n",
              "      <th>ever_married</th>\n",
              "      <th>work_type</th>\n",
              "      <th>Residence_type</th>\n",
              "      <th>avg_glucose_level</th>\n",
              "      <th>bmi</th>\n",
              "      <th>smoking_status</th>\n",
              "      <th>stroke</th>\n",
              "      <th>bmi_median</th>\n",
              "      <th>bmi_random</th>\n",
              "    </tr>\n",
              "  </thead>\n",
              "  <tbody>\n",
              "    <tr>\n",
              "      <th>0</th>\n",
              "      <td>9046</td>\n",
              "      <td>Male</td>\n",
              "      <td>67.0</td>\n",
              "      <td>0</td>\n",
              "      <td>1</td>\n",
              "      <td>Yes</td>\n",
              "      <td>Private</td>\n",
              "      <td>Urban</td>\n",
              "      <td>228.69</td>\n",
              "      <td>36.6</td>\n",
              "      <td>formerly smoked</td>\n",
              "      <td>1</td>\n",
              "      <td>36.6</td>\n",
              "      <td>36.6</td>\n",
              "    </tr>\n",
              "    <tr>\n",
              "      <th>1</th>\n",
              "      <td>51676</td>\n",
              "      <td>Female</td>\n",
              "      <td>61.0</td>\n",
              "      <td>0</td>\n",
              "      <td>0</td>\n",
              "      <td>Yes</td>\n",
              "      <td>Self-employed</td>\n",
              "      <td>Rural</td>\n",
              "      <td>202.21</td>\n",
              "      <td>NaN</td>\n",
              "      <td>never smoked</td>\n",
              "      <td>1</td>\n",
              "      <td>28.1</td>\n",
              "      <td>27.3</td>\n",
              "    </tr>\n",
              "    <tr>\n",
              "      <th>2</th>\n",
              "      <td>31112</td>\n",
              "      <td>Male</td>\n",
              "      <td>80.0</td>\n",
              "      <td>0</td>\n",
              "      <td>1</td>\n",
              "      <td>Yes</td>\n",
              "      <td>Private</td>\n",
              "      <td>Rural</td>\n",
              "      <td>105.92</td>\n",
              "      <td>32.5</td>\n",
              "      <td>never smoked</td>\n",
              "      <td>1</td>\n",
              "      <td>32.5</td>\n",
              "      <td>32.5</td>\n",
              "    </tr>\n",
              "    <tr>\n",
              "      <th>3</th>\n",
              "      <td>60182</td>\n",
              "      <td>Female</td>\n",
              "      <td>49.0</td>\n",
              "      <td>0</td>\n",
              "      <td>0</td>\n",
              "      <td>Yes</td>\n",
              "      <td>Private</td>\n",
              "      <td>Urban</td>\n",
              "      <td>171.23</td>\n",
              "      <td>34.4</td>\n",
              "      <td>smokes</td>\n",
              "      <td>1</td>\n",
              "      <td>34.4</td>\n",
              "      <td>34.4</td>\n",
              "    </tr>\n",
              "    <tr>\n",
              "      <th>4</th>\n",
              "      <td>1665</td>\n",
              "      <td>Female</td>\n",
              "      <td>79.0</td>\n",
              "      <td>1</td>\n",
              "      <td>0</td>\n",
              "      <td>Yes</td>\n",
              "      <td>Self-employed</td>\n",
              "      <td>Rural</td>\n",
              "      <td>174.12</td>\n",
              "      <td>24.0</td>\n",
              "      <td>never smoked</td>\n",
              "      <td>1</td>\n",
              "      <td>24.0</td>\n",
              "      <td>24.0</td>\n",
              "    </tr>\n",
              "  </tbody>\n",
              "</table>\n",
              "</div>\n",
              "      <button class=\"colab-df-convert\" onclick=\"convertToInteractive('df-9aee0396-7b21-41f5-8756-2ed3db7920ae')\"\n",
              "              title=\"Convert this dataframe to an interactive table.\"\n",
              "              style=\"display:none;\">\n",
              "        \n",
              "  <svg xmlns=\"http://www.w3.org/2000/svg\" height=\"24px\"viewBox=\"0 0 24 24\"\n",
              "       width=\"24px\">\n",
              "    <path d=\"M0 0h24v24H0V0z\" fill=\"none\"/>\n",
              "    <path d=\"M18.56 5.44l.94 2.06.94-2.06 2.06-.94-2.06-.94-.94-2.06-.94 2.06-2.06.94zm-11 1L8.5 8.5l.94-2.06 2.06-.94-2.06-.94L8.5 2.5l-.94 2.06-2.06.94zm10 10l.94 2.06.94-2.06 2.06-.94-2.06-.94-.94-2.06-.94 2.06-2.06.94z\"/><path d=\"M17.41 7.96l-1.37-1.37c-.4-.4-.92-.59-1.43-.59-.52 0-1.04.2-1.43.59L10.3 9.45l-7.72 7.72c-.78.78-.78 2.05 0 2.83L4 21.41c.39.39.9.59 1.41.59.51 0 1.02-.2 1.41-.59l7.78-7.78 2.81-2.81c.8-.78.8-2.07 0-2.86zM5.41 20L4 18.59l7.72-7.72 1.47 1.35L5.41 20z\"/>\n",
              "  </svg>\n",
              "      </button>\n",
              "      \n",
              "  <style>\n",
              "    .colab-df-container {\n",
              "      display:flex;\n",
              "      flex-wrap:wrap;\n",
              "      gap: 12px;\n",
              "    }\n",
              "\n",
              "    .colab-df-convert {\n",
              "      background-color: #E8F0FE;\n",
              "      border: none;\n",
              "      border-radius: 50%;\n",
              "      cursor: pointer;\n",
              "      display: none;\n",
              "      fill: #1967D2;\n",
              "      height: 32px;\n",
              "      padding: 0 0 0 0;\n",
              "      width: 32px;\n",
              "    }\n",
              "\n",
              "    .colab-df-convert:hover {\n",
              "      background-color: #E2EBFA;\n",
              "      box-shadow: 0px 1px 2px rgba(60, 64, 67, 0.3), 0px 1px 3px 1px rgba(60, 64, 67, 0.15);\n",
              "      fill: #174EA6;\n",
              "    }\n",
              "\n",
              "    [theme=dark] .colab-df-convert {\n",
              "      background-color: #3B4455;\n",
              "      fill: #D2E3FC;\n",
              "    }\n",
              "\n",
              "    [theme=dark] .colab-df-convert:hover {\n",
              "      background-color: #434B5C;\n",
              "      box-shadow: 0px 1px 3px 1px rgba(0, 0, 0, 0.15);\n",
              "      filter: drop-shadow(0px 1px 2px rgba(0, 0, 0, 0.3));\n",
              "      fill: #FFFFFF;\n",
              "    }\n",
              "  </style>\n",
              "\n",
              "      <script>\n",
              "        const buttonEl =\n",
              "          document.querySelector('#df-9aee0396-7b21-41f5-8756-2ed3db7920ae button.colab-df-convert');\n",
              "        buttonEl.style.display =\n",
              "          google.colab.kernel.accessAllowed ? 'block' : 'none';\n",
              "\n",
              "        async function convertToInteractive(key) {\n",
              "          const element = document.querySelector('#df-9aee0396-7b21-41f5-8756-2ed3db7920ae');\n",
              "          const dataTable =\n",
              "            await google.colab.kernel.invokeFunction('convertToInteractive',\n",
              "                                                     [key], {});\n",
              "          if (!dataTable) return;\n",
              "\n",
              "          const docLinkHtml = 'Like what you see? Visit the ' +\n",
              "            '<a target=\"_blank\" href=https://colab.research.google.com/notebooks/data_table.ipynb>data table notebook</a>'\n",
              "            + ' to learn more about interactive tables.';\n",
              "          element.innerHTML = '';\n",
              "          dataTable['output_type'] = 'display_data';\n",
              "          await google.colab.output.renderOutput(dataTable, element);\n",
              "          const docLink = document.createElement('div');\n",
              "          docLink.innerHTML = docLinkHtml;\n",
              "          element.appendChild(docLink);\n",
              "        }\n",
              "      </script>\n",
              "    </div>\n",
              "  </div>\n",
              "  "
            ],
            "text/plain": [
              "      id  gender   age  hypertension  heart_disease ever_married  \\\n",
              "0   9046    Male  67.0             0              1          Yes   \n",
              "1  51676  Female  61.0             0              0          Yes   \n",
              "2  31112    Male  80.0             0              1          Yes   \n",
              "3  60182  Female  49.0             0              0          Yes   \n",
              "4   1665  Female  79.0             1              0          Yes   \n",
              "\n",
              "       work_type Residence_type  avg_glucose_level   bmi   smoking_status  \\\n",
              "0        Private          Urban             228.69  36.6  formerly smoked   \n",
              "1  Self-employed          Rural             202.21   NaN     never smoked   \n",
              "2        Private          Rural             105.92  32.5     never smoked   \n",
              "3        Private          Urban             171.23  34.4           smokes   \n",
              "4  Self-employed          Rural             174.12  24.0     never smoked   \n",
              "\n",
              "   stroke  bmi_median  bmi_random  \n",
              "0       1        36.6        36.6  \n",
              "1       1        28.1        27.3  \n",
              "2       1        32.5        32.5  \n",
              "3       1        34.4        34.4  \n",
              "4       1        24.0        24.0  "
            ]
          },
          "execution_count": 173,
          "metadata": {},
          "output_type": "execute_result"
        }
      ],
      "source": [
        "df.head()"
      ]
    },
    {
      "cell_type": "code",
      "execution_count": null,
      "metadata": {
        "colab": {
          "base_uri": "https://localhost:8080/",
          "height": 283
        },
        "id": "4iNb7YCfywiS",
        "outputId": "79d13dc4-ea59-4729-9e97-8e16b5e534c0"
      },
      "outputs": [
        {
          "output_type": "execute_result",
          "data": {
            "text/plain": [
              "<matplotlib.legend.Legend at 0x7f9cba449f70>"
            ]
          },
          "metadata": {},
          "execution_count": 15
        },
        {
          "output_type": "display_data",
          "data": {
            "text/plain": [
              "<Figure size 432x288 with 1 Axes>"
            ],
            "image/png": "[encoded data removed]"
          },
          "metadata": {
            "needs_background": "light"
          }
        }
      ],
      "source": [
        "#Plotting the variance distribution between the bmi and bmi_random\n",
        "import matplotlib.pyplot as plt\n",
        "fig = plt.figure()\n",
        "ax = fig.add_subplot(111)\n",
        "df1['bmi'].plot(kind='kde', ax=ax)\n",
        "df['bmi_random'].plot(kind='kde', ax=ax, color='orange')\n",
        "lines, labels = ax.get_legend_handles_labels()\n",
        "ax.legend(lines, labels, loc='best')"
      ]
    },
    {
      "cell_type": "code",
      "execution_count": null,
      "metadata": {
        "colab": {
          "base_uri": "https://localhost:8080/",
          "height": 298
        },
        "id": "XU4LsQEZzPFA",
        "outputId": "266ed370-8f0d-4508-cbce-4e5c11ec42b5"
      },
      "outputs": [
        {
          "output_type": "execute_result",
          "data": {
            "text/plain": [
              "Text(0.5, 1.0, 'Variance Distribution between bmi,bmi_median and bmi_random ')"
            ]
          },
          "metadata": {},
          "execution_count": 16
        },
        {
          "output_type": "display_data",
          "data": {
            "text/plain": [
              "<Figure size 432x288 with 1 Axes>"
            ],
            "image/png": "[encoded data removed]"
          },
          "metadata": {
            "needs_background": "light"
          }
        }
      ],
      "source": [
        "#Plotting the variance distribution between the bmi, bmi_median and bmi_random\n",
        "df1.bmi.plot(kind='kde',color='b')\n",
        "df.bmi_median.plot(kind='kde',color='green')\n",
        "df.bmi_random.plot(kind='kde',color='orange')\n",
        "plt.legend()\n",
        "plt.title(\"Variance Distribution between bmi,bmi_median and bmi_random \")"
      ]
    },
    {
      "cell_type": "code",
      "execution_count": null,
      "metadata": {
        "colab": {
          "base_uri": "https://localhost:8080/"
        },
        "id": "pT-fS34U4ySV",
        "outputId": "ffb60600-0164-47de-afdd-23f8b431a2b7"
      },
      "outputs": [
        {
          "output_type": "stream",
          "name": "stdout",
          "text": [
            "0.04237366114923359\n",
            "0.04237366114923359\n",
            "0.03610996321537815\n",
            "0.03148123053621638\n"
          ]
        }
      ],
      "source": [
        "#Get the corelation of the bmi columns over target\n",
        "print(df['bmi'].corr(df['stroke']))\n",
        "print(df1['bmi'].corr(df1['stroke']))\n",
        "print(df['bmi_median'].corr(df['stroke']))\n",
        "print(df['bmi_random'].corr(df['stroke']))"
      ]
    },
    {
      "cell_type": "code",
      "execution_count": null,
      "metadata": {
        "colab": {
          "base_uri": "https://localhost:8080/",
          "height": 244
        },
        "id": "p-WUOhBd6Ss5",
        "outputId": "08c49aa6-e305-4ab7-95a9-9f5b7fb36bc9"
      },
      "outputs": [
        {
          "output_type": "execute_result",
          "data": {
            "text/plain": [
              "<pandas.io.formats.style.Styler at 0x7f9cf74daf70>"
            ],
            "text/html": [
              "<style type=\"text/css\">\n",
              "#T_a8321 th {\n",
              "  font-size: 7pt;\n",
              "}\n",
              "#T_a8321 td {\n",
              "  padding: 0em 0em;\n",
              "}\n",
              "#T_a8321 th:hover {\n",
              "  font-size: 12pt;\n",
              "}\n",
              "#T_a8321 tr:hover td:hover {\n",
              "  max-width: 200px;\n",
              "  font-size: 12pt;\n",
              "}\n",
              "#T_a8321_row0_col0, #T_a8321_row1_col1, #T_a8321_row2_col2, #T_a8321_row3_col3, #T_a8321_row4_col4, #T_a8321_row5_col5, #T_a8321_row5_col7, #T_a8321_row5_col8, #T_a8321_row6_col6, #T_a8321_row7_col5, #T_a8321_row7_col7, #T_a8321_row8_col5, #T_a8321_row8_col8 {\n",
              "  background-color: #4479bb;\n",
              "  color: #f1f1f1;\n",
              "  max-width: 80px;\n",
              "  font-size: 10pt;\n",
              "}\n",
              "#T_a8321_row0_col1, #T_a8321_row0_col2, #T_a8321_row0_col5, #T_a8321_row0_col6, #T_a8321_row0_col7 {\n",
              "  background-color: #da3c48;\n",
              "  color: #f1f1f1;\n",
              "  max-width: 80px;\n",
              "  font-size: 10pt;\n",
              "}\n",
              "#T_a8321_row0_col3, #T_a8321_row0_col4, #T_a8321_row1_col0, #T_a8321_row2_col0, #T_a8321_row3_col0, #T_a8321_row4_col0, #T_a8321_row5_col0, #T_a8321_row6_col0, #T_a8321_row7_col0, #T_a8321_row8_col0 {\n",
              "  background-color: #da3b46;\n",
              "  color: #f1f1f1;\n",
              "  max-width: 80px;\n",
              "  font-size: 10pt;\n",
              "}\n",
              "#T_a8321_row0_col8 {\n",
              "  background-color: #da3d49;\n",
              "  color: #f1f1f1;\n",
              "  max-width: 80px;\n",
              "  font-size: 10pt;\n",
              "}\n",
              "#T_a8321_row1_col2, #T_a8321_row2_col1 {\n",
              "  background-color: #e79fa5;\n",
              "  color: #000000;\n",
              "  max-width: 80px;\n",
              "  font-size: 10pt;\n",
              "}\n",
              "#T_a8321_row1_col3 {\n",
              "  background-color: #e79a9f;\n",
              "  color: #000000;\n",
              "  max-width: 80px;\n",
              "  font-size: 10pt;\n",
              "}\n",
              "#T_a8321_row1_col4, #T_a8321_row4_col1 {\n",
              "  background-color: #e59097;\n",
              "  color: #f1f1f1;\n",
              "  max-width: 80px;\n",
              "  font-size: 10pt;\n",
              "}\n",
              "#T_a8321_row1_col5, #T_a8321_row5_col1 {\n",
              "  background-color: #eab3b7;\n",
              "  color: #000000;\n",
              "  max-width: 80px;\n",
              "  font-size: 10pt;\n",
              "}\n",
              "#T_a8321_row1_col6 {\n",
              "  background-color: #e69399;\n",
              "  color: #f1f1f1;\n",
              "  max-width: 80px;\n",
              "  font-size: 10pt;\n",
              "}\n",
              "#T_a8321_row1_col7, #T_a8321_row7_col1 {\n",
              "  background-color: #eab0b5;\n",
              "  color: #000000;\n",
              "  max-width: 80px;\n",
              "  font-size: 10pt;\n",
              "}\n",
              "#T_a8321_row1_col8 {\n",
              "  background-color: #eaafb3;\n",
              "  color: #000000;\n",
              "  max-width: 80px;\n",
              "  font-size: 10pt;\n",
              "}\n",
              "#T_a8321_row2_col3 {\n",
              "  background-color: #df6069;\n",
              "  color: #f1f1f1;\n",
              "  max-width: 80px;\n",
              "  font-size: 10pt;\n",
              "}\n",
              "#T_a8321_row2_col4 {\n",
              "  background-color: #e27880;\n",
              "  color: #f1f1f1;\n",
              "  max-width: 80px;\n",
              "  font-size: 10pt;\n",
              "}\n",
              "#T_a8321_row2_col5, #T_a8321_row4_col7, #T_a8321_row4_col8, #T_a8321_row5_col2 {\n",
              "  background-color: #e2777f;\n",
              "  color: #f1f1f1;\n",
              "  max-width: 80px;\n",
              "  font-size: 10pt;\n",
              "}\n",
              "#T_a8321_row2_col6, #T_a8321_row6_col2 {\n",
              "  background-color: #e06770;\n",
              "  color: #f1f1f1;\n",
              "  max-width: 80px;\n",
              "  font-size: 10pt;\n",
              "}\n",
              "#T_a8321_row2_col7, #T_a8321_row2_col8, #T_a8321_row7_col2 {\n",
              "  background-color: #e1727b;\n",
              "  color: #f1f1f1;\n",
              "  max-width: 80px;\n",
              "  font-size: 10pt;\n",
              "}\n",
              "#T_a8321_row3_col1 {\n",
              "  background-color: #e79ba1;\n",
              "  color: #000000;\n",
              "  max-width: 80px;\n",
              "  font-size: 10pt;\n",
              "}\n",
              "#T_a8321_row3_col2 {\n",
              "  background-color: #df636c;\n",
              "  color: #f1f1f1;\n",
              "  max-width: 80px;\n",
              "  font-size: 10pt;\n",
              "}\n",
              "#T_a8321_row3_col4, #T_a8321_row4_col3, #T_a8321_row7_col4 {\n",
              "  background-color: #e2757d;\n",
              "  color: #f1f1f1;\n",
              "  max-width: 80px;\n",
              "  font-size: 10pt;\n",
              "}\n",
              "#T_a8321_row3_col5, #T_a8321_row5_col6 {\n",
              "  background-color: #dc4954;\n",
              "  color: #f1f1f1;\n",
              "  max-width: 80px;\n",
              "  font-size: 10pt;\n",
              "}\n",
              "#T_a8321_row3_col6 {\n",
              "  background-color: #e06b74;\n",
              "  color: #f1f1f1;\n",
              "  max-width: 80px;\n",
              "  font-size: 10pt;\n",
              "}\n",
              "#T_a8321_row3_col7, #T_a8321_row5_col3, #T_a8321_row6_col5 {\n",
              "  background-color: #dc4752;\n",
              "  color: #f1f1f1;\n",
              "  max-width: 80px;\n",
              "  font-size: 10pt;\n",
              "}\n",
              "#T_a8321_row3_col8 {\n",
              "  background-color: #dc4a55;\n",
              "  color: #f1f1f1;\n",
              "  max-width: 80px;\n",
              "  font-size: 10pt;\n",
              "}\n",
              "#T_a8321_row4_col2, #T_a8321_row4_col5, #T_a8321_row5_col4 {\n",
              "  background-color: #e27981;\n",
              "  color: #f1f1f1;\n",
              "  max-width: 80px;\n",
              "  font-size: 10pt;\n",
              "}\n",
              "#T_a8321_row4_col6, #T_a8321_row6_col3 {\n",
              "  background-color: #e06a73;\n",
              "  color: #f1f1f1;\n",
              "  max-width: 80px;\n",
              "  font-size: 10pt;\n",
              "}\n",
              "#T_a8321_row6_col1 {\n",
              "  background-color: #e69298;\n",
              "  color: #f1f1f1;\n",
              "  max-width: 80px;\n",
              "  font-size: 10pt;\n",
              "}\n",
              "#T_a8321_row6_col4 {\n",
              "  background-color: #e06871;\n",
              "  color: #f1f1f1;\n",
              "  max-width: 80px;\n",
              "  font-size: 10pt;\n",
              "}\n",
              "#T_a8321_row6_col7, #T_a8321_row7_col6 {\n",
              "  background-color: #db4550;\n",
              "  color: #f1f1f1;\n",
              "  max-width: 80px;\n",
              "  font-size: 10pt;\n",
              "}\n",
              "#T_a8321_row6_col8 {\n",
              "  background-color: #db434e;\n",
              "  color: #f1f1f1;\n",
              "  max-width: 80px;\n",
              "  font-size: 10pt;\n",
              "}\n",
              "#T_a8321_row7_col3, #T_a8321_row8_col3 {\n",
              "  background-color: #db4651;\n",
              "  color: #f1f1f1;\n",
              "  max-width: 80px;\n",
              "  font-size: 10pt;\n",
              "}\n",
              "#T_a8321_row7_col8, #T_a8321_row8_col7 {\n",
              "  background-color: #497dbc;\n",
              "  color: #f1f1f1;\n",
              "  max-width: 80px;\n",
              "  font-size: 10pt;\n",
              "}\n",
              "#T_a8321_row8_col1 {\n",
              "  background-color: #e9aeb2;\n",
              "  color: #000000;\n",
              "  max-width: 80px;\n",
              "  font-size: 10pt;\n",
              "}\n",
              "#T_a8321_row8_col2 {\n",
              "  background-color: #e17179;\n",
              "  color: #f1f1f1;\n",
              "  max-width: 80px;\n",
              "  font-size: 10pt;\n",
              "}\n",
              "#T_a8321_row8_col4 {\n",
              "  background-color: #e2747c;\n",
              "  color: #f1f1f1;\n",
              "  max-width: 80px;\n",
              "  font-size: 10pt;\n",
              "}\n",
              "#T_a8321_row8_col6 {\n",
              "  background-color: #db424d;\n",
              "  color: #f1f1f1;\n",
              "  max-width: 80px;\n",
              "  font-size: 10pt;\n",
              "}\n",
              "</style>\n",
              "<table id=\"T_a8321\" class=\"dataframe\">\n",
              "  <caption>Hover to magify</caption>\n",
              "  <thead>\n",
              "    <tr>\n",
              "      <th class=\"blank level0\" >&nbsp;</th>\n",
              "      <th id=\"T_a8321_level0_col0\" class=\"col_heading level0 col0\" >id</th>\n",
              "      <th id=\"T_a8321_level0_col1\" class=\"col_heading level0 col1\" >age</th>\n",
              "      <th id=\"T_a8321_level0_col2\" class=\"col_heading level0 col2\" >hypertension</th>\n",
              "      <th id=\"T_a8321_level0_col3\" class=\"col_heading level0 col3\" >heart_disease</th>\n",
              "      <th id=\"T_a8321_level0_col4\" class=\"col_heading level0 col4\" >avg_glucose_level</th>\n",
              "      <th id=\"T_a8321_level0_col5\" class=\"col_heading level0 col5\" >bmi</th>\n",
              "      <th id=\"T_a8321_level0_col6\" class=\"col_heading level0 col6\" >stroke</th>\n",
              "      <th id=\"T_a8321_level0_col7\" class=\"col_heading level0 col7\" >bmi_median</th>\n",
              "      <th id=\"T_a8321_level0_col8\" class=\"col_heading level0 col8\" >bmi_random</th>\n",
              "    </tr>\n",
              "  </thead>\n",
              "  <tbody>\n",
              "    <tr>\n",
              "      <th id=\"T_a8321_level0_row0\" class=\"row_heading level0 row0\" >id</th>\n",
              "      <td id=\"T_a8321_row0_col0\" class=\"data row0 col0\" >1.00</td>\n",
              "      <td id=\"T_a8321_row0_col1\" class=\"data row0 col1\" >0.00</td>\n",
              "      <td id=\"T_a8321_row0_col2\" class=\"data row0 col2\" >0.00</td>\n",
              "      <td id=\"T_a8321_row0_col3\" class=\"data row0 col3\" >-0.00</td>\n",
              "      <td id=\"T_a8321_row0_col4\" class=\"data row0 col4\" >0.00</td>\n",
              "      <td id=\"T_a8321_row0_col5\" class=\"data row0 col5\" >0.00</td>\n",
              "      <td id=\"T_a8321_row0_col6\" class=\"data row0 col6\" >0.01</td>\n",
              "      <td id=\"T_a8321_row0_col7\" class=\"data row0 col7\" >0.01</td>\n",
              "      <td id=\"T_a8321_row0_col8\" class=\"data row0 col8\" >0.01</td>\n",
              "    </tr>\n",
              "    <tr>\n",
              "      <th id=\"T_a8321_level0_row1\" class=\"row_heading level0 row1\" >age</th>\n",
              "      <td id=\"T_a8321_row1_col0\" class=\"data row1 col0\" >0.00</td>\n",
              "      <td id=\"T_a8321_row1_col1\" class=\"data row1 col1\" >1.00</td>\n",
              "      <td id=\"T_a8321_row1_col2\" class=\"data row1 col2\" >0.28</td>\n",
              "      <td id=\"T_a8321_row1_col3\" class=\"data row1 col3\" >0.26</td>\n",
              "      <td id=\"T_a8321_row1_col4\" class=\"data row1 col4\" >0.24</td>\n",
              "      <td id=\"T_a8321_row1_col5\" class=\"data row1 col5\" >0.33</td>\n",
              "      <td id=\"T_a8321_row1_col6\" class=\"data row1 col6\" >0.25</td>\n",
              "      <td id=\"T_a8321_row1_col7\" class=\"data row1 col7\" >0.32</td>\n",
              "      <td id=\"T_a8321_row1_col8\" class=\"data row1 col8\" >0.32</td>\n",
              "    </tr>\n",
              "    <tr>\n",
              "      <th id=\"T_a8321_level0_row2\" class=\"row_heading level0 row2\" >hypertension</th>\n",
              "      <td id=\"T_a8321_row2_col0\" class=\"data row2 col0\" >0.00</td>\n",
              "      <td id=\"T_a8321_row2_col1\" class=\"data row2 col1\" >0.28</td>\n",
              "      <td id=\"T_a8321_row2_col2\" class=\"data row2 col2\" >1.00</td>\n",
              "      <td id=\"T_a8321_row2_col3\" class=\"data row2 col3\" >0.11</td>\n",
              "      <td id=\"T_a8321_row2_col4\" class=\"data row2 col4\" >0.17</td>\n",
              "      <td id=\"T_a8321_row2_col5\" class=\"data row2 col5\" >0.17</td>\n",
              "      <td id=\"T_a8321_row2_col6\" class=\"data row2 col6\" >0.13</td>\n",
              "      <td id=\"T_a8321_row2_col7\" class=\"data row2 col7\" >0.16</td>\n",
              "      <td id=\"T_a8321_row2_col8\" class=\"data row2 col8\" >0.16</td>\n",
              "    </tr>\n",
              "    <tr>\n",
              "      <th id=\"T_a8321_level0_row3\" class=\"row_heading level0 row3\" >heart_disease</th>\n",
              "      <td id=\"T_a8321_row3_col0\" class=\"data row3 col0\" >-0.00</td>\n",
              "      <td id=\"T_a8321_row3_col1\" class=\"data row3 col1\" >0.26</td>\n",
              "      <td id=\"T_a8321_row3_col2\" class=\"data row3 col2\" >0.11</td>\n",
              "      <td id=\"T_a8321_row3_col3\" class=\"data row3 col3\" >1.00</td>\n",
              "      <td id=\"T_a8321_row3_col4\" class=\"data row3 col4\" >0.16</td>\n",
              "      <td id=\"T_a8321_row3_col5\" class=\"data row3 col5\" >0.04</td>\n",
              "      <td id=\"T_a8321_row3_col6\" class=\"data row3 col6\" >0.13</td>\n",
              "      <td id=\"T_a8321_row3_col7\" class=\"data row3 col7\" >0.04</td>\n",
              "      <td id=\"T_a8321_row3_col8\" class=\"data row3 col8\" >0.04</td>\n",
              "    </tr>\n",
              "    <tr>\n",
              "      <th id=\"T_a8321_level0_row4\" class=\"row_heading level0 row4\" >avg_glucose_level</th>\n",
              "      <td id=\"T_a8321_row4_col0\" class=\"data row4 col0\" >0.00</td>\n",
              "      <td id=\"T_a8321_row4_col1\" class=\"data row4 col1\" >0.24</td>\n",
              "      <td id=\"T_a8321_row4_col2\" class=\"data row4 col2\" >0.17</td>\n",
              "      <td id=\"T_a8321_row4_col3\" class=\"data row4 col3\" >0.16</td>\n",
              "      <td id=\"T_a8321_row4_col4\" class=\"data row4 col4\" >1.00</td>\n",
              "      <td id=\"T_a8321_row4_col5\" class=\"data row4 col5\" >0.18</td>\n",
              "      <td id=\"T_a8321_row4_col6\" class=\"data row4 col6\" >0.13</td>\n",
              "      <td id=\"T_a8321_row4_col7\" class=\"data row4 col7\" >0.17</td>\n",
              "      <td id=\"T_a8321_row4_col8\" class=\"data row4 col8\" >0.17</td>\n",
              "    </tr>\n",
              "    <tr>\n",
              "      <th id=\"T_a8321_level0_row5\" class=\"row_heading level0 row5\" >bmi</th>\n",
              "      <td id=\"T_a8321_row5_col0\" class=\"data row5 col0\" >0.00</td>\n",
              "      <td id=\"T_a8321_row5_col1\" class=\"data row5 col1\" >0.33</td>\n",
              "      <td id=\"T_a8321_row5_col2\" class=\"data row5 col2\" >0.17</td>\n",
              "      <td id=\"T_a8321_row5_col3\" class=\"data row5 col3\" >0.04</td>\n",
              "      <td id=\"T_a8321_row5_col4\" class=\"data row5 col4\" >0.18</td>\n",
              "      <td id=\"T_a8321_row5_col5\" class=\"data row5 col5\" >1.00</td>\n",
              "      <td id=\"T_a8321_row5_col6\" class=\"data row5 col6\" >0.04</td>\n",
              "      <td id=\"T_a8321_row5_col7\" class=\"data row5 col7\" >1.00</td>\n",
              "      <td id=\"T_a8321_row5_col8\" class=\"data row5 col8\" >1.00</td>\n",
              "    </tr>\n",
              "    <tr>\n",
              "      <th id=\"T_a8321_level0_row6\" class=\"row_heading level0 row6\" >stroke</th>\n",
              "      <td id=\"T_a8321_row6_col0\" class=\"data row6 col0\" >0.01</td>\n",
              "      <td id=\"T_a8321_row6_col1\" class=\"data row6 col1\" >0.25</td>\n",
              "      <td id=\"T_a8321_row6_col2\" class=\"data row6 col2\" >0.13</td>\n",
              "      <td id=\"T_a8321_row6_col3\" class=\"data row6 col3\" >0.13</td>\n",
              "      <td id=\"T_a8321_row6_col4\" class=\"data row6 col4\" >0.13</td>\n",
              "      <td id=\"T_a8321_row6_col5\" class=\"data row6 col5\" >0.04</td>\n",
              "      <td id=\"T_a8321_row6_col6\" class=\"data row6 col6\" >1.00</td>\n",
              "      <td id=\"T_a8321_row6_col7\" class=\"data row6 col7\" >0.04</td>\n",
              "      <td id=\"T_a8321_row6_col8\" class=\"data row6 col8\" >0.03</td>\n",
              "    </tr>\n",
              "    <tr>\n",
              "      <th id=\"T_a8321_level0_row7\" class=\"row_heading level0 row7\" >bmi_median</th>\n",
              "      <td id=\"T_a8321_row7_col0\" class=\"data row7 col0\" >0.01</td>\n",
              "      <td id=\"T_a8321_row7_col1\" class=\"data row7 col1\" >0.32</td>\n",
              "      <td id=\"T_a8321_row7_col2\" class=\"data row7 col2\" >0.16</td>\n",
              "      <td id=\"T_a8321_row7_col3\" class=\"data row7 col3\" >0.04</td>\n",
              "      <td id=\"T_a8321_row7_col4\" class=\"data row7 col4\" >0.17</td>\n",
              "      <td id=\"T_a8321_row7_col5\" class=\"data row7 col5\" >1.00</td>\n",
              "      <td id=\"T_a8321_row7_col6\" class=\"data row7 col6\" >0.04</td>\n",
              "      <td id=\"T_a8321_row7_col7\" class=\"data row7 col7\" >1.00</td>\n",
              "      <td id=\"T_a8321_row7_col8\" class=\"data row7 col8\" >0.98</td>\n",
              "    </tr>\n",
              "    <tr>\n",
              "      <th id=\"T_a8321_level0_row8\" class=\"row_heading level0 row8\" >bmi_random</th>\n",
              "      <td id=\"T_a8321_row8_col0\" class=\"data row8 col0\" >0.01</td>\n",
              "      <td id=\"T_a8321_row8_col1\" class=\"data row8 col1\" >0.32</td>\n",
              "      <td id=\"T_a8321_row8_col2\" class=\"data row8 col2\" >0.16</td>\n",
              "      <td id=\"T_a8321_row8_col3\" class=\"data row8 col3\" >0.04</td>\n",
              "      <td id=\"T_a8321_row8_col4\" class=\"data row8 col4\" >0.17</td>\n",
              "      <td id=\"T_a8321_row8_col5\" class=\"data row8 col5\" >1.00</td>\n",
              "      <td id=\"T_a8321_row8_col6\" class=\"data row8 col6\" >0.03</td>\n",
              "      <td id=\"T_a8321_row8_col7\" class=\"data row8 col7\" >0.98</td>\n",
              "      <td id=\"T_a8321_row8_col8\" class=\"data row8 col8\" >1.00</td>\n",
              "    </tr>\n",
              "  </tbody>\n",
              "</table>\n"
            ]
          },
          "metadata": {},
          "execution_count": 18
        }
      ],
      "source": [
        "#corelation matrix\n",
        "correlation  = df.corr()\n",
        "cmap=sb.diverging_palette(10, 250, as_cmap=True)\n",
        "\n",
        "def magnify():\n",
        "    return [dict(selector=\"th\",\n",
        "                 props=[(\"font-size\", \"7pt\")]),\n",
        "            dict(selector=\"td\",\n",
        "                 props=[('padding', \"0em 0em\")]),\n",
        "            dict(selector=\"th:hover\",\n",
        "                 props=[(\"font-size\", \"12pt\")]),\n",
        "            dict(selector=\"tr:hover td:hover\",\n",
        "                 props=[('max-width', '200px'),\n",
        "                        ('font-size', '12pt')])\n",
        "]\n",
        "\n",
        "correlation.style.background_gradient(cmap, axis=1)\\\n",
        "    .set_properties(**{'max-width': '80px', 'font-size': '10pt'})\\\n",
        "    .set_caption(\"Hover to magify\")\\\n",
        "    .set_precision(2)\\\n",
        "    .set_table_styles(magnify())"
      ]
    },
    {
      "cell_type": "code",
      "execution_count": null,
      "metadata": {
        "colab": {
          "base_uri": "https://localhost:8080/",
          "height": 331
        },
        "id": "N9_qxeXx-hdp",
        "outputId": "5d964a82-4ecd-4066-d1bc-6fa3cb6b089e"
      },
      "outputs": [
        {
          "output_type": "execute_result",
          "data": {
            "text/plain": [
              "                         id       age  hypertension  heart_disease  \\\n",
              "id                 1.000000  0.003538      0.003550      -0.001296   \n",
              "age                0.003538  1.000000      0.276398       0.263796   \n",
              "hypertension       0.003550  0.276398      1.000000       0.108306   \n",
              "heart_disease     -0.001296  0.263796      0.108306       1.000000   \n",
              "avg_glucose_level  0.001092  0.238171      0.174474       0.161857   \n",
              "bmi                0.003084  0.333398      0.167811       0.041357   \n",
              "stroke             0.006388  0.245257      0.127904       0.134914   \n",
              "bmi_median         0.005555  0.324296      0.158293       0.036916   \n",
              "bmi_random         0.009116  0.319039      0.159008       0.043491   \n",
              "\n",
              "                   avg_glucose_level       bmi    stroke  bmi_median  \\\n",
              "id                          0.001092  0.003084  0.006388    0.005555   \n",
              "age                         0.238171  0.333398  0.245257    0.324296   \n",
              "hypertension                0.174474  0.167811  0.127904    0.158293   \n",
              "heart_disease               0.161857  0.041357  0.134914    0.036916   \n",
              "avg_glucose_level           1.000000  0.175502  0.131945    0.166876   \n",
              "bmi                         0.175502  1.000000  0.042374    1.000000   \n",
              "stroke                      0.131945  0.042374  1.000000    0.036110   \n",
              "bmi_median                  0.166876  1.000000  0.036110    1.000000   \n",
              "bmi_random                  0.166672  1.000000  0.031481    0.983146   \n",
              "\n",
              "                   bmi_random  \n",
              "id                   0.009116  \n",
              "age                  0.319039  \n",
              "hypertension         0.159008  \n",
              "heart_disease        0.043491  \n",
              "avg_glucose_level    0.166672  \n",
              "bmi                  1.000000  \n",
              "stroke               0.031481  \n",
              "bmi_median           0.983146  \n",
              "bmi_random           1.000000  "
            ],
            "text/html": [
              "\n",
              "  <div id=\"df-c0e9fe8c-5fcc-4c40-9154-38ab569c36e9\">\n",
              "    <div class=\"colab-df-container\">\n",
              "      <div>\n",
              "<style scoped>\n",
              "    .dataframe tbody tr th:only-of-type {\n",
              "        vertical-align: middle;\n",
              "    }\n",
              "\n",
              "    .dataframe tbody tr th {\n",
              "        vertical-align: top;\n",
              "    }\n",
              "\n",
              "    .dataframe thead th {\n",
              "        text-align: right;\n",
              "    }\n",
              "</style>\n",
              "<table border=\"1\" class=\"dataframe\">\n",
              "  <thead>\n",
              "    <tr style=\"text-align: right;\">\n",
              "      <th></th>\n",
              "      <th>id</th>\n",
              "      <th>age</th>\n",
              "      <th>hypertension</th>\n",
              "      <th>heart_disease</th>\n",
              "      <th>avg_glucose_level</th>\n",
              "      <th>bmi</th>\n",
              "      <th>stroke</th>\n",
              "      <th>bmi_median</th>\n",
              "      <th>bmi_random</th>\n",
              "    </tr>\n",
              "  </thead>\n",
              "  <tbody>\n",
              "    <tr>\n",
              "      <th>id</th>\n",
              "      <td>1.000000</td>\n",
              "      <td>0.003538</td>\n",
              "      <td>0.003550</td>\n",
              "      <td>-0.001296</td>\n",
              "      <td>0.001092</td>\n",
              "      <td>0.003084</td>\n",
              "      <td>0.006388</td>\n",
              "      <td>0.005555</td>\n",
              "      <td>0.009116</td>\n",
              "    </tr>\n",
              "    <tr>\n",
              "      <th>age</th>\n",
              "      <td>0.003538</td>\n",
              "      <td>1.000000</td>\n",
              "      <td>0.276398</td>\n",
              "      <td>0.263796</td>\n",
              "      <td>0.238171</td>\n",
              "      <td>0.333398</td>\n",
              "      <td>0.245257</td>\n",
              "      <td>0.324296</td>\n",
              "      <td>0.319039</td>\n",
              "    </tr>\n",
              "    <tr>\n",
              "      <th>hypertension</th>\n",
              "      <td>0.003550</td>\n",
              "      <td>0.276398</td>\n",
              "      <td>1.000000</td>\n",
              "      <td>0.108306</td>\n",
              "      <td>0.174474</td>\n",
              "      <td>0.167811</td>\n",
              "      <td>0.127904</td>\n",
              "      <td>0.158293</td>\n",
              "      <td>0.159008</td>\n",
              "    </tr>\n",
              "    <tr>\n",
              "      <th>heart_disease</th>\n",
              "      <td>-0.001296</td>\n",
              "      <td>0.263796</td>\n",
              "      <td>0.108306</td>\n",
              "      <td>1.000000</td>\n",
              "      <td>0.161857</td>\n",
              "      <td>0.041357</td>\n",
              "      <td>0.134914</td>\n",
              "      <td>0.036916</td>\n",
              "      <td>0.043491</td>\n",
              "    </tr>\n",
              "    <tr>\n",
              "      <th>avg_glucose_level</th>\n",
              "      <td>0.001092</td>\n",
              "      <td>0.238171</td>\n",
              "      <td>0.174474</td>\n",
              "      <td>0.161857</td>\n",
              "      <td>1.000000</td>\n",
              "      <td>0.175502</td>\n",
              "      <td>0.131945</td>\n",
              "      <td>0.166876</td>\n",
              "      <td>0.166672</td>\n",
              "    </tr>\n",
              "    <tr>\n",
              "      <th>bmi</th>\n",
              "      <td>0.003084</td>\n",
              "      <td>0.333398</td>\n",
              "      <td>0.167811</td>\n",
              "      <td>0.041357</td>\n",
              "      <td>0.175502</td>\n",
              "      <td>1.000000</td>\n",
              "      <td>0.042374</td>\n",
              "      <td>1.000000</td>\n",
              "      <td>1.000000</td>\n",
              "    </tr>\n",
              "    <tr>\n",
              "      <th>stroke</th>\n",
              "      <td>0.006388</td>\n",
              "      <td>0.245257</td>\n",
              "      <td>0.127904</td>\n",
              "      <td>0.134914</td>\n",
              "      <td>0.131945</td>\n",
              "      <td>0.042374</td>\n",
              "      <td>1.000000</td>\n",
              "      <td>0.036110</td>\n",
              "      <td>0.031481</td>\n",
              "    </tr>\n",
              "    <tr>\n",
              "      <th>bmi_median</th>\n",
              "      <td>0.005555</td>\n",
              "      <td>0.324296</td>\n",
              "      <td>0.158293</td>\n",
              "      <td>0.036916</td>\n",
              "      <td>0.166876</td>\n",
              "      <td>1.000000</td>\n",
              "      <td>0.036110</td>\n",
              "      <td>1.000000</td>\n",
              "      <td>0.983146</td>\n",
              "    </tr>\n",
              "    <tr>\n",
              "      <th>bmi_random</th>\n",
              "      <td>0.009116</td>\n",
              "      <td>0.319039</td>\n",
              "      <td>0.159008</td>\n",
              "      <td>0.043491</td>\n",
              "      <td>0.166672</td>\n",
              "      <td>1.000000</td>\n",
              "      <td>0.031481</td>\n",
              "      <td>0.983146</td>\n",
              "      <td>1.000000</td>\n",
              "    </tr>\n",
              "  </tbody>\n",
              "</table>\n",
              "</div>\n",
              "      <button class=\"colab-df-convert\" onclick=\"convertToInteractive('df-c0e9fe8c-5fcc-4c40-9154-38ab569c36e9')\"\n",
              "              title=\"Convert this dataframe to an interactive table.\"\n",
              "              style=\"display:none;\">\n",
              "        \n",
              "  <svg xmlns=\"http://www.w3.org/2000/svg\" height=\"24px\"viewBox=\"0 0 24 24\"\n",
              "       width=\"24px\">\n",
              "    <path d=\"M0 0h24v24H0V0z\" fill=\"none\"/>\n",
              "    <path d=\"M18.56 5.44l.94 2.06.94-2.06 2.06-.94-2.06-.94-.94-2.06-.94 2.06-2.06.94zm-11 1L8.5 8.5l.94-2.06 2.06-.94-2.06-.94L8.5 2.5l-.94 2.06-2.06.94zm10 10l.94 2.06.94-2.06 2.06-.94-2.06-.94-.94-2.06-.94 2.06-2.06.94z\"/><path d=\"M17.41 7.96l-1.37-1.37c-.4-.4-.92-.59-1.43-.59-.52 0-1.04.2-1.43.59L10.3 9.45l-7.72 7.72c-.78.78-.78 2.05 0 2.83L4 21.41c.39.39.9.59 1.41.59.51 0 1.02-.2 1.41-.59l7.78-7.78 2.81-2.81c.8-.78.8-2.07 0-2.86zM5.41 20L4 18.59l7.72-7.72 1.47 1.35L5.41 20z\"/>\n",
              "  </svg>\n",
              "      </button>\n",
              "      \n",
              "  <style>\n",
              "    .colab-df-container {\n",
              "      display:flex;\n",
              "      flex-wrap:wrap;\n",
              "      gap: 12px;\n",
              "    }\n",
              "\n",
              "    .colab-df-convert {\n",
              "      background-color: #E8F0FE;\n",
              "      border: none;\n",
              "      border-radius: 50%;\n",
              "      cursor: pointer;\n",
              "      display: none;\n",
              "      fill: #1967D2;\n",
              "      height: 32px;\n",
              "      padding: 0 0 0 0;\n",
              "      width: 32px;\n",
              "    }\n",
              "\n",
              "    .colab-df-convert:hover {\n",
              "      background-color: #E2EBFA;\n",
              "      box-shadow: 0px 1px 2px rgba(60, 64, 67, 0.3), 0px 1px 3px 1px rgba(60, 64, 67, 0.15);\n",
              "      fill: #174EA6;\n",
              "    }\n",
              "\n",
              "    [theme=dark] .colab-df-convert {\n",
              "      background-color: #3B4455;\n",
              "      fill: #D2E3FC;\n",
              "    }\n",
              "\n",
              "    [theme=dark] .colab-df-convert:hover {\n",
              "      background-color: #434B5C;\n",
              "      box-shadow: 0px 1px 3px 1px rgba(0, 0, 0, 0.15);\n",
              "      filter: drop-shadow(0px 1px 2px rgba(0, 0, 0, 0.3));\n",
              "      fill: #FFFFFF;\n",
              "    }\n",
              "  </style>\n",
              "\n",
              "      <script>\n",
              "        const buttonEl =\n",
              "          document.querySelector('#df-c0e9fe8c-5fcc-4c40-9154-38ab569c36e9 button.colab-df-convert');\n",
              "        buttonEl.style.display =\n",
              "          google.colab.kernel.accessAllowed ? 'block' : 'none';\n",
              "\n",
              "        async function convertToInteractive(key) {\n",
              "          const element = document.querySelector('#df-c0e9fe8c-5fcc-4c40-9154-38ab569c36e9');\n",
              "          const dataTable =\n",
              "            await google.colab.kernel.invokeFunction('convertToInteractive',\n",
              "                                                     [key], {});\n",
              "          if (!dataTable) return;\n",
              "\n",
              "          const docLinkHtml = 'Like what you see? Visit the ' +\n",
              "            '<a target=\"_blank\" href=https://colab.research.google.com/notebooks/data_table.ipynb>data table notebook</a>'\n",
              "            + ' to learn more about interactive tables.';\n",
              "          element.innerHTML = '';\n",
              "          dataTable['output_type'] = 'display_data';\n",
              "          await google.colab.output.renderOutput(dataTable, element);\n",
              "          const docLink = document.createElement('div');\n",
              "          docLink.innerHTML = docLinkHtml;\n",
              "          element.appendChild(docLink);\n",
              "        }\n",
              "      </script>\n",
              "    </div>\n",
              "  </div>\n",
              "  "
            ]
          },
          "metadata": {},
          "execution_count": 19
        }
      ],
      "source": [
        "df.corr()"
      ]
    },
    {
      "cell_type": "code",
      "execution_count": null,
      "metadata": {
        "colab": {
          "base_uri": "https://localhost:8080/",
          "height": 202
        },
        "id": "6t7c0OD0_eNr",
        "outputId": "98d9cf32-7765-4150-9198-297cfb13f3ab"
      },
      "outputs": [
        {
          "output_type": "execute_result",
          "data": {
            "text/plain": [
              "<pandas.io.formats.style.Styler at 0x7f9cba408e20>"
            ],
            "text/html": [
              "<style type=\"text/css\">\n",
              "#T_1f893 th {\n",
              "  font-size: 7pt;\n",
              "}\n",
              "#T_1f893 td {\n",
              "  padding: 0em 0em;\n",
              "}\n",
              "#T_1f893 th:hover {\n",
              "  font-size: 12pt;\n",
              "}\n",
              "#T_1f893 tr:hover td:hover {\n",
              "  max-width: 200px;\n",
              "  font-size: 12pt;\n",
              "}\n",
              "#T_1f893_row0_col0, #T_1f893_row1_col1, #T_1f893_row2_col2, #T_1f893_row3_col3, #T_1f893_row4_col4, #T_1f893_row5_col5, #T_1f893_row6_col6 {\n",
              "  background-color: #4479bb;\n",
              "  color: #f1f1f1;\n",
              "  max-width: 80px;\n",
              "  font-size: 10pt;\n",
              "}\n",
              "#T_1f893_row0_col1 {\n",
              "  background-color: #da3d49;\n",
              "  color: #f1f1f1;\n",
              "  max-width: 80px;\n",
              "  font-size: 10pt;\n",
              "}\n",
              "#T_1f893_row0_col2, #T_1f893_row0_col3, #T_1f893_row0_col5, #T_1f893_row0_col6, #T_1f893_row1_col0, #T_1f893_row2_col0, #T_1f893_row3_col0, #T_1f893_row4_col0, #T_1f893_row5_col0, #T_1f893_row6_col0 {\n",
              "  background-color: #da3b46;\n",
              "  color: #f1f1f1;\n",
              "  max-width: 80px;\n",
              "  font-size: 10pt;\n",
              "}\n",
              "#T_1f893_row0_col4 {\n",
              "  background-color: #da3c48;\n",
              "  color: #f1f1f1;\n",
              "  max-width: 80px;\n",
              "  font-size: 10pt;\n",
              "}\n",
              "#T_1f893_row1_col2 {\n",
              "  background-color: #e79ca2;\n",
              "  color: #000000;\n",
              "  max-width: 80px;\n",
              "  font-size: 10pt;\n",
              "}\n",
              "#T_1f893_row1_col3 {\n",
              "  background-color: #e6979d;\n",
              "  color: #000000;\n",
              "  max-width: 80px;\n",
              "  font-size: 10pt;\n",
              "}\n",
              "#T_1f893_row1_col4, #T_1f893_row6_col1 {\n",
              "  background-color: #e58d94;\n",
              "  color: #f1f1f1;\n",
              "  max-width: 80px;\n",
              "  font-size: 10pt;\n",
              "}\n",
              "#T_1f893_row1_col5 {\n",
              "  background-color: #eab2b6;\n",
              "  color: #000000;\n",
              "  max-width: 80px;\n",
              "  font-size: 10pt;\n",
              "}\n",
              "#T_1f893_row1_col6 {\n",
              "  background-color: #e58c93;\n",
              "  color: #f1f1f1;\n",
              "  max-width: 80px;\n",
              "  font-size: 10pt;\n",
              "}\n",
              "#T_1f893_row2_col1 {\n",
              "  background-color: #e79fa5;\n",
              "  color: #000000;\n",
              "  max-width: 80px;\n",
              "  font-size: 10pt;\n",
              "}\n",
              "#T_1f893_row2_col3 {\n",
              "  background-color: #df646d;\n",
              "  color: #f1f1f1;\n",
              "  max-width: 80px;\n",
              "  font-size: 10pt;\n",
              "}\n",
              "#T_1f893_row2_col4 {\n",
              "  background-color: #e37b83;\n",
              "  color: #f1f1f1;\n",
              "  max-width: 80px;\n",
              "  font-size: 10pt;\n",
              "}\n",
              "#T_1f893_row2_col5, #T_1f893_row5_col2 {\n",
              "  background-color: #e2777f;\n",
              "  color: #f1f1f1;\n",
              "  max-width: 80px;\n",
              "  font-size: 10pt;\n",
              "}\n",
              "#T_1f893_row2_col6 {\n",
              "  background-color: #e16e77;\n",
              "  color: #f1f1f1;\n",
              "  max-width: 80px;\n",
              "  font-size: 10pt;\n",
              "}\n",
              "#T_1f893_row3_col1 {\n",
              "  background-color: #e6989e;\n",
              "  color: #000000;\n",
              "  max-width: 80px;\n",
              "  font-size: 10pt;\n",
              "}\n",
              "#T_1f893_row3_col2 {\n",
              "  background-color: #df636c;\n",
              "  color: #f1f1f1;\n",
              "  max-width: 80px;\n",
              "  font-size: 10pt;\n",
              "}\n",
              "#T_1f893_row3_col4, #T_1f893_row4_col3 {\n",
              "  background-color: #e17179;\n",
              "  color: #f1f1f1;\n",
              "  max-width: 80px;\n",
              "  font-size: 10pt;\n",
              "}\n",
              "#T_1f893_row3_col5, #T_1f893_row5_col3, #T_1f893_row6_col5 {\n",
              "  background-color: #dc4752;\n",
              "  color: #f1f1f1;\n",
              "  max-width: 80px;\n",
              "  font-size: 10pt;\n",
              "}\n",
              "#T_1f893_row3_col6, #T_1f893_row4_col6, #T_1f893_row6_col3, #T_1f893_row6_col4 {\n",
              "  background-color: #e06b74;\n",
              "  color: #f1f1f1;\n",
              "  max-width: 80px;\n",
              "  font-size: 10pt;\n",
              "}\n",
              "#T_1f893_row4_col1 {\n",
              "  background-color: #e58f95;\n",
              "  color: #f1f1f1;\n",
              "  max-width: 80px;\n",
              "  font-size: 10pt;\n",
              "}\n",
              "#T_1f893_row4_col2, #T_1f893_row5_col4 {\n",
              "  background-color: #e27981;\n",
              "  color: #f1f1f1;\n",
              "  max-width: 80px;\n",
              "  font-size: 10pt;\n",
              "}\n",
              "#T_1f893_row4_col5 {\n",
              "  background-color: #e27880;\n",
              "  color: #f1f1f1;\n",
              "  max-width: 80px;\n",
              "  font-size: 10pt;\n",
              "}\n",
              "#T_1f893_row5_col1 {\n",
              "  background-color: #eab3b7;\n",
              "  color: #000000;\n",
              "  max-width: 80px;\n",
              "  font-size: 10pt;\n",
              "}\n",
              "#T_1f893_row5_col6 {\n",
              "  background-color: #dc4954;\n",
              "  color: #f1f1f1;\n",
              "  max-width: 80px;\n",
              "  font-size: 10pt;\n",
              "}\n",
              "#T_1f893_row6_col2 {\n",
              "  background-color: #e16d75;\n",
              "  color: #f1f1f1;\n",
              "  max-width: 80px;\n",
              "  font-size: 10pt;\n",
              "}\n",
              "</style>\n",
              "<table id=\"T_1f893\" class=\"dataframe\">\n",
              "  <caption>Hover to magify</caption>\n",
              "  <thead>\n",
              "    <tr>\n",
              "      <th class=\"blank level0\" >&nbsp;</th>\n",
              "      <th id=\"T_1f893_level0_col0\" class=\"col_heading level0 col0\" >id</th>\n",
              "      <th id=\"T_1f893_level0_col1\" class=\"col_heading level0 col1\" >age</th>\n",
              "      <th id=\"T_1f893_level0_col2\" class=\"col_heading level0 col2\" >hypertension</th>\n",
              "      <th id=\"T_1f893_level0_col3\" class=\"col_heading level0 col3\" >heart_disease</th>\n",
              "      <th id=\"T_1f893_level0_col4\" class=\"col_heading level0 col4\" >avg_glucose_level</th>\n",
              "      <th id=\"T_1f893_level0_col5\" class=\"col_heading level0 col5\" >bmi</th>\n",
              "      <th id=\"T_1f893_level0_col6\" class=\"col_heading level0 col6\" >stroke</th>\n",
              "    </tr>\n",
              "  </thead>\n",
              "  <tbody>\n",
              "    <tr>\n",
              "      <th id=\"T_1f893_level0_row0\" class=\"row_heading level0 row0\" >id</th>\n",
              "      <td id=\"T_1f893_row0_col0\" class=\"data row0 col0\" >1.00</td>\n",
              "      <td id=\"T_1f893_row0_col1\" class=\"data row0 col1\" >0.01</td>\n",
              "      <td id=\"T_1f893_row0_col2\" class=\"data row0 col2\" >0.00</td>\n",
              "      <td id=\"T_1f893_row0_col3\" class=\"data row0 col3\" >0.00</td>\n",
              "      <td id=\"T_1f893_row0_col4\" class=\"data row0 col4\" >0.01</td>\n",
              "      <td id=\"T_1f893_row0_col5\" class=\"data row0 col5\" >0.00</td>\n",
              "      <td id=\"T_1f893_row0_col6\" class=\"data row0 col6\" >0.00</td>\n",
              "    </tr>\n",
              "    <tr>\n",
              "      <th id=\"T_1f893_level0_row1\" class=\"row_heading level0 row1\" >age</th>\n",
              "      <td id=\"T_1f893_row1_col0\" class=\"data row1 col0\" >0.01</td>\n",
              "      <td id=\"T_1f893_row1_col1\" class=\"data row1 col1\" >1.00</td>\n",
              "      <td id=\"T_1f893_row1_col2\" class=\"data row1 col2\" >0.27</td>\n",
              "      <td id=\"T_1f893_row1_col3\" class=\"data row1 col3\" >0.26</td>\n",
              "      <td id=\"T_1f893_row1_col4\" class=\"data row1 col4\" >0.24</td>\n",
              "      <td id=\"T_1f893_row1_col5\" class=\"data row1 col5\" >0.33</td>\n",
              "      <td id=\"T_1f893_row1_col6\" class=\"data row1 col6\" >0.23</td>\n",
              "    </tr>\n",
              "    <tr>\n",
              "      <th id=\"T_1f893_level0_row2\" class=\"row_heading level0 row2\" >hypertension</th>\n",
              "      <td id=\"T_1f893_row2_col0\" class=\"data row2 col0\" >0.00</td>\n",
              "      <td id=\"T_1f893_row2_col1\" class=\"data row2 col1\" >0.27</td>\n",
              "      <td id=\"T_1f893_row2_col2\" class=\"data row2 col2\" >1.00</td>\n",
              "      <td id=\"T_1f893_row2_col3\" class=\"data row2 col3\" >0.12</td>\n",
              "      <td id=\"T_1f893_row2_col4\" class=\"data row2 col4\" >0.18</td>\n",
              "      <td id=\"T_1f893_row2_col5\" class=\"data row2 col5\" >0.17</td>\n",
              "      <td id=\"T_1f893_row2_col6\" class=\"data row2 col6\" >0.14</td>\n",
              "    </tr>\n",
              "    <tr>\n",
              "      <th id=\"T_1f893_level0_row3\" class=\"row_heading level0 row3\" >heart_disease</th>\n",
              "      <td id=\"T_1f893_row3_col0\" class=\"data row3 col0\" >0.00</td>\n",
              "      <td id=\"T_1f893_row3_col1\" class=\"data row3 col1\" >0.26</td>\n",
              "      <td id=\"T_1f893_row3_col2\" class=\"data row3 col2\" >0.12</td>\n",
              "      <td id=\"T_1f893_row3_col3\" class=\"data row3 col3\" >1.00</td>\n",
              "      <td id=\"T_1f893_row3_col4\" class=\"data row3 col4\" >0.15</td>\n",
              "      <td id=\"T_1f893_row3_col5\" class=\"data row3 col5\" >0.04</td>\n",
              "      <td id=\"T_1f893_row3_col6\" class=\"data row3 col6\" >0.14</td>\n",
              "    </tr>\n",
              "    <tr>\n",
              "      <th id=\"T_1f893_level0_row4\" class=\"row_heading level0 row4\" >avg_glucose_level</th>\n",
              "      <td id=\"T_1f893_row4_col0\" class=\"data row4 col0\" >0.01</td>\n",
              "      <td id=\"T_1f893_row4_col1\" class=\"data row4 col1\" >0.24</td>\n",
              "      <td id=\"T_1f893_row4_col2\" class=\"data row4 col2\" >0.18</td>\n",
              "      <td id=\"T_1f893_row4_col3\" class=\"data row4 col3\" >0.15</td>\n",
              "      <td id=\"T_1f893_row4_col4\" class=\"data row4 col4\" >1.00</td>\n",
              "      <td id=\"T_1f893_row4_col5\" class=\"data row4 col5\" >0.18</td>\n",
              "      <td id=\"T_1f893_row4_col6\" class=\"data row4 col6\" >0.14</td>\n",
              "    </tr>\n",
              "    <tr>\n",
              "      <th id=\"T_1f893_level0_row5\" class=\"row_heading level0 row5\" >bmi</th>\n",
              "      <td id=\"T_1f893_row5_col0\" class=\"data row5 col0\" >0.00</td>\n",
              "      <td id=\"T_1f893_row5_col1\" class=\"data row5 col1\" >0.33</td>\n",
              "      <td id=\"T_1f893_row5_col2\" class=\"data row5 col2\" >0.17</td>\n",
              "      <td id=\"T_1f893_row5_col3\" class=\"data row5 col3\" >0.04</td>\n",
              "      <td id=\"T_1f893_row5_col4\" class=\"data row5 col4\" >0.18</td>\n",
              "      <td id=\"T_1f893_row5_col5\" class=\"data row5 col5\" >1.00</td>\n",
              "      <td id=\"T_1f893_row5_col6\" class=\"data row5 col6\" >0.04</td>\n",
              "    </tr>\n",
              "    <tr>\n",
              "      <th id=\"T_1f893_level0_row6\" class=\"row_heading level0 row6\" >stroke</th>\n",
              "      <td id=\"T_1f893_row6_col0\" class=\"data row6 col0\" >0.00</td>\n",
              "      <td id=\"T_1f893_row6_col1\" class=\"data row6 col1\" >0.23</td>\n",
              "      <td id=\"T_1f893_row6_col2\" class=\"data row6 col2\" >0.14</td>\n",
              "      <td id=\"T_1f893_row6_col3\" class=\"data row6 col3\" >0.14</td>\n",
              "      <td id=\"T_1f893_row6_col4\" class=\"data row6 col4\" >0.14</td>\n",
              "      <td id=\"T_1f893_row6_col5\" class=\"data row6 col5\" >0.04</td>\n",
              "      <td id=\"T_1f893_row6_col6\" class=\"data row6 col6\" >1.00</td>\n",
              "    </tr>\n",
              "  </tbody>\n",
              "</table>\n"
            ]
          },
          "metadata": {},
          "execution_count": 20
        }
      ],
      "source": [
        "correlation  = df1.corr()\n",
        "correlation.style.background_gradient(cmap, axis=1)\\\n",
        "    .set_properties(**{'max-width': '80px', 'font-size': '10pt'})\\\n",
        "    .set_caption(\"Hover to magify\")\\\n",
        "    .set_precision(2)\\\n",
        "    .set_table_styles(magnify())"
      ]
    },
    {
      "cell_type": "markdown",
      "metadata": {
        "id": "pUBf3c7YRuVc"
      },
      "source": [
        "Based on the corelation matrix we can state that age is highly corelated to stroke"
      ]
    },
    {
      "cell_type": "code",
      "execution_count": null,
      "metadata": {
        "colab": {
          "base_uri": "https://localhost:8080/"
        },
        "id": "xL-2JMTS_Yir",
        "outputId": "139eca26-9629-4281-d566-7d88d57b54a4"
      },
      "outputs": [
        {
          "output_type": "execute_result",
          "data": {
            "text/plain": [
              "(4909, 12)"
            ]
          },
          "metadata": {},
          "execution_count": 21
        }
      ],
      "source": [
        "#shape of data after droping nan values\n",
        "df1.shape"
      ]
    },
    {
      "cell_type": "code",
      "execution_count": null,
      "metadata": {
        "id": "1teINIA1UAFc"
      },
      "outputs": [],
      "source": [
        "#EDA of feature distribution over target"
      ]
    },
    {
      "cell_type": "code",
      "execution_count": null,
      "metadata": {
        "colab": {
          "base_uri": "https://localhost:8080/",
          "height": 312
        },
        "id": "b370lYT8UwTQ",
        "outputId": "e0131caa-e567-4269-adaa-358a952ce30f"
      },
      "outputs": [
        {
          "output_type": "execute_result",
          "data": {
            "text/plain": [
              "[Text(0.5, 1.0, 'Feature Distribution of gender')]"
            ]
          },
          "metadata": {},
          "execution_count": 23
        },
        {
          "output_type": "display_data",
          "data": {
            "text/plain": [
              "<Figure size 432x288 with 1 Axes>"
            ],
            "image/png": "[encoded data removed]"
          },
          "metadata": {
            "needs_background": "light"
          }
        }
      ],
      "source": [
        "sns.countplot(data=df1, x='gender',palette = 'pink', hue='stroke',edgecolor='black').set(title='Feature Distribution of gender')"
      ]
    },
    {
      "cell_type": "code",
      "execution_count": null,
      "metadata": {
        "colab": {
          "base_uri": "https://localhost:8080/",
          "height": 312
        },
        "id": "dqyJtBTcchAD",
        "outputId": "85cc39c3-9cf8-423f-80b2-d25918666e9b"
      },
      "outputs": [
        {
          "output_type": "execute_result",
          "data": {
            "text/plain": [
              "[Text(0.5, 1.0, 'Feature Distribution of hypertension')]"
            ]
          },
          "metadata": {},
          "execution_count": 24
        },
        {
          "output_type": "display_data",
          "data": {
            "text/plain": [
              "<Figure size 432x288 with 1 Axes>"
            ],
            "image/png": "[encoded data removed]"
          },
          "metadata": {
            "needs_background": "light"
          }
        }
      ],
      "source": [
        "sns.countplot(data=df1, x='hypertension',palette = 'pink', hue='stroke',edgecolor='black').set(title='Feature Distribution of hypertension')"
      ]
    },
    {
      "cell_type": "code",
      "execution_count": null,
      "metadata": {
        "colab": {
          "base_uri": "https://localhost:8080/",
          "height": 313
        },
        "id": "ssBQcozTcmSm",
        "outputId": "23e387c9-7053-4c38-8b2b-5bf48422ca1e"
      },
      "outputs": [
        {
          "output_type": "execute_result",
          "data": {
            "text/plain": [
              "[Text(0.5, 1.0, 'Feature Distribution of heart disease')]"
            ]
          },
          "metadata": {},
          "execution_count": 25
        },
        {
          "output_type": "display_data",
          "data": {
            "text/plain": [
              "<Figure size 432x288 with 1 Axes>"
            ],
            "image/png": "[encoded data removed]"
          },
          "metadata": {
            "needs_background": "light"
          }
        }
      ],
      "source": [
        "sns.countplot(data=df1, x='heart_disease',palette = 'pink', hue='stroke',edgecolor='black').set(title='Feature Distribution of heart disease')"
      ]
    },
    {
      "cell_type": "code",
      "execution_count": null,
      "metadata": {
        "colab": {
          "base_uri": "https://localhost:8080/",
          "height": 313
        },
        "id": "TmkKv-e4dDJJ",
        "outputId": "b5a1825d-8948-46e0-9e99-99617d408f57"
      },
      "outputs": [
        {
          "output_type": "execute_result",
          "data": {
            "text/plain": [
              "[Text(0.5, 1.0, 'Feature Distribution of ever_married')]"
            ]
          },
          "metadata": {},
          "execution_count": 26
        },
        {
          "output_type": "display_data",
          "data": {
            "text/plain": [
              "<Figure size 432x288 with 1 Axes>"
            ],
            "image/png": "[encoded data removed]"
          },
          "metadata": {
            "needs_background": "light"
          }
        }
      ],
      "source": [
        "sns.countplot(data=df1, x='ever_married',palette = 'pink', hue='stroke',edgecolor='black').set(title='Feature Distribution of ever_married')"
      ]
    },
    {
      "cell_type": "code",
      "execution_count": null,
      "metadata": {
        "colab": {
          "base_uri": "https://localhost:8080/",
          "height": 314
        },
        "id": "GErZWVdhdL4v",
        "outputId": "096fd85f-e6db-4ee0-dfb9-689242a811bd"
      },
      "outputs": [
        {
          "output_type": "execute_result",
          "data": {
            "text/plain": [
              "[Text(0.5, 1.0, 'Feature Distribution of work type')]"
            ]
          },
          "metadata": {},
          "execution_count": 27
        },
        {
          "output_type": "display_data",
          "data": {
            "text/plain": [
              "<Figure size 432x288 with 1 Axes>"
            ],
            "image/png": "[encoded data removed]"
          },
          "metadata": {
            "needs_background": "light"
          }
        }
      ],
      "source": [
        "sns.countplot(data=df1, x='work_type',palette = 'pink', hue='stroke',edgecolor='black').set(title='Feature Distribution of work type')"
      ]
    },
    {
      "cell_type": "code",
      "execution_count": null,
      "metadata": {
        "colab": {
          "base_uri": "https://localhost:8080/",
          "height": 313
        },
        "id": "vSGMzhyCdWDD",
        "outputId": "93a104a8-0621-4bdb-a4c6-c4b772c60bc7"
      },
      "outputs": [
        {
          "output_type": "execute_result",
          "data": {
            "text/plain": [
              "[Text(0.5, 1.0, 'Feature Distribution of recidence area')]"
            ]
          },
          "metadata": {},
          "execution_count": 28
        },
        {
          "output_type": "display_data",
          "data": {
            "text/plain": [
              "<Figure size 432x288 with 1 Axes>"
            ],
            "image/png": "[encoded data removed]"
          },
          "metadata": {
            "needs_background": "light"
          }
        }
      ],
      "source": [
        "sns.countplot(data=df1, x='Residence_type',palette = 'pink', hue='stroke',edgecolor='black').set(title='Feature Distribution of recidence area')"
      ]
    },
    {
      "cell_type": "code",
      "execution_count": null,
      "metadata": {
        "colab": {
          "base_uri": "https://localhost:8080/",
          "height": 313
        },
        "id": "6-leVpJIdhso",
        "outputId": "6997d58e-d2e3-4fe8-99d9-f9678fcf00c9"
      },
      "outputs": [
        {
          "output_type": "execute_result",
          "data": {
            "text/plain": [
              "[Text(0.5, 1.0, 'Feature Distribution of smoking status')]"
            ]
          },
          "metadata": {},
          "execution_count": 29
        },
        {
          "output_type": "display_data",
          "data": {
            "text/plain": [
              "<Figure size 432x288 with 1 Axes>"
            ],
            "image/png": "[encoded data removed]"
          },
          "metadata": {
            "needs_background": "light"
          }
        }
      ],
      "source": [
        "sns.countplot(data=df1, x='smoking_status',palette = 'pink', hue='stroke',edgecolor='black').set(title='Feature Distribution of smoking status')"
      ]
    },
    {
      "cell_type": "code",
      "execution_count": null,
      "metadata": {
        "colab": {
          "base_uri": "https://localhost:8080/",
          "height": 312
        },
        "id": "sG0clOQHeWFk",
        "outputId": "9b888902-2825-405a-933a-a8a4d0769c7f"
      },
      "outputs": [
        {
          "output_type": "execute_result",
          "data": {
            "text/plain": [
              "[Text(0.5, 1.0, 'Distribution of the target variable')]"
            ]
          },
          "metadata": {},
          "execution_count": 30
        },
        {
          "output_type": "display_data",
          "data": {
            "text/plain": [
              "<Figure size 432x288 with 1 Axes>"
            ],
            "image/png": "[encoded data removed]"
          },
          "metadata": {
            "needs_background": "light"
          }
        }
      ],
      "source": [
        "#Distribution of traget variable\n",
        "sns.countplot(data=df1, x='stroke',palette = 'Oranges', edgecolor='black').set(title='Distribution of the target variable')"
      ]
    },
    {
      "cell_type": "code",
      "execution_count": null,
      "metadata": {
        "colab": {
          "base_uri": "https://localhost:8080/",
          "height": 313
        },
        "id": "x57Uj7-DgQ7b",
        "outputId": "13f401ba-1afe-4524-fc73-298aa1d400d2"
      },
      "outputs": [
        {
          "output_type": "execute_result",
          "data": {
            "text/plain": [
              "[Text(0.5, 1.0, 'Feature distribution of avg glucose level')]"
            ]
          },
          "metadata": {},
          "execution_count": 31
        },
        {
          "output_type": "display_data",
          "data": {
            "text/plain": [
              "<Figure size 432x288 with 1 Axes>"
            ],
            "image/png": "[encoded data removed]"
          },
          "metadata": {
            "needs_background": "light"
          }
        }
      ],
      "source": [
        "sns.kdeplot(data=df1, x='avg_glucose_level',hue=\"stroke\", fill=True,palette=\"Blues\", alpha=.6, linewidth=2).set(title='Feature distribution of avg glucose level')"
      ]
    },
    {
      "cell_type": "code",
      "execution_count": null,
      "metadata": {
        "colab": {
          "base_uri": "https://localhost:8080/",
          "height": 312
        },
        "id": "bViBK3t_hl9e",
        "outputId": "9c94cc57-ab56-407d-93e2-38a686e038f9"
      },
      "outputs": [
        {
          "output_type": "execute_result",
          "data": {
            "text/plain": [
              "[Text(0.5, 1.0, 'Feature distribution of age')]"
            ]
          },
          "metadata": {},
          "execution_count": 32
        },
        {
          "output_type": "display_data",
          "data": {
            "text/plain": [
              "<Figure size 432x288 with 1 Axes>"
            ],
            "image/png": "[encoded data removed]"
          },
          "metadata": {
            "needs_background": "light"
          }
        }
      ],
      "source": [
        "sns.kdeplot(data=df1, x='age',hue=\"stroke\", fill=True,palette=\"Blues\", alpha=.6, linewidth=2).set(title='Feature distribution of age')"
      ]
    },
    {
      "cell_type": "code",
      "execution_count": null,
      "metadata": {
        "colab": {
          "base_uri": "https://localhost:8080/",
          "height": 312
        },
        "id": "L-DbqkwUht_Q",
        "outputId": "3e88ddaa-f407-45e8-bc4b-039400d73a21"
      },
      "outputs": [
        {
          "output_type": "execute_result",
          "data": {
            "text/plain": [
              "[Text(0.5, 1.0, 'Feature distribution of bmi')]"
            ]
          },
          "metadata": {},
          "execution_count": 33
        },
        {
          "output_type": "display_data",
          "data": {
            "text/plain": [
              "<Figure size 432x288 with 1 Axes>"
            ],
            "image/png": "[encoded data removed]"
          },
          "metadata": {
            "needs_background": "light"
          }
        }
      ],
      "source": [
        "sns.kdeplot(data=df1, x='bmi',hue=\"stroke\", fill=True,palette=\"Blues\", alpha=.6, linewidth=2).set(title='Feature distribution of bmi')"
      ]
    },
    {
      "cell_type": "code",
      "execution_count": null,
      "metadata": {
        "colab": {
          "base_uri": "https://localhost:8080/"
        },
        "id": "yO_hfNPIi2fs",
        "outputId": "40fb8305-3ec7-4b62-c63c-1a6b2a8a6146"
      },
      "outputs": [
        {
          "output_type": "stream",
          "name": "stdout",
          "text": [
            "<class 'pandas.core.frame.DataFrame'>\n",
            "Int64Index: 4909 entries, 0 to 5109\n",
            "Data columns (total 12 columns):\n",
            " #   Column             Non-Null Count  Dtype  \n",
            "---  ------             --------------  -----  \n",
            " 0   id                 4909 non-null   int64  \n",
            " 1   gender             4909 non-null   object \n",
            " 2   age                4909 non-null   float64\n",
            " 3   hypertension       4909 non-null   int64  \n",
            " 4   heart_disease      4909 non-null   int64  \n",
            " 5   ever_married       4909 non-null   object \n",
            " 6   work_type          4909 non-null   object \n",
            " 7   Residence_type     4909 non-null   object \n",
            " 8   avg_glucose_level  4909 non-null   float64\n",
            " 9   bmi                4909 non-null   float64\n",
            " 10  smoking_status     4909 non-null   object \n",
            " 11  stroke             4909 non-null   int64  \n",
            "dtypes: float64(3), int64(4), object(5)\n",
            "memory usage: 498.6+ KB\n"
          ]
        }
      ],
      "source": [
        "df1.info()"
      ]
    },
    {
      "cell_type": "code",
      "execution_count": null,
      "metadata": {
        "colab": {
          "base_uri": "https://localhost:8080/",
          "height": 206
        },
        "id": "C0LQXw26mL4j",
        "outputId": "fd89a570-4018-4aeb-9a85-a9ac64e71399"
      },
      "outputs": [
        {
          "output_type": "execute_result",
          "data": {
            "text/plain": [
              "      id  gender   age  hypertension  heart_disease ever_married  \\\n",
              "0   9046    Male  67.0             0              1          Yes   \n",
              "2  31112    Male  80.0             0              1          Yes   \n",
              "3  60182  Female  49.0             0              0          Yes   \n",
              "4   1665  Female  79.0             1              0          Yes   \n",
              "5  56669    Male  81.0             0              0          Yes   \n",
              "\n",
              "       work_type Residence_type  avg_glucose_level   bmi   smoking_status  \\\n",
              "0        Private          Urban             228.69  36.6  formerly smoked   \n",
              "2        Private          Rural             105.92  32.5     never smoked   \n",
              "3        Private          Urban             171.23  34.4           smokes   \n",
              "4  Self-employed          Rural             174.12  24.0     never smoked   \n",
              "5        Private          Urban             186.21  29.0  formerly smoked   \n",
              "\n",
              "   stroke  \n",
              "0       1  \n",
              "2       1  \n",
              "3       1  \n",
              "4       1  \n",
              "5       1  "
            ],
            "text/html": [
              "\n",
              "  <div id=\"df-6d1d4fa6-55ae-4c18-9479-e88448ea1f4b\">\n",
              "    <div class=\"colab-df-container\">\n",
              "      <div>\n",
              "<style scoped>\n",
              "    .dataframe tbody tr th:only-of-type {\n",
              "        vertical-align: middle;\n",
              "    }\n",
              "\n",
              "    .dataframe tbody tr th {\n",
              "        vertical-align: top;\n",
              "    }\n",
              "\n",
              "    .dataframe thead th {\n",
              "        text-align: right;\n",
              "    }\n",
              "</style>\n",
              "<table border=\"1\" class=\"dataframe\">\n",
              "  <thead>\n",
              "    <tr style=\"text-align: right;\">\n",
              "      <th></th>\n",
              "      <th>id</th>\n",
              "      <th>gender</th>\n",
              "      <th>age</th>\n",
              "      <th>hypertension</th>\n",
              "      <th>heart_disease</th>\n",
              "      <th>ever_married</th>\n",
              "      <th>work_type</th>\n",
              "      <th>Residence_type</th>\n",
              "      <th>avg_glucose_level</th>\n",
              "      <th>bmi</th>\n",
              "      <th>smoking_status</th>\n",
              "      <th>stroke</th>\n",
              "    </tr>\n",
              "  </thead>\n",
              "  <tbody>\n",
              "    <tr>\n",
              "      <th>0</th>\n",
              "      <td>9046</td>\n",
              "      <td>Male</td>\n",
              "      <td>67.0</td>\n",
              "      <td>0</td>\n",
              "      <td>1</td>\n",
              "      <td>Yes</td>\n",
              "      <td>Private</td>\n",
              "      <td>Urban</td>\n",
              "      <td>228.69</td>\n",
              "      <td>36.6</td>\n",
              "      <td>formerly smoked</td>\n",
              "      <td>1</td>\n",
              "    </tr>\n",
              "    <tr>\n",
              "      <th>2</th>\n",
              "      <td>31112</td>\n",
              "      <td>Male</td>\n",
              "      <td>80.0</td>\n",
              "      <td>0</td>\n",
              "      <td>1</td>\n",
              "      <td>Yes</td>\n",
              "      <td>Private</td>\n",
              "      <td>Rural</td>\n",
              "      <td>105.92</td>\n",
              "      <td>32.5</td>\n",
              "      <td>never smoked</td>\n",
              "      <td>1</td>\n",
              "    </tr>\n",
              "    <tr>\n",
              "      <th>3</th>\n",
              "      <td>60182</td>\n",
              "      <td>Female</td>\n",
              "      <td>49.0</td>\n",
              "      <td>0</td>\n",
              "      <td>0</td>\n",
              "      <td>Yes</td>\n",
              "      <td>Private</td>\n",
              "      <td>Urban</td>\n",
              "      <td>171.23</td>\n",
              "      <td>34.4</td>\n",
              "      <td>smokes</td>\n",
              "      <td>1</td>\n",
              "    </tr>\n",
              "    <tr>\n",
              "      <th>4</th>\n",
              "      <td>1665</td>\n",
              "      <td>Female</td>\n",
              "      <td>79.0</td>\n",
              "      <td>1</td>\n",
              "      <td>0</td>\n",
              "      <td>Yes</td>\n",
              "      <td>Self-employed</td>\n",
              "      <td>Rural</td>\n",
              "      <td>174.12</td>\n",
              "      <td>24.0</td>\n",
              "      <td>never smoked</td>\n",
              "      <td>1</td>\n",
              "    </tr>\n",
              "    <tr>\n",
              "      <th>5</th>\n",
              "      <td>56669</td>\n",
              "      <td>Male</td>\n",
              "      <td>81.0</td>\n",
              "      <td>0</td>\n",
              "      <td>0</td>\n",
              "      <td>Yes</td>\n",
              "      <td>Private</td>\n",
              "      <td>Urban</td>\n",
              "      <td>186.21</td>\n",
              "      <td>29.0</td>\n",
              "      <td>formerly smoked</td>\n",
              "      <td>1</td>\n",
              "    </tr>\n",
              "  </tbody>\n",
              "</table>\n",
              "</div>\n",
              "      <button class=\"colab-df-convert\" onclick=\"convertToInteractive('df-6d1d4fa6-55ae-4c18-9479-e88448ea1f4b')\"\n",
              "              title=\"Convert this dataframe to an interactive table.\"\n",
              "              style=\"display:none;\">\n",
              "        \n",
              "  <svg xmlns=\"http://www.w3.org/2000/svg\" height=\"24px\"viewBox=\"0 0 24 24\"\n",
              "       width=\"24px\">\n",
              "    <path d=\"M0 0h24v24H0V0z\" fill=\"none\"/>\n",
              "    <path d=\"M18.56 5.44l.94 2.06.94-2.06 2.06-.94-2.06-.94-.94-2.06-.94 2.06-2.06.94zm-11 1L8.5 8.5l.94-2.06 2.06-.94-2.06-.94L8.5 2.5l-.94 2.06-2.06.94zm10 10l.94 2.06.94-2.06 2.06-.94-2.06-.94-.94-2.06-.94 2.06-2.06.94z\"/><path d=\"M17.41 7.96l-1.37-1.37c-.4-.4-.92-.59-1.43-.59-.52 0-1.04.2-1.43.59L10.3 9.45l-7.72 7.72c-.78.78-.78 2.05 0 2.83L4 21.41c.39.39.9.59 1.41.59.51 0 1.02-.2 1.41-.59l7.78-7.78 2.81-2.81c.8-.78.8-2.07 0-2.86zM5.41 20L4 18.59l7.72-7.72 1.47 1.35L5.41 20z\"/>\n",
              "  </svg>\n",
              "      </button>\n",
              "      \n",
              "  <style>\n",
              "    .colab-df-container {\n",
              "      display:flex;\n",
              "      flex-wrap:wrap;\n",
              "      gap: 12px;\n",
              "    }\n",
              "\n",
              "    .colab-df-convert {\n",
              "      background-color: #E8F0FE;\n",
              "      border: none;\n",
              "      border-radius: 50%;\n",
              "      cursor: pointer;\n",
              "      display: none;\n",
              "      fill: #1967D2;\n",
              "      height: 32px;\n",
              "      padding: 0 0 0 0;\n",
              "      width: 32px;\n",
              "    }\n",
              "\n",
              "    .colab-df-convert:hover {\n",
              "      background-color: #E2EBFA;\n",
              "      box-shadow: 0px 1px 2px rgba(60, 64, 67, 0.3), 0px 1px 3px 1px rgba(60, 64, 67, 0.15);\n",
              "      fill: #174EA6;\n",
              "    }\n",
              "\n",
              "    [theme=dark] .colab-df-convert {\n",
              "      background-color: #3B4455;\n",
              "      fill: #D2E3FC;\n",
              "    }\n",
              "\n",
              "    [theme=dark] .colab-df-convert:hover {\n",
              "      background-color: #434B5C;\n",
              "      box-shadow: 0px 1px 3px 1px rgba(0, 0, 0, 0.15);\n",
              "      filter: drop-shadow(0px 1px 2px rgba(0, 0, 0, 0.3));\n",
              "      fill: #FFFFFF;\n",
              "    }\n",
              "  </style>\n",
              "\n",
              "      <script>\n",
              "        const buttonEl =\n",
              "          document.querySelector('#df-6d1d4fa6-55ae-4c18-9479-e88448ea1f4b button.colab-df-convert');\n",
              "        buttonEl.style.display =\n",
              "          google.colab.kernel.accessAllowed ? 'block' : 'none';\n",
              "\n",
              "        async function convertToInteractive(key) {\n",
              "          const element = document.querySelector('#df-6d1d4fa6-55ae-4c18-9479-e88448ea1f4b');\n",
              "          const dataTable =\n",
              "            await google.colab.kernel.invokeFunction('convertToInteractive',\n",
              "                                                     [key], {});\n",
              "          if (!dataTable) return;\n",
              "\n",
              "          const docLinkHtml = 'Like what you see? Visit the ' +\n",
              "            '<a target=\"_blank\" href=https://colab.research.google.com/notebooks/data_table.ipynb>data table notebook</a>'\n",
              "            + ' to learn more about interactive tables.';\n",
              "          element.innerHTML = '';\n",
              "          dataTable['output_type'] = 'display_data';\n",
              "          await google.colab.output.renderOutput(dataTable, element);\n",
              "          const docLink = document.createElement('div');\n",
              "          docLink.innerHTML = docLinkHtml;\n",
              "          element.appendChild(docLink);\n",
              "        }\n",
              "      </script>\n",
              "    </div>\n",
              "  </div>\n",
              "  "
            ]
          },
          "metadata": {},
          "execution_count": 35
        }
      ],
      "source": [
        "df1.head()"
      ]
    },
    {
      "cell_type": "code",
      "execution_count": null,
      "metadata": {
        "colab": {
          "base_uri": "https://localhost:8080/"
        },
        "id": "mvwlZwBxmVJS",
        "outputId": "9b6fb49d-9555-4619-e57e-516a68acc342"
      },
      "outputs": [
        {
          "output_type": "stream",
          "name": "stdout",
          "text": [
            "0.08\n",
            "82.0\n",
            "10.3\n",
            "97.6\n",
            "55.12\n",
            "271.74\n"
          ]
        }
      ],
      "source": [
        "#get max and min values for grouping\n",
        "print(df1[\"age\"].min())\n",
        "print(df1[\"age\"].max())\n",
        "print(df1[\"bmi\"].min())\n",
        "print(df1[\"bmi\"].max())\n",
        "print(df1[\"avg_glucose_level\"].min())\n",
        "print(df1[\"avg_glucose_level\"].max())"
      ]
    },
    {
      "cell_type": "code",
      "execution_count": null,
      "metadata": {
        "id": "RdLLkjAoUWoY"
      },
      "outputs": [],
      "source": [
        "#Grouping the bmi, age, glucose levels for df1 (nan dropped)"
      ]
    },
    {
      "cell_type": "code",
      "execution_count": null,
      "metadata": {
        "id": "h97y1nbEr2sr"
      },
      "outputs": [],
      "source": [
        "df1['bmi'] = pd.cut(x=df1['bmi'], bins=[0,18.4,24.9,29.9,100],\n",
        "                     labels=['Underweight','Healthy','Overweight', 'Obese'])"
      ]
    },
    {
      "cell_type": "code",
      "execution_count": null,
      "metadata": {
        "colab": {
          "base_uri": "https://localhost:8080/"
        },
        "id": "b40peu_vsI9v",
        "outputId": "9e7676b9-9bb2-4420-90f9-744952b4a054"
      },
      "outputs": [
        {
          "output_type": "execute_result",
          "data": {
            "text/plain": [
              "['Obese', 'Healthy', 'Overweight', 'Underweight']\n",
              "Categories (4, object): ['Underweight' < 'Healthy' < 'Overweight' < 'Obese']"
            ]
          },
          "metadata": {},
          "execution_count": 39
        }
      ],
      "source": [
        "df1['bmi'].unique()"
      ]
    },
    {
      "cell_type": "code",
      "execution_count": null,
      "metadata": {
        "id": "tQRVlkr8sYbD"
      },
      "outputs": [],
      "source": [
        "df1['age'] = pd.cut(x=df1['age'], bins=[0,12.0,25.0,45.0,100],\n",
        "                     labels=['child','teen','middle_age', 'senior'])"
      ]
    },
    {
      "cell_type": "code",
      "execution_count": null,
      "metadata": {
        "colab": {
          "base_uri": "https://localhost:8080/"
        },
        "id": "Q0VbdUCStaGu",
        "outputId": "b41d43d7-f974-4220-82de-621abbf8fe19"
      },
      "outputs": [
        {
          "output_type": "execute_result",
          "data": {
            "text/plain": [
              "['senior', 'middle_age', 'teen', 'child']\n",
              "Categories (4, object): ['child' < 'teen' < 'middle_age' < 'senior']"
            ]
          },
          "metadata": {},
          "execution_count": 41
        }
      ],
      "source": [
        "df1['age'].unique()"
      ]
    },
    {
      "cell_type": "code",
      "execution_count": null,
      "metadata": {
        "colab": {
          "base_uri": "https://localhost:8080/"
        },
        "id": "bxjhAakMtcKP",
        "outputId": "a19ea573-eb0b-4410-f880-23dcc5eb6c6b"
      },
      "outputs": [
        {
          "output_type": "stream",
          "name": "stdout",
          "text": [
            "3.06\n",
            "15.1\n"
          ]
        }
      ],
      "source": [
        "df1['avg_glucose_level'] = df1['avg_glucose_level'].div(18).round(2)\n",
        "print(df1[\"avg_glucose_level\"].min())\n",
        "print(df1[\"avg_glucose_level\"].max())"
      ]
    },
    {
      "cell_type": "code",
      "execution_count": null,
      "metadata": {
        "id": "DYHeWcoazrve"
      },
      "outputs": [],
      "source": [
        "df1['avg_glucose_level'] = pd.cut(x=df1['avg_glucose_level'], bins=[0,5.7,6.4,15.1],\n",
        "                     labels=['normal','pre_diabatic','diabatic'])"
      ]
    },
    {
      "cell_type": "code",
      "execution_count": null,
      "metadata": {
        "colab": {
          "base_uri": "https://localhost:8080/"
        },
        "id": "NKJxN0yi0sVR",
        "outputId": "74ae20e4-ba7b-443d-da5a-496e913f974f"
      },
      "outputs": [
        {
          "data": {
            "text/plain": [
              "['diabatic', 'pre_diabatic', 'normal']\n",
              "Categories (3, object): ['normal' < 'pre_diabatic' < 'diabatic']"
            ]
          },
          "execution_count": 203,
          "metadata": {},
          "output_type": "execute_result"
        }
      ],
      "source": [
        "df1['avg_glucose_level'].unique()"
      ]
    },
    {
      "cell_type": "code",
      "execution_count": null,
      "metadata": {
        "colab": {
          "base_uri": "https://localhost:8080/",
          "height": 206
        },
        "id": "TTeBH8pY0yPK",
        "outputId": "6db208a3-feba-459d-e169-48e4b21186a1"
      },
      "outputs": [
        {
          "data": {
            "text/html": [
              "\n",
              "  <div id=\"df-749bf47d-683d-4866-a119-6c91fdcb8d48\">\n",
              "    <div class=\"colab-df-container\">\n",
              "      <div>\n",
              "<style scoped>\n",
              "    .dataframe tbody tr th:only-of-type {\n",
              "        vertical-align: middle;\n",
              "    }\n",
              "\n",
              "    .dataframe tbody tr th {\n",
              "        vertical-align: top;\n",
              "    }\n",
              "\n",
              "    .dataframe thead th {\n",
              "        text-align: right;\n",
              "    }\n",
              "</style>\n",
              "<table border=\"1\" class=\"dataframe\">\n",
              "  <thead>\n",
              "    <tr style=\"text-align: right;\">\n",
              "      <th></th>\n",
              "      <th>id</th>\n",
              "      <th>gender</th>\n",
              "      <th>age</th>\n",
              "      <th>hypertension</th>\n",
              "      <th>heart_disease</th>\n",
              "      <th>ever_married</th>\n",
              "      <th>work_type</th>\n",
              "      <th>Residence_type</th>\n",
              "      <th>avg_glucose_level</th>\n",
              "      <th>bmi</th>\n",
              "      <th>smoking_status</th>\n",
              "      <th>stroke</th>\n",
              "    </tr>\n",
              "  </thead>\n",
              "  <tbody>\n",
              "    <tr>\n",
              "      <th>0</th>\n",
              "      <td>9046</td>\n",
              "      <td>Male</td>\n",
              "      <td>senior</td>\n",
              "      <td>0</td>\n",
              "      <td>1</td>\n",
              "      <td>Yes</td>\n",
              "      <td>Private</td>\n",
              "      <td>Urban</td>\n",
              "      <td>diabatic</td>\n",
              "      <td>Obese</td>\n",
              "      <td>formerly smoked</td>\n",
              "      <td>1</td>\n",
              "    </tr>\n",
              "    <tr>\n",
              "      <th>2</th>\n",
              "      <td>31112</td>\n",
              "      <td>Male</td>\n",
              "      <td>senior</td>\n",
              "      <td>0</td>\n",
              "      <td>1</td>\n",
              "      <td>Yes</td>\n",
              "      <td>Private</td>\n",
              "      <td>Rural</td>\n",
              "      <td>pre_diabatic</td>\n",
              "      <td>Obese</td>\n",
              "      <td>never smoked</td>\n",
              "      <td>1</td>\n",
              "    </tr>\n",
              "    <tr>\n",
              "      <th>3</th>\n",
              "      <td>60182</td>\n",
              "      <td>Female</td>\n",
              "      <td>senior</td>\n",
              "      <td>0</td>\n",
              "      <td>0</td>\n",
              "      <td>Yes</td>\n",
              "      <td>Private</td>\n",
              "      <td>Urban</td>\n",
              "      <td>diabatic</td>\n",
              "      <td>Obese</td>\n",
              "      <td>smokes</td>\n",
              "      <td>1</td>\n",
              "    </tr>\n",
              "    <tr>\n",
              "      <th>4</th>\n",
              "      <td>1665</td>\n",
              "      <td>Female</td>\n",
              "      <td>senior</td>\n",
              "      <td>1</td>\n",
              "      <td>0</td>\n",
              "      <td>Yes</td>\n",
              "      <td>Self-employed</td>\n",
              "      <td>Rural</td>\n",
              "      <td>diabatic</td>\n",
              "      <td>Healthy</td>\n",
              "      <td>never smoked</td>\n",
              "      <td>1</td>\n",
              "    </tr>\n",
              "    <tr>\n",
              "      <th>5</th>\n",
              "      <td>56669</td>\n",
              "      <td>Male</td>\n",
              "      <td>senior</td>\n",
              "      <td>0</td>\n",
              "      <td>0</td>\n",
              "      <td>Yes</td>\n",
              "      <td>Private</td>\n",
              "      <td>Urban</td>\n",
              "      <td>diabatic</td>\n",
              "      <td>Overweight</td>\n",
              "      <td>formerly smoked</td>\n",
              "      <td>1</td>\n",
              "    </tr>\n",
              "  </tbody>\n",
              "</table>\n",
              "</div>\n",
              "      <button class=\"colab-df-convert\" onclick=\"convertToInteractive('df-749bf47d-683d-4866-a119-6c91fdcb8d48')\"\n",
              "              title=\"Convert this dataframe to an interactive table.\"\n",
              "              style=\"display:none;\">\n",
              "        \n",
              "  <svg xmlns=\"http://www.w3.org/2000/svg\" height=\"24px\"viewBox=\"0 0 24 24\"\n",
              "       width=\"24px\">\n",
              "    <path d=\"M0 0h24v24H0V0z\" fill=\"none\"/>\n",
              "    <path d=\"M18.56 5.44l.94 2.06.94-2.06 2.06-.94-2.06-.94-.94-2.06-.94 2.06-2.06.94zm-11 1L8.5 8.5l.94-2.06 2.06-.94-2.06-.94L8.5 2.5l-.94 2.06-2.06.94zm10 10l.94 2.06.94-2.06 2.06-.94-2.06-.94-.94-2.06-.94 2.06-2.06.94z\"/><path d=\"M17.41 7.96l-1.37-1.37c-.4-.4-.92-.59-1.43-.59-.52 0-1.04.2-1.43.59L10.3 9.45l-7.72 7.72c-.78.78-.78 2.05 0 2.83L4 21.41c.39.39.9.59 1.41.59.51 0 1.02-.2 1.41-.59l7.78-7.78 2.81-2.81c.8-.78.8-2.07 0-2.86zM5.41 20L4 18.59l7.72-7.72 1.47 1.35L5.41 20z\"/>\n",
              "  </svg>\n",
              "      </button>\n",
              "      \n",
              "  <style>\n",
              "    .colab-df-container {\n",
              "      display:flex;\n",
              "      flex-wrap:wrap;\n",
              "      gap: 12px;\n",
              "    }\n",
              "\n",
              "    .colab-df-convert {\n",
              "      background-color: #E8F0FE;\n",
              "      border: none;\n",
              "      border-radius: 50%;\n",
              "      cursor: pointer;\n",
              "      display: none;\n",
              "      fill: #1967D2;\n",
              "      height: 32px;\n",
              "      padding: 0 0 0 0;\n",
              "      width: 32px;\n",
              "    }\n",
              "\n",
              "    .colab-df-convert:hover {\n",
              "      background-color: #E2EBFA;\n",
              "      box-shadow: 0px 1px 2px rgba(60, 64, 67, 0.3), 0px 1px 3px 1px rgba(60, 64, 67, 0.15);\n",
              "      fill: #174EA6;\n",
              "    }\n",
              "\n",
              "    [theme=dark] .colab-df-convert {\n",
              "      background-color: #3B4455;\n",
              "      fill: #D2E3FC;\n",
              "    }\n",
              "\n",
              "    [theme=dark] .colab-df-convert:hover {\n",
              "      background-color: #434B5C;\n",
              "      box-shadow: 0px 1px 3px 1px rgba(0, 0, 0, 0.15);\n",
              "      filter: drop-shadow(0px 1px 2px rgba(0, 0, 0, 0.3));\n",
              "      fill: #FFFFFF;\n",
              "    }\n",
              "  </style>\n",
              "\n",
              "      <script>\n",
              "        const buttonEl =\n",
              "          document.querySelector('#df-749bf47d-683d-4866-a119-6c91fdcb8d48 button.colab-df-convert');\n",
              "        buttonEl.style.display =\n",
              "          google.colab.kernel.accessAllowed ? 'block' : 'none';\n",
              "\n",
              "        async function convertToInteractive(key) {\n",
              "          const element = document.querySelector('#df-749bf47d-683d-4866-a119-6c91fdcb8d48');\n",
              "          const dataTable =\n",
              "            await google.colab.kernel.invokeFunction('convertToInteractive',\n",
              "                                                     [key], {});\n",
              "          if (!dataTable) return;\n",
              "\n",
              "          const docLinkHtml = 'Like what you see? Visit the ' +\n",
              "            '<a target=\"_blank\" href=https://colab.research.google.com/notebooks/data_table.ipynb>data table notebook</a>'\n",
              "            + ' to learn more about interactive tables.';\n",
              "          element.innerHTML = '';\n",
              "          dataTable['output_type'] = 'display_data';\n",
              "          await google.colab.output.renderOutput(dataTable, element);\n",
              "          const docLink = document.createElement('div');\n",
              "          docLink.innerHTML = docLinkHtml;\n",
              "          element.appendChild(docLink);\n",
              "        }\n",
              "      </script>\n",
              "    </div>\n",
              "  </div>\n",
              "  "
            ],
            "text/plain": [
              "      id  gender     age  hypertension  heart_disease ever_married  \\\n",
              "0   9046    Male  senior             0              1          Yes   \n",
              "2  31112    Male  senior             0              1          Yes   \n",
              "3  60182  Female  senior             0              0          Yes   \n",
              "4   1665  Female  senior             1              0          Yes   \n",
              "5  56669    Male  senior             0              0          Yes   \n",
              "\n",
              "       work_type Residence_type avg_glucose_level         bmi  \\\n",
              "0        Private          Urban          diabatic       Obese   \n",
              "2        Private          Rural      pre_diabatic       Obese   \n",
              "3        Private          Urban          diabatic       Obese   \n",
              "4  Self-employed          Rural          diabatic     Healthy   \n",
              "5        Private          Urban          diabatic  Overweight   \n",
              "\n",
              "    smoking_status  stroke  \n",
              "0  formerly smoked       1  \n",
              "2     never smoked       1  \n",
              "3           smokes       1  \n",
              "4     never smoked       1  \n",
              "5  formerly smoked       1  "
            ]
          },
          "execution_count": 204,
          "metadata": {},
          "output_type": "execute_result"
        }
      ],
      "source": [
        "df1.head()"
      ]
    },
    {
      "cell_type": "code",
      "execution_count": null,
      "metadata": {
        "id": "u9ubfj9VUju-"
      },
      "outputs": [],
      "source": [
        "#EDA od age, bmi, glucose levels after grouping"
      ]
    },
    {
      "cell_type": "code",
      "execution_count": null,
      "metadata": {
        "colab": {
          "base_uri": "https://localhost:8080/",
          "height": 314
        },
        "id": "j686dwTys7K0",
        "outputId": "0d6bc455-7b71-4f2f-926a-4b8b8a60c513"
      },
      "outputs": [
        {
          "data": {
            "text/plain": [
              "[Text(0.5, 1.0, 'Age Feature Distribution after grouping')]"
            ]
          },
          "execution_count": 206,
          "metadata": {},
          "output_type": "execute_result"
        },
        {
          "data": {
            "image/png": "[encoded data removed]",
            "text/plain": [
              "<Figure size 432x288 with 1 Axes>"
            ]
          },
          "metadata": {
            "needs_background": "light"
          },
          "output_type": "display_data"
        }
      ],
      "source": [
        "sns.countplot(data=df1, x='age',palette = 'pink', hue='stroke',edgecolor='black').set(title='Age Feature Distribution after grouping')"
      ]
    },
    {
      "cell_type": "code",
      "execution_count": null,
      "metadata": {
        "colab": {
          "base_uri": "https://localhost:8080/",
          "height": 315
        },
        "id": "7pbMV-y-tjgB",
        "outputId": "2437614d-ca8d-4ccd-8589-8222fe8c6a28"
      },
      "outputs": [
        {
          "data": {
            "text/plain": [
              "[Text(0.5, 1.0, 'avg_glucose level Feature Distribution after grouping')]"
            ]
          },
          "execution_count": 207,
          "metadata": {},
          "output_type": "execute_result"
        },
        {
          "data": {
            "image/png": "[encoded data removed]",
            "text/plain": [
              "<Figure size 432x288 with 1 Axes>"
            ]
          },
          "metadata": {
            "needs_background": "light"
          },
          "output_type": "display_data"
        }
      ],
      "source": [
        "sns.countplot(data=df1, x='avg_glucose_level',palette = 'pink', hue='stroke',edgecolor='black').set(title='avg_glucose level Feature Distribution after grouping')"
      ]
    },
    {
      "cell_type": "code",
      "execution_count": null,
      "metadata": {
        "colab": {
          "base_uri": "https://localhost:8080/",
          "height": 313
        },
        "id": "9rf7GlOxtsqO",
        "outputId": "49a6fbf5-1d03-4383-9cc2-f0ffc9d8732a"
      },
      "outputs": [
        {
          "data": {
            "text/plain": [
              "[Text(0.5, 1.0, 'bmi Feature Distribution after grouping')]"
            ]
          },
          "execution_count": 208,
          "metadata": {},
          "output_type": "execute_result"
        },
        {
          "data": {
            "image/png": "[encoded data removed]",
            "text/plain": [
              "<Figure size 432x288 with 1 Axes>"
            ]
          },
          "metadata": {
            "needs_background": "light"
          },
          "output_type": "display_data"
        }
      ],
      "source": [
        "sns.countplot(data=df1, x='bmi',palette = 'pink', hue='stroke',edgecolor='black').set(title='bmi Feature Distribution after grouping')"
      ]
    },
    {
      "cell_type": "code",
      "execution_count": null,
      "metadata": {
        "colab": {
          "base_uri": "https://localhost:8080/"
        },
        "id": "GC83Y4Mn05qa",
        "outputId": "4cfb51cd-cc79-4615-c49e-0880f3aa1629"
      },
      "outputs": [
        {
          "data": {
            "text/plain": [
              "['bmi',\n",
              " 'gender',\n",
              " 'work_type',\n",
              " 'avg_glucose_level',\n",
              " 'smoking_status',\n",
              " 'Residence_type',\n",
              " 'ever_married',\n",
              " 'age']"
            ]
          },
          "execution_count": 209,
          "metadata": {},
          "output_type": "execute_result"
        }
      ],
      "source": [
        "#get categorical variables\n",
        "list(set(df1.columns) - set(df1.describe().columns))"
      ]
    },
    {
      "cell_type": "code",
      "execution_count": null,
      "metadata": {
        "id": "OSDVeOY92NKI"
      },
      "outputs": [],
      "source": [
        "#drop id coulumn\n",
        "df1=df1.drop('id', axis=1)"
      ]
    },
    {
      "cell_type": "code",
      "execution_count": null,
      "metadata": {
        "id": "GAskLLmx1jrf"
      },
      "outputs": [],
      "source": [
        "#Lable encoding the df1 data frame\n",
        "label_encoder = preprocessing.LabelEncoder()\n",
        "\n",
        "label_cols = [\"gender\",\"age\", \"ever_married\",\"work_type\",\"Residence_type\",\"avg_glucose_level\",\"bmi\",\"smoking_status\"]\n",
        "for col in label_cols:\n",
        "    df1[col]= label_encoder.fit_transform(df1[col])"
      ]
    },
    {
      "cell_type": "code",
      "execution_count": null,
      "metadata": {
        "colab": {
          "base_uri": "https://localhost:8080/",
          "height": 206
        },
        "id": "NxUw1KJh4JdS",
        "outputId": "c3dea4b9-9b75-48dc-d8e3-d27fb5dd19f2"
      },
      "outputs": [
        {
          "data": {
            "text/html": [
              "\n",
              "  <div id=\"df-5335faf3-9d98-4d7b-b7d7-ad63a9cf7d40\">\n",
              "    <div class=\"colab-df-container\">\n",
              "      <div>\n",
              "<style scoped>\n",
              "    .dataframe tbody tr th:only-of-type {\n",
              "        vertical-align: middle;\n",
              "    }\n",
              "\n",
              "    .dataframe tbody tr th {\n",
              "        vertical-align: top;\n",
              "    }\n",
              "\n",
              "    .dataframe thead th {\n",
              "        text-align: right;\n",
              "    }\n",
              "</style>\n",
              "<table border=\"1\" class=\"dataframe\">\n",
              "  <thead>\n",
              "    <tr style=\"text-align: right;\">\n",
              "      <th></th>\n",
              "      <th>gender</th>\n",
              "      <th>age</th>\n",
              "      <th>hypertension</th>\n",
              "      <th>heart_disease</th>\n",
              "      <th>ever_married</th>\n",
              "      <th>work_type</th>\n",
              "      <th>Residence_type</th>\n",
              "      <th>avg_glucose_level</th>\n",
              "      <th>bmi</th>\n",
              "      <th>smoking_status</th>\n",
              "      <th>stroke</th>\n",
              "    </tr>\n",
              "  </thead>\n",
              "  <tbody>\n",
              "    <tr>\n",
              "      <th>0</th>\n",
              "      <td>1</td>\n",
              "      <td>2</td>\n",
              "      <td>0</td>\n",
              "      <td>1</td>\n",
              "      <td>1</td>\n",
              "      <td>2</td>\n",
              "      <td>1</td>\n",
              "      <td>0</td>\n",
              "      <td>1</td>\n",
              "      <td>1</td>\n",
              "      <td>1</td>\n",
              "    </tr>\n",
              "    <tr>\n",
              "      <th>2</th>\n",
              "      <td>1</td>\n",
              "      <td>2</td>\n",
              "      <td>0</td>\n",
              "      <td>1</td>\n",
              "      <td>1</td>\n",
              "      <td>2</td>\n",
              "      <td>0</td>\n",
              "      <td>2</td>\n",
              "      <td>1</td>\n",
              "      <td>2</td>\n",
              "      <td>1</td>\n",
              "    </tr>\n",
              "    <tr>\n",
              "      <th>3</th>\n",
              "      <td>0</td>\n",
              "      <td>2</td>\n",
              "      <td>0</td>\n",
              "      <td>0</td>\n",
              "      <td>1</td>\n",
              "      <td>2</td>\n",
              "      <td>1</td>\n",
              "      <td>0</td>\n",
              "      <td>1</td>\n",
              "      <td>3</td>\n",
              "      <td>1</td>\n",
              "    </tr>\n",
              "    <tr>\n",
              "      <th>4</th>\n",
              "      <td>0</td>\n",
              "      <td>2</td>\n",
              "      <td>1</td>\n",
              "      <td>0</td>\n",
              "      <td>1</td>\n",
              "      <td>3</td>\n",
              "      <td>0</td>\n",
              "      <td>0</td>\n",
              "      <td>0</td>\n",
              "      <td>2</td>\n",
              "      <td>1</td>\n",
              "    </tr>\n",
              "    <tr>\n",
              "      <th>5</th>\n",
              "      <td>1</td>\n",
              "      <td>2</td>\n",
              "      <td>0</td>\n",
              "      <td>0</td>\n",
              "      <td>1</td>\n",
              "      <td>2</td>\n",
              "      <td>1</td>\n",
              "      <td>0</td>\n",
              "      <td>2</td>\n",
              "      <td>1</td>\n",
              "      <td>1</td>\n",
              "    </tr>\n",
              "  </tbody>\n",
              "</table>\n",
              "</div>\n",
              "      <button class=\"colab-df-convert\" onclick=\"convertToInteractive('df-5335faf3-9d98-4d7b-b7d7-ad63a9cf7d40')\"\n",
              "              title=\"Convert this dataframe to an interactive table.\"\n",
              "              style=\"display:none;\">\n",
              "        \n",
              "  <svg xmlns=\"http://www.w3.org/2000/svg\" height=\"24px\"viewBox=\"0 0 24 24\"\n",
              "       width=\"24px\">\n",
              "    <path d=\"M0 0h24v24H0V0z\" fill=\"none\"/>\n",
              "    <path d=\"M18.56 5.44l.94 2.06.94-2.06 2.06-.94-2.06-.94-.94-2.06-.94 2.06-2.06.94zm-11 1L8.5 8.5l.94-2.06 2.06-.94-2.06-.94L8.5 2.5l-.94 2.06-2.06.94zm10 10l.94 2.06.94-2.06 2.06-.94-2.06-.94-.94-2.06-.94 2.06-2.06.94z\"/><path d=\"M17.41 7.96l-1.37-1.37c-.4-.4-.92-.59-1.43-.59-.52 0-1.04.2-1.43.59L10.3 9.45l-7.72 7.72c-.78.78-.78 2.05 0 2.83L4 21.41c.39.39.9.59 1.41.59.51 0 1.02-.2 1.41-.59l7.78-7.78 2.81-2.81c.8-.78.8-2.07 0-2.86zM5.41 20L4 18.59l7.72-7.72 1.47 1.35L5.41 20z\"/>\n",
              "  </svg>\n",
              "      </button>\n",
              "      \n",
              "  <style>\n",
              "    .colab-df-container {\n",
              "      display:flex;\n",
              "      flex-wrap:wrap;\n",
              "      gap: 12px;\n",
              "    }\n",
              "\n",
              "    .colab-df-convert {\n",
              "      background-color: #E8F0FE;\n",
              "      border: none;\n",
              "      border-radius: 50%;\n",
              "      cursor: pointer;\n",
              "      display: none;\n",
              "      fill: #1967D2;\n",
              "      height: 32px;\n",
              "      padding: 0 0 0 0;\n",
              "      width: 32px;\n",
              "    }\n",
              "\n",
              "    .colab-df-convert:hover {\n",
              "      background-color: #E2EBFA;\n",
              "      box-shadow: 0px 1px 2px rgba(60, 64, 67, 0.3), 0px 1px 3px 1px rgba(60, 64, 67, 0.15);\n",
              "      fill: #174EA6;\n",
              "    }\n",
              "\n",
              "    [theme=dark] .colab-df-convert {\n",
              "      background-color: #3B4455;\n",
              "      fill: #D2E3FC;\n",
              "    }\n",
              "\n",
              "    [theme=dark] .colab-df-convert:hover {\n",
              "      background-color: #434B5C;\n",
              "      box-shadow: 0px 1px 3px 1px rgba(0, 0, 0, 0.15);\n",
              "      filter: drop-shadow(0px 1px 2px rgba(0, 0, 0, 0.3));\n",
              "      fill: #FFFFFF;\n",
              "    }\n",
              "  </style>\n",
              "\n",
              "      <script>\n",
              "        const buttonEl =\n",
              "          document.querySelector('#df-5335faf3-9d98-4d7b-b7d7-ad63a9cf7d40 button.colab-df-convert');\n",
              "        buttonEl.style.display =\n",
              "          google.colab.kernel.accessAllowed ? 'block' : 'none';\n",
              "\n",
              "        async function convertToInteractive(key) {\n",
              "          const element = document.querySelector('#df-5335faf3-9d98-4d7b-b7d7-ad63a9cf7d40');\n",
              "          const dataTable =\n",
              "            await google.colab.kernel.invokeFunction('convertToInteractive',\n",
              "                                                     [key], {});\n",
              "          if (!dataTable) return;\n",
              "\n",
              "          const docLinkHtml = 'Like what you see? Visit the ' +\n",
              "            '<a target=\"_blank\" href=https://colab.research.google.com/notebooks/data_table.ipynb>data table notebook</a>'\n",
              "            + ' to learn more about interactive tables.';\n",
              "          element.innerHTML = '';\n",
              "          dataTable['output_type'] = 'display_data';\n",
              "          await google.colab.output.renderOutput(dataTable, element);\n",
              "          const docLink = document.createElement('div');\n",
              "          docLink.innerHTML = docLinkHtml;\n",
              "          element.appendChild(docLink);\n",
              "        }\n",
              "      </script>\n",
              "    </div>\n",
              "  </div>\n",
              "  "
            ],
            "text/plain": [
              "   gender  age  hypertension  heart_disease  ever_married  work_type  \\\n",
              "0       1    2             0              1             1          2   \n",
              "2       1    2             0              1             1          2   \n",
              "3       0    2             0              0             1          2   \n",
              "4       0    2             1              0             1          3   \n",
              "5       1    2             0              0             1          2   \n",
              "\n",
              "   Residence_type  avg_glucose_level  bmi  smoking_status  stroke  \n",
              "0               1                  0    1               1       1  \n",
              "2               0                  2    1               2       1  \n",
              "3               1                  0    1               3       1  \n",
              "4               0                  0    0               2       1  \n",
              "5               1                  0    2               1       1  "
            ]
          },
          "execution_count": 212,
          "metadata": {},
          "output_type": "execute_result"
        }
      ],
      "source": [
        "df1.head()"
      ]
    },
    {
      "cell_type": "code",
      "execution_count": null,
      "metadata": {
        "id": "_biTseeJ4Q9O"
      },
      "outputs": [],
      "source": [
        "#function that splits the variable attributes and target\n",
        "def load_data(data_dir):\n",
        "    data   = data_dir.iloc[:,:-1]\n",
        "    labels = data_dir.iloc[:,-1]\n",
        "    return data, labels"
      ]
    },
    {
      "cell_type": "code",
      "execution_count": null,
      "metadata": {
        "id": "lF9qDpiW4XAM"
      },
      "outputs": [],
      "source": [
        "#split independent and target variables\n",
        "data, labels = load_data(df1)\n",
        "\n"
      ]
    },
    {
      "cell_type": "code",
      "execution_count": null,
      "metadata": {
        "id": "D5VsvrkHn8A5"
      },
      "outputs": [],
      "source": [
        "x_train, x_test, y_train, y_test = train_test_split(data, labels, test_size=0.20,shuffle=False)"
      ]
    },
    {
      "cell_type": "code",
      "execution_count": null,
      "metadata": {
        "id": "2PUBKbke5tL9"
      },
      "outputs": [],
      "source": [
        "#normalization and scalling\n",
        "std = StandardScaler()\n",
        "x_train = std.fit_transform(x_train)\n",
        "x_test = std.transform(x_test)\n",
        "sm = SMOTE(random_state=2)\n",
        "x_train_res, y_train_res = sm.fit_resample(x_train, y_train.ravel())"
      ]
    },
    {
      "cell_type": "code",
      "execution_count": null,
      "metadata": {
        "colab": {
          "base_uri": "https://localhost:8080/"
        },
        "id": "2LrYwSRGoGfN",
        "outputId": "fe5e950e-acf6-4632-ac83-498110165086"
      },
      "outputs": [
        {
          "name": "stdout",
          "output_type": "stream",
          "text": [
            "accuracy score for trained data:  94.67787114845937\n",
            "accuracy score for test data:  100.0\n"
          ]
        }
      ],
      "source": [
        "#Logistic model train for df1 )(nan values droped)\n",
        "lr = LogisticRegression()\n",
        "clf =lr.fit(x_train,y_train)\n",
        "y_lr_pred = lr.predict(x_test)\n",
        "print(\"accuracy score for trained data: \",accuracy_score(y_train,lr.predict(x_train))*100)\n",
        "print(\"accuracy score for test data: \",accuracy_score(y_test,y_lr_pred)*100)\n"
      ]
    },
    {
      "cell_type": "code",
      "execution_count": null,
      "metadata": {
        "colab": {
          "base_uri": "https://localhost:8080/"
        },
        "id": "vGvailzXK9-b",
        "outputId": "a162ff93-4067-49f0-f89d-35224114d177"
      },
      "outputs": [
        {
          "name": "stdout",
          "output_type": "stream",
          "text": [
            "[1.]\n",
            "[1.]\n",
            "[1.]\n"
          ]
        }
      ],
      "source": [
        "#performace metrics of df1 dataframe for logistic refression\n",
        "print(precision_score(y_test, y_lr_pred, average=None))\n",
        "print(recall_score(y_test, y_lr_pred, average=None))\n",
        "print(f1_score(y_test, y_lr_pred, average=None))"
      ]
    },
    {
      "cell_type": "code",
      "execution_count": null,
      "metadata": {
        "colab": {
          "base_uri": "https://localhost:8080/"
        },
        "id": "wv13nYl4H5mg",
        "outputId": "421692f1-5154-4512-ac2a-20e7e47eb038"
      },
      "outputs": [
        {
          "name": "stdout",
          "output_type": "stream",
          "text": [
            "[[-0.0517542   0.5635068   0.28759182  0.2394503   0.6149783   0.03205641\n",
            "   0.02300277 -0.26183751  0.067254    0.09553007]] [-3.35490817]\n"
          ]
        }
      ],
      "source": [
        "# logistic mmodel coefficents and intercept\n",
        "print(clf.coef_, clf.intercept_)"
      ]
    },
    {
      "cell_type": "code",
      "execution_count": null,
      "metadata": {
        "colab": {
          "base_uri": "https://localhost:8080/"
        },
        "id": "dP-KRJ4QpHaX",
        "outputId": "d61c26c6-5278-4773-d3f4-ef45a9af5baf"
      },
      "outputs": [
        {
          "name": "stdout",
          "output_type": "stream",
          "text": [
            "Training Accuracy of random forest Classifier is 96.48586707410237\n",
            "Test Accuracy of random forest Classifier is 98.57433808553971 \n",
            "\n"
          ]
        }
      ],
      "source": [
        "#RF model train for df1 )(nan values droped)\n",
        "rd_clf = RandomForestClassifier()\n",
        "clf_random = rd_clf.fit(x_train, y_train)\n",
        "\n",
        "# accuracy score, confusion matrix and classification report of random forest\n",
        "\n",
        "rd_clf_acc = accuracy_score(y_test, rd_clf.predict(x_test))*100\n",
        "\n",
        "print(f\"Training Accuracy of random forest Classifier is {accuracy_score(y_train, rd_clf.predict(x_train))*100}\")\n",
        "print(f\"Test Accuracy of random forest Classifier is {rd_clf_acc} \\n\")\n"
      ]
    },
    {
      "cell_type": "code",
      "execution_count": null,
      "metadata": {
        "colab": {
          "base_uri": "https://localhost:8080/"
        },
        "id": "uUDDypM0LpXe",
        "outputId": "4c1220ee-128a-42d1-930c-6fafa030b8c3"
      },
      "outputs": [
        {
          "name": "stdout",
          "output_type": "stream",
          "text": [
            "[1. 0.]\n",
            "[0.98574338 0.        ]\n",
            "[0.99282051 0.        ]\n"
          ]
        }
      ],
      "source": [
        "#performace metrics of df1 dataframe for Random Forest\n",
        "print(precision_score(y_test, rd_clf.predict(x_test), average=None))\n",
        "print(recall_score(y_test, rd_clf.predict(x_test), average=None))\n",
        "print(f1_score(y_test, rd_clf.predict(x_test), average=None))"
      ]
    },
    {
      "cell_type": "code",
      "execution_count": null,
      "metadata": {
        "colab": {
          "base_uri": "https://localhost:8080/"
        },
        "id": "zc_vdaj-IIZ4",
        "outputId": "201f8f5a-217a-4cf4-c0c9-b3c1aedfd025"
      },
      "outputs": [
        {
          "data": {
            "text/plain": [
              "array([0.08323578, 0.05847836, 0.05354972, 0.05377792, 0.03808591,\n",
              "       0.14486672, 0.08645567, 0.11039919, 0.15810755, 0.21304319])"
            ]
          },
          "execution_count": 222,
          "metadata": {},
          "output_type": "execute_result"
        }
      ],
      "source": [
        "#Feature Imporatnce of random forest model\n",
        "clf_random.feature_importances_"
      ]
    },
    {
      "cell_type": "code",
      "execution_count": null,
      "metadata": {
        "id": "H8RYA4nHWqOf"
      },
      "outputs": [],
      "source": [
        "#Preprocesing and EDA of df_median and df_random data frames."
      ]
    },
    {
      "cell_type": "code",
      "execution_count": null,
      "metadata": {
        "colab": {
          "base_uri": "https://localhost:8080/",
          "height": 206
        },
        "id": "g36hacbzqqQz",
        "outputId": "e147f6c2-ac20-41c3-d2ac-98b407583824"
      },
      "outputs": [
        {
          "data": {
            "text/html": [
              "\n",
              "  <div id=\"df-b4dbd392-f93a-400a-92a7-8bfd040f93c8\">\n",
              "    <div class=\"colab-df-container\">\n",
              "      <div>\n",
              "<style scoped>\n",
              "    .dataframe tbody tr th:only-of-type {\n",
              "        vertical-align: middle;\n",
              "    }\n",
              "\n",
              "    .dataframe tbody tr th {\n",
              "        vertical-align: top;\n",
              "    }\n",
              "\n",
              "    .dataframe thead th {\n",
              "        text-align: right;\n",
              "    }\n",
              "</style>\n",
              "<table border=\"1\" class=\"dataframe\">\n",
              "  <thead>\n",
              "    <tr style=\"text-align: right;\">\n",
              "      <th></th>\n",
              "      <th>gender</th>\n",
              "      <th>age</th>\n",
              "      <th>hypertension</th>\n",
              "      <th>heart_disease</th>\n",
              "      <th>ever_married</th>\n",
              "      <th>work_type</th>\n",
              "      <th>Residence_type</th>\n",
              "      <th>avg_glucose_level</th>\n",
              "      <th>smoking_status</th>\n",
              "      <th>stroke</th>\n",
              "      <th>bmi_median</th>\n",
              "      <th>bmi_random</th>\n",
              "    </tr>\n",
              "  </thead>\n",
              "  <tbody>\n",
              "    <tr>\n",
              "      <th>0</th>\n",
              "      <td>Male</td>\n",
              "      <td>67.0</td>\n",
              "      <td>0</td>\n",
              "      <td>1</td>\n",
              "      <td>Yes</td>\n",
              "      <td>Private</td>\n",
              "      <td>Urban</td>\n",
              "      <td>228.69</td>\n",
              "      <td>formerly smoked</td>\n",
              "      <td>1</td>\n",
              "      <td>36.6</td>\n",
              "      <td>36.6</td>\n",
              "    </tr>\n",
              "    <tr>\n",
              "      <th>1</th>\n",
              "      <td>Female</td>\n",
              "      <td>61.0</td>\n",
              "      <td>0</td>\n",
              "      <td>0</td>\n",
              "      <td>Yes</td>\n",
              "      <td>Self-employed</td>\n",
              "      <td>Rural</td>\n",
              "      <td>202.21</td>\n",
              "      <td>never smoked</td>\n",
              "      <td>1</td>\n",
              "      <td>28.1</td>\n",
              "      <td>27.3</td>\n",
              "    </tr>\n",
              "    <tr>\n",
              "      <th>2</th>\n",
              "      <td>Male</td>\n",
              "      <td>80.0</td>\n",
              "      <td>0</td>\n",
              "      <td>1</td>\n",
              "      <td>Yes</td>\n",
              "      <td>Private</td>\n",
              "      <td>Rural</td>\n",
              "      <td>105.92</td>\n",
              "      <td>never smoked</td>\n",
              "      <td>1</td>\n",
              "      <td>32.5</td>\n",
              "      <td>32.5</td>\n",
              "    </tr>\n",
              "    <tr>\n",
              "      <th>3</th>\n",
              "      <td>Female</td>\n",
              "      <td>49.0</td>\n",
              "      <td>0</td>\n",
              "      <td>0</td>\n",
              "      <td>Yes</td>\n",
              "      <td>Private</td>\n",
              "      <td>Urban</td>\n",
              "      <td>171.23</td>\n",
              "      <td>smokes</td>\n",
              "      <td>1</td>\n",
              "      <td>34.4</td>\n",
              "      <td>34.4</td>\n",
              "    </tr>\n",
              "    <tr>\n",
              "      <th>4</th>\n",
              "      <td>Female</td>\n",
              "      <td>79.0</td>\n",
              "      <td>1</td>\n",
              "      <td>0</td>\n",
              "      <td>Yes</td>\n",
              "      <td>Self-employed</td>\n",
              "      <td>Rural</td>\n",
              "      <td>174.12</td>\n",
              "      <td>never smoked</td>\n",
              "      <td>1</td>\n",
              "      <td>24.0</td>\n",
              "      <td>24.0</td>\n",
              "    </tr>\n",
              "  </tbody>\n",
              "</table>\n",
              "</div>\n",
              "      <button class=\"colab-df-convert\" onclick=\"convertToInteractive('df-b4dbd392-f93a-400a-92a7-8bfd040f93c8')\"\n",
              "              title=\"Convert this dataframe to an interactive table.\"\n",
              "              style=\"display:none;\">\n",
              "        \n",
              "  <svg xmlns=\"http://www.w3.org/2000/svg\" height=\"24px\"viewBox=\"0 0 24 24\"\n",
              "       width=\"24px\">\n",
              "    <path d=\"M0 0h24v24H0V0z\" fill=\"none\"/>\n",
              "    <path d=\"M18.56 5.44l.94 2.06.94-2.06 2.06-.94-2.06-.94-.94-2.06-.94 2.06-2.06.94zm-11 1L8.5 8.5l.94-2.06 2.06-.94-2.06-.94L8.5 2.5l-.94 2.06-2.06.94zm10 10l.94 2.06.94-2.06 2.06-.94-2.06-.94-.94-2.06-.94 2.06-2.06.94z\"/><path d=\"M17.41 7.96l-1.37-1.37c-.4-.4-.92-.59-1.43-.59-.52 0-1.04.2-1.43.59L10.3 9.45l-7.72 7.72c-.78.78-.78 2.05 0 2.83L4 21.41c.39.39.9.59 1.41.59.51 0 1.02-.2 1.41-.59l7.78-7.78 2.81-2.81c.8-.78.8-2.07 0-2.86zM5.41 20L4 18.59l7.72-7.72 1.47 1.35L5.41 20z\"/>\n",
              "  </svg>\n",
              "      </button>\n",
              "      \n",
              "  <style>\n",
              "    .colab-df-container {\n",
              "      display:flex;\n",
              "      flex-wrap:wrap;\n",
              "      gap: 12px;\n",
              "    }\n",
              "\n",
              "    .colab-df-convert {\n",
              "      background-color: #E8F0FE;\n",
              "      border: none;\n",
              "      border-radius: 50%;\n",
              "      cursor: pointer;\n",
              "      display: none;\n",
              "      fill: #1967D2;\n",
              "      height: 32px;\n",
              "      padding: 0 0 0 0;\n",
              "      width: 32px;\n",
              "    }\n",
              "\n",
              "    .colab-df-convert:hover {\n",
              "      background-color: #E2EBFA;\n",
              "      box-shadow: 0px 1px 2px rgba(60, 64, 67, 0.3), 0px 1px 3px 1px rgba(60, 64, 67, 0.15);\n",
              "      fill: #174EA6;\n",
              "    }\n",
              "\n",
              "    [theme=dark] .colab-df-convert {\n",
              "      background-color: #3B4455;\n",
              "      fill: #D2E3FC;\n",
              "    }\n",
              "\n",
              "    [theme=dark] .colab-df-convert:hover {\n",
              "      background-color: #434B5C;\n",
              "      box-shadow: 0px 1px 3px 1px rgba(0, 0, 0, 0.15);\n",
              "      filter: drop-shadow(0px 1px 2px rgba(0, 0, 0, 0.3));\n",
              "      fill: #FFFFFF;\n",
              "    }\n",
              "  </style>\n",
              "\n",
              "      <script>\n",
              "        const buttonEl =\n",
              "          document.querySelector('#df-b4dbd392-f93a-400a-92a7-8bfd040f93c8 button.colab-df-convert');\n",
              "        buttonEl.style.display =\n",
              "          google.colab.kernel.accessAllowed ? 'block' : 'none';\n",
              "\n",
              "        async function convertToInteractive(key) {\n",
              "          const element = document.querySelector('#df-b4dbd392-f93a-400a-92a7-8bfd040f93c8');\n",
              "          const dataTable =\n",
              "            await google.colab.kernel.invokeFunction('convertToInteractive',\n",
              "                                                     [key], {});\n",
              "          if (!dataTable) return;\n",
              "\n",
              "          const docLinkHtml = 'Like what you see? Visit the ' +\n",
              "            '<a target=\"_blank\" href=https://colab.research.google.com/notebooks/data_table.ipynb>data table notebook</a>'\n",
              "            + ' to learn more about interactive tables.';\n",
              "          element.innerHTML = '';\n",
              "          dataTable['output_type'] = 'display_data';\n",
              "          await google.colab.output.renderOutput(dataTable, element);\n",
              "          const docLink = document.createElement('div');\n",
              "          docLink.innerHTML = docLinkHtml;\n",
              "          element.appendChild(docLink);\n",
              "        }\n",
              "      </script>\n",
              "    </div>\n",
              "  </div>\n",
              "  "
            ],
            "text/plain": [
              "   gender   age  hypertension  heart_disease ever_married      work_type  \\\n",
              "0    Male  67.0             0              1          Yes        Private   \n",
              "1  Female  61.0             0              0          Yes  Self-employed   \n",
              "2    Male  80.0             0              1          Yes        Private   \n",
              "3  Female  49.0             0              0          Yes        Private   \n",
              "4  Female  79.0             1              0          Yes  Self-employed   \n",
              "\n",
              "  Residence_type  avg_glucose_level   smoking_status  stroke  bmi_median  \\\n",
              "0          Urban             228.69  formerly smoked       1        36.6   \n",
              "1          Rural             202.21     never smoked       1        28.1   \n",
              "2          Rural             105.92     never smoked       1        32.5   \n",
              "3          Urban             171.23           smokes       1        34.4   \n",
              "4          Rural             174.12     never smoked       1        24.0   \n",
              "\n",
              "   bmi_random  \n",
              "0        36.6  \n",
              "1        27.3  \n",
              "2        32.5  \n",
              "3        34.4  \n",
              "4        24.0  "
            ]
          },
          "execution_count": 224,
          "metadata": {},
          "output_type": "execute_result"
        }
      ],
      "source": [
        "df_new=df.drop(columns=['bmi',\"id\"])\n",
        "df_new.head()"
      ]
    },
    {
      "cell_type": "code",
      "execution_count": null,
      "metadata": {
        "colab": {
          "base_uri": "https://localhost:8080/",
          "height": 206
        },
        "id": "jiFOx1rwq2oe",
        "outputId": "9cbe61ad-765e-423c-afce-9dfb8cb7851c"
      },
      "outputs": [
        {
          "data": {
            "text/html": [
              "\n",
              "  <div id=\"df-55d90b22-befa-4dbd-b103-f168dc18c0de\">\n",
              "    <div class=\"colab-df-container\">\n",
              "      <div>\n",
              "<style scoped>\n",
              "    .dataframe tbody tr th:only-of-type {\n",
              "        vertical-align: middle;\n",
              "    }\n",
              "\n",
              "    .dataframe tbody tr th {\n",
              "        vertical-align: top;\n",
              "    }\n",
              "\n",
              "    .dataframe thead th {\n",
              "        text-align: right;\n",
              "    }\n",
              "</style>\n",
              "<table border=\"1\" class=\"dataframe\">\n",
              "  <thead>\n",
              "    <tr style=\"text-align: right;\">\n",
              "      <th></th>\n",
              "      <th>gender</th>\n",
              "      <th>age</th>\n",
              "      <th>hypertension</th>\n",
              "      <th>heart_disease</th>\n",
              "      <th>ever_married</th>\n",
              "      <th>work_type</th>\n",
              "      <th>Residence_type</th>\n",
              "      <th>avg_glucose_level</th>\n",
              "      <th>smoking_status</th>\n",
              "      <th>stroke</th>\n",
              "      <th>bmi_median</th>\n",
              "      <th>bmi_random</th>\n",
              "    </tr>\n",
              "  </thead>\n",
              "  <tbody>\n",
              "    <tr>\n",
              "      <th>0</th>\n",
              "      <td>Male</td>\n",
              "      <td>senior</td>\n",
              "      <td>0</td>\n",
              "      <td>1</td>\n",
              "      <td>Yes</td>\n",
              "      <td>Private</td>\n",
              "      <td>Urban</td>\n",
              "      <td>diabatic</td>\n",
              "      <td>formerly smoked</td>\n",
              "      <td>1</td>\n",
              "      <td>Obese</td>\n",
              "      <td>Obese</td>\n",
              "    </tr>\n",
              "    <tr>\n",
              "      <th>1</th>\n",
              "      <td>Female</td>\n",
              "      <td>senior</td>\n",
              "      <td>0</td>\n",
              "      <td>0</td>\n",
              "      <td>Yes</td>\n",
              "      <td>Self-employed</td>\n",
              "      <td>Rural</td>\n",
              "      <td>diabatic</td>\n",
              "      <td>never smoked</td>\n",
              "      <td>1</td>\n",
              "      <td>Overweight</td>\n",
              "      <td>Overweight</td>\n",
              "    </tr>\n",
              "    <tr>\n",
              "      <th>2</th>\n",
              "      <td>Male</td>\n",
              "      <td>senior</td>\n",
              "      <td>0</td>\n",
              "      <td>1</td>\n",
              "      <td>Yes</td>\n",
              "      <td>Private</td>\n",
              "      <td>Rural</td>\n",
              "      <td>pre_diabatic</td>\n",
              "      <td>never smoked</td>\n",
              "      <td>1</td>\n",
              "      <td>Obese</td>\n",
              "      <td>Obese</td>\n",
              "    </tr>\n",
              "    <tr>\n",
              "      <th>3</th>\n",
              "      <td>Female</td>\n",
              "      <td>senior</td>\n",
              "      <td>0</td>\n",
              "      <td>0</td>\n",
              "      <td>Yes</td>\n",
              "      <td>Private</td>\n",
              "      <td>Urban</td>\n",
              "      <td>diabatic</td>\n",
              "      <td>smokes</td>\n",
              "      <td>1</td>\n",
              "      <td>Obese</td>\n",
              "      <td>Obese</td>\n",
              "    </tr>\n",
              "    <tr>\n",
              "      <th>4</th>\n",
              "      <td>Female</td>\n",
              "      <td>senior</td>\n",
              "      <td>1</td>\n",
              "      <td>0</td>\n",
              "      <td>Yes</td>\n",
              "      <td>Self-employed</td>\n",
              "      <td>Rural</td>\n",
              "      <td>diabatic</td>\n",
              "      <td>never smoked</td>\n",
              "      <td>1</td>\n",
              "      <td>Healthy</td>\n",
              "      <td>Healthy</td>\n",
              "    </tr>\n",
              "  </tbody>\n",
              "</table>\n",
              "</div>\n",
              "      <button class=\"colab-df-convert\" onclick=\"convertToInteractive('df-55d90b22-befa-4dbd-b103-f168dc18c0de')\"\n",
              "              title=\"Convert this dataframe to an interactive table.\"\n",
              "              style=\"display:none;\">\n",
              "        \n",
              "  <svg xmlns=\"http://www.w3.org/2000/svg\" height=\"24px\"viewBox=\"0 0 24 24\"\n",
              "       width=\"24px\">\n",
              "    <path d=\"M0 0h24v24H0V0z\" fill=\"none\"/>\n",
              "    <path d=\"M18.56 5.44l.94 2.06.94-2.06 2.06-.94-2.06-.94-.94-2.06-.94 2.06-2.06.94zm-11 1L8.5 8.5l.94-2.06 2.06-.94-2.06-.94L8.5 2.5l-.94 2.06-2.06.94zm10 10l.94 2.06.94-2.06 2.06-.94-2.06-.94-.94-2.06-.94 2.06-2.06.94z\"/><path d=\"M17.41 7.96l-1.37-1.37c-.4-.4-.92-.59-1.43-.59-.52 0-1.04.2-1.43.59L10.3 9.45l-7.72 7.72c-.78.78-.78 2.05 0 2.83L4 21.41c.39.39.9.59 1.41.59.51 0 1.02-.2 1.41-.59l7.78-7.78 2.81-2.81c.8-.78.8-2.07 0-2.86zM5.41 20L4 18.59l7.72-7.72 1.47 1.35L5.41 20z\"/>\n",
              "  </svg>\n",
              "      </button>\n",
              "      \n",
              "  <style>\n",
              "    .colab-df-container {\n",
              "      display:flex;\n",
              "      flex-wrap:wrap;\n",
              "      gap: 12px;\n",
              "    }\n",
              "\n",
              "    .colab-df-convert {\n",
              "      background-color: #E8F0FE;\n",
              "      border: none;\n",
              "      border-radius: 50%;\n",
              "      cursor: pointer;\n",
              "      display: none;\n",
              "      fill: #1967D2;\n",
              "      height: 32px;\n",
              "      padding: 0 0 0 0;\n",
              "      width: 32px;\n",
              "    }\n",
              "\n",
              "    .colab-df-convert:hover {\n",
              "      background-color: #E2EBFA;\n",
              "      box-shadow: 0px 1px 2px rgba(60, 64, 67, 0.3), 0px 1px 3px 1px rgba(60, 64, 67, 0.15);\n",
              "      fill: #174EA6;\n",
              "    }\n",
              "\n",
              "    [theme=dark] .colab-df-convert {\n",
              "      background-color: #3B4455;\n",
              "      fill: #D2E3FC;\n",
              "    }\n",
              "\n",
              "    [theme=dark] .colab-df-convert:hover {\n",
              "      background-color: #434B5C;\n",
              "      box-shadow: 0px 1px 3px 1px rgba(0, 0, 0, 0.15);\n",
              "      filter: drop-shadow(0px 1px 2px rgba(0, 0, 0, 0.3));\n",
              "      fill: #FFFFFF;\n",
              "    }\n",
              "  </style>\n",
              "\n",
              "      <script>\n",
              "        const buttonEl =\n",
              "          document.querySelector('#df-55d90b22-befa-4dbd-b103-f168dc18c0de button.colab-df-convert');\n",
              "        buttonEl.style.display =\n",
              "          google.colab.kernel.accessAllowed ? 'block' : 'none';\n",
              "\n",
              "        async function convertToInteractive(key) {\n",
              "          const element = document.querySelector('#df-55d90b22-befa-4dbd-b103-f168dc18c0de');\n",
              "          const dataTable =\n",
              "            await google.colab.kernel.invokeFunction('convertToInteractive',\n",
              "                                                     [key], {});\n",
              "          if (!dataTable) return;\n",
              "\n",
              "          const docLinkHtml = 'Like what you see? Visit the ' +\n",
              "            '<a target=\"_blank\" href=https://colab.research.google.com/notebooks/data_table.ipynb>data table notebook</a>'\n",
              "            + ' to learn more about interactive tables.';\n",
              "          element.innerHTML = '';\n",
              "          dataTable['output_type'] = 'display_data';\n",
              "          await google.colab.output.renderOutput(dataTable, element);\n",
              "          const docLink = document.createElement('div');\n",
              "          docLink.innerHTML = docLinkHtml;\n",
              "          element.appendChild(docLink);\n",
              "        }\n",
              "      </script>\n",
              "    </div>\n",
              "  </div>\n",
              "  "
            ],
            "text/plain": [
              "   gender     age  hypertension  heart_disease ever_married      work_type  \\\n",
              "0    Male  senior             0              1          Yes        Private   \n",
              "1  Female  senior             0              0          Yes  Self-employed   \n",
              "2    Male  senior             0              1          Yes        Private   \n",
              "3  Female  senior             0              0          Yes        Private   \n",
              "4  Female  senior             1              0          Yes  Self-employed   \n",
              "\n",
              "  Residence_type avg_glucose_level   smoking_status  stroke  bmi_median  \\\n",
              "0          Urban          diabatic  formerly smoked       1       Obese   \n",
              "1          Rural          diabatic     never smoked       1  Overweight   \n",
              "2          Rural      pre_diabatic     never smoked       1       Obese   \n",
              "3          Urban          diabatic           smokes       1       Obese   \n",
              "4          Rural          diabatic     never smoked       1     Healthy   \n",
              "\n",
              "   bmi_random  \n",
              "0       Obese  \n",
              "1  Overweight  \n",
              "2       Obese  \n",
              "3       Obese  \n",
              "4     Healthy  "
            ]
          },
          "execution_count": 225,
          "metadata": {},
          "output_type": "execute_result"
        }
      ],
      "source": [
        "#grouping\n",
        "df_new['bmi_median'] = pd.cut(x=df_new['bmi_median'], bins=[0,18.4,24.9,29.9,100],\n",
        "                     labels=['Underweight','Healthy','Overweight', 'Obese'])\n",
        "df_new['bmi_random'] = pd.cut(x=df_new['bmi_random'], bins=[0,18.4,24.9,29.9,100],\n",
        "                     labels=['Underweight','Healthy','Overweight', 'Obese'])\n",
        "df_new['age'] = pd.cut(x=df_new['age'], bins=[0,12.0,25.0,45.0,100],\n",
        "                     labels=['child','teen','middle_age', 'senior'])\n",
        "df_new['avg_glucose_level'] = df['avg_glucose_level'].div(18).round(2)\n",
        "df_new['avg_glucose_level'] = pd.cut(x=df_new['avg_glucose_level'], bins=[0,5.7,6.4,15.1],\n",
        "                     labels=['normal','pre_diabatic','diabatic'])\n",
        "df_new.head()"
      ]
    },
    {
      "cell_type": "code",
      "execution_count": null,
      "metadata": {
        "colab": {
          "base_uri": "https://localhost:8080/",
          "height": 298
        },
        "id": "XuysJoAqt2EU",
        "outputId": "0fa93cb8-04cc-4833-e548-7f400a4a1153"
      },
      "outputs": [
        {
          "data": {
            "text/plain": [
              "<matplotlib.axes._subplots.AxesSubplot at 0x7faca3341310>"
            ]
          },
          "execution_count": 226,
          "metadata": {},
          "output_type": "execute_result"
        },
        {
          "data": {
            "image/png": "[encoded data removed]",
            "text/plain": [
              "<Figure size 432x288 with 1 Axes>"
            ]
          },
          "metadata": {
            "needs_background": "light"
          },
          "output_type": "display_data"
        }
      ],
      "source": [
        "sns.countplot(data=df_new, x='bmi_random',palette = 'pink', hue='stroke',edgecolor='black')"
      ]
    },
    {
      "cell_type": "code",
      "execution_count": null,
      "metadata": {
        "colab": {
          "base_uri": "https://localhost:8080/",
          "height": 298
        },
        "id": "h-ohu_yWuQ3X",
        "outputId": "744cb954-a00a-4fe1-e01d-b10188c4b166"
      },
      "outputs": [
        {
          "data": {
            "text/plain": [
              "<matplotlib.axes._subplots.AxesSubplot at 0x7faca32d4610>"
            ]
          },
          "execution_count": 227,
          "metadata": {},
          "output_type": "execute_result"
        },
        {
          "data": {
            "image/png": "[encoded data removed]",
            "text/plain": [
              "<Figure size 432x288 with 1 Axes>"
            ]
          },
          "metadata": {
            "needs_background": "light"
          },
          "output_type": "display_data"
        }
      ],
      "source": [
        "sns.countplot(data=df_new, x='bmi_median',palette = 'pink', hue='stroke',edgecolor='black')"
      ]
    },
    {
      "cell_type": "code",
      "execution_count": null,
      "metadata": {
        "id": "klc3i3YRwheD"
      },
      "outputs": [],
      "source": [
        "df_new_median= df_new.drop(columns=['bmi_random'])\n",
        "df_new_random= df_new.drop(columns=['bmi_median'])"
      ]
    },
    {
      "cell_type": "code",
      "execution_count": null,
      "metadata": {
        "colab": {
          "base_uri": "https://localhost:8080/",
          "height": 206
        },
        "id": "AHhThW591aqV",
        "outputId": "88855684-44b5-4f24-821e-a888bcbe1bd3"
      },
      "outputs": [
        {
          "data": {
            "text/html": [
              "\n",
              "  <div id=\"df-a2705eb6-1031-4d1d-af72-e3b498ba1dfe\">\n",
              "    <div class=\"colab-df-container\">\n",
              "      <div>\n",
              "<style scoped>\n",
              "    .dataframe tbody tr th:only-of-type {\n",
              "        vertical-align: middle;\n",
              "    }\n",
              "\n",
              "    .dataframe tbody tr th {\n",
              "        vertical-align: top;\n",
              "    }\n",
              "\n",
              "    .dataframe thead th {\n",
              "        text-align: right;\n",
              "    }\n",
              "</style>\n",
              "<table border=\"1\" class=\"dataframe\">\n",
              "  <thead>\n",
              "    <tr style=\"text-align: right;\">\n",
              "      <th></th>\n",
              "      <th>gender</th>\n",
              "      <th>age</th>\n",
              "      <th>hypertension</th>\n",
              "      <th>heart_disease</th>\n",
              "      <th>ever_married</th>\n",
              "      <th>work_type</th>\n",
              "      <th>Residence_type</th>\n",
              "      <th>avg_glucose_level</th>\n",
              "      <th>smoking_status</th>\n",
              "      <th>stroke</th>\n",
              "      <th>bmi_median</th>\n",
              "    </tr>\n",
              "  </thead>\n",
              "  <tbody>\n",
              "    <tr>\n",
              "      <th>0</th>\n",
              "      <td>Male</td>\n",
              "      <td>senior</td>\n",
              "      <td>0</td>\n",
              "      <td>1</td>\n",
              "      <td>Yes</td>\n",
              "      <td>Private</td>\n",
              "      <td>Urban</td>\n",
              "      <td>diabatic</td>\n",
              "      <td>formerly smoked</td>\n",
              "      <td>1</td>\n",
              "      <td>Obese</td>\n",
              "    </tr>\n",
              "    <tr>\n",
              "      <th>1</th>\n",
              "      <td>Female</td>\n",
              "      <td>senior</td>\n",
              "      <td>0</td>\n",
              "      <td>0</td>\n",
              "      <td>Yes</td>\n",
              "      <td>Self-employed</td>\n",
              "      <td>Rural</td>\n",
              "      <td>diabatic</td>\n",
              "      <td>never smoked</td>\n",
              "      <td>1</td>\n",
              "      <td>Overweight</td>\n",
              "    </tr>\n",
              "    <tr>\n",
              "      <th>2</th>\n",
              "      <td>Male</td>\n",
              "      <td>senior</td>\n",
              "      <td>0</td>\n",
              "      <td>1</td>\n",
              "      <td>Yes</td>\n",
              "      <td>Private</td>\n",
              "      <td>Rural</td>\n",
              "      <td>pre_diabatic</td>\n",
              "      <td>never smoked</td>\n",
              "      <td>1</td>\n",
              "      <td>Obese</td>\n",
              "    </tr>\n",
              "    <tr>\n",
              "      <th>3</th>\n",
              "      <td>Female</td>\n",
              "      <td>senior</td>\n",
              "      <td>0</td>\n",
              "      <td>0</td>\n",
              "      <td>Yes</td>\n",
              "      <td>Private</td>\n",
              "      <td>Urban</td>\n",
              "      <td>diabatic</td>\n",
              "      <td>smokes</td>\n",
              "      <td>1</td>\n",
              "      <td>Obese</td>\n",
              "    </tr>\n",
              "    <tr>\n",
              "      <th>4</th>\n",
              "      <td>Female</td>\n",
              "      <td>senior</td>\n",
              "      <td>1</td>\n",
              "      <td>0</td>\n",
              "      <td>Yes</td>\n",
              "      <td>Self-employed</td>\n",
              "      <td>Rural</td>\n",
              "      <td>diabatic</td>\n",
              "      <td>never smoked</td>\n",
              "      <td>1</td>\n",
              "      <td>Healthy</td>\n",
              "    </tr>\n",
              "  </tbody>\n",
              "</table>\n",
              "</div>\n",
              "      <button class=\"colab-df-convert\" onclick=\"convertToInteractive('df-a2705eb6-1031-4d1d-af72-e3b498ba1dfe')\"\n",
              "              title=\"Convert this dataframe to an interactive table.\"\n",
              "              style=\"display:none;\">\n",
              "        \n",
              "  <svg xmlns=\"http://www.w3.org/2000/svg\" height=\"24px\"viewBox=\"0 0 24 24\"\n",
              "       width=\"24px\">\n",
              "    <path d=\"M0 0h24v24H0V0z\" fill=\"none\"/>\n",
              "    <path d=\"M18.56 5.44l.94 2.06.94-2.06 2.06-.94-2.06-.94-.94-2.06-.94 2.06-2.06.94zm-11 1L8.5 8.5l.94-2.06 2.06-.94-2.06-.94L8.5 2.5l-.94 2.06-2.06.94zm10 10l.94 2.06.94-2.06 2.06-.94-2.06-.94-.94-2.06-.94 2.06-2.06.94z\"/><path d=\"M17.41 7.96l-1.37-1.37c-.4-.4-.92-.59-1.43-.59-.52 0-1.04.2-1.43.59L10.3 9.45l-7.72 7.72c-.78.78-.78 2.05 0 2.83L4 21.41c.39.39.9.59 1.41.59.51 0 1.02-.2 1.41-.59l7.78-7.78 2.81-2.81c.8-.78.8-2.07 0-2.86zM5.41 20L4 18.59l7.72-7.72 1.47 1.35L5.41 20z\"/>\n",
              "  </svg>\n",
              "      </button>\n",
              "      \n",
              "  <style>\n",
              "    .colab-df-container {\n",
              "      display:flex;\n",
              "      flex-wrap:wrap;\n",
              "      gap: 12px;\n",
              "    }\n",
              "\n",
              "    .colab-df-convert {\n",
              "      background-color: #E8F0FE;\n",
              "      border: none;\n",
              "      border-radius: 50%;\n",
              "      cursor: pointer;\n",
              "      display: none;\n",
              "      fill: #1967D2;\n",
              "      height: 32px;\n",
              "      padding: 0 0 0 0;\n",
              "      width: 32px;\n",
              "    }\n",
              "\n",
              "    .colab-df-convert:hover {\n",
              "      background-color: #E2EBFA;\n",
              "      box-shadow: 0px 1px 2px rgba(60, 64, 67, 0.3), 0px 1px 3px 1px rgba(60, 64, 67, 0.15);\n",
              "      fill: #174EA6;\n",
              "    }\n",
              "\n",
              "    [theme=dark] .colab-df-convert {\n",
              "      background-color: #3B4455;\n",
              "      fill: #D2E3FC;\n",
              "    }\n",
              "\n",
              "    [theme=dark] .colab-df-convert:hover {\n",
              "      background-color: #434B5C;\n",
              "      box-shadow: 0px 1px 3px 1px rgba(0, 0, 0, 0.15);\n",
              "      filter: drop-shadow(0px 1px 2px rgba(0, 0, 0, 0.3));\n",
              "      fill: #FFFFFF;\n",
              "    }\n",
              "  </style>\n",
              "\n",
              "      <script>\n",
              "        const buttonEl =\n",
              "          document.querySelector('#df-a2705eb6-1031-4d1d-af72-e3b498ba1dfe button.colab-df-convert');\n",
              "        buttonEl.style.display =\n",
              "          google.colab.kernel.accessAllowed ? 'block' : 'none';\n",
              "\n",
              "        async function convertToInteractive(key) {\n",
              "          const element = document.querySelector('#df-a2705eb6-1031-4d1d-af72-e3b498ba1dfe');\n",
              "          const dataTable =\n",
              "            await google.colab.kernel.invokeFunction('convertToInteractive',\n",
              "                                                     [key], {});\n",
              "          if (!dataTable) return;\n",
              "\n",
              "          const docLinkHtml = 'Like what you see? Visit the ' +\n",
              "            '<a target=\"_blank\" href=https://colab.research.google.com/notebooks/data_table.ipynb>data table notebook</a>'\n",
              "            + ' to learn more about interactive tables.';\n",
              "          element.innerHTML = '';\n",
              "          dataTable['output_type'] = 'display_data';\n",
              "          await google.colab.output.renderOutput(dataTable, element);\n",
              "          const docLink = document.createElement('div');\n",
              "          docLink.innerHTML = docLinkHtml;\n",
              "          element.appendChild(docLink);\n",
              "        }\n",
              "      </script>\n",
              "    </div>\n",
              "  </div>\n",
              "  "
            ],
            "text/plain": [
              "   gender     age  hypertension  heart_disease ever_married      work_type  \\\n",
              "0    Male  senior             0              1          Yes        Private   \n",
              "1  Female  senior             0              0          Yes  Self-employed   \n",
              "2    Male  senior             0              1          Yes        Private   \n",
              "3  Female  senior             0              0          Yes        Private   \n",
              "4  Female  senior             1              0          Yes  Self-employed   \n",
              "\n",
              "  Residence_type avg_glucose_level   smoking_status  stroke  bmi_median  \n",
              "0          Urban          diabatic  formerly smoked       1       Obese  \n",
              "1          Rural          diabatic     never smoked       1  Overweight  \n",
              "2          Rural      pre_diabatic     never smoked       1       Obese  \n",
              "3          Urban          diabatic           smokes       1       Obese  \n",
              "4          Rural          diabatic     never smoked       1     Healthy  "
            ]
          },
          "execution_count": 229,
          "metadata": {},
          "output_type": "execute_result"
        }
      ],
      "source": [
        "df_new_median.head()"
      ]
    },
    {
      "cell_type": "code",
      "execution_count": null,
      "metadata": {
        "colab": {
          "base_uri": "https://localhost:8080/",
          "height": 206
        },
        "id": "T56GZOsS18Sq",
        "outputId": "5c9304d6-cccb-4e36-bff2-61261432a66c"
      },
      "outputs": [
        {
          "data": {
            "text/html": [
              "\n",
              "  <div id=\"df-591ec3ee-8b65-4d98-95e0-e4740de1b714\">\n",
              "    <div class=\"colab-df-container\">\n",
              "      <div>\n",
              "<style scoped>\n",
              "    .dataframe tbody tr th:only-of-type {\n",
              "        vertical-align: middle;\n",
              "    }\n",
              "\n",
              "    .dataframe tbody tr th {\n",
              "        vertical-align: top;\n",
              "    }\n",
              "\n",
              "    .dataframe thead th {\n",
              "        text-align: right;\n",
              "    }\n",
              "</style>\n",
              "<table border=\"1\" class=\"dataframe\">\n",
              "  <thead>\n",
              "    <tr style=\"text-align: right;\">\n",
              "      <th></th>\n",
              "      <th>gender</th>\n",
              "      <th>age</th>\n",
              "      <th>hypertension</th>\n",
              "      <th>heart_disease</th>\n",
              "      <th>ever_married</th>\n",
              "      <th>work_type</th>\n",
              "      <th>Residence_type</th>\n",
              "      <th>avg_glucose_level</th>\n",
              "      <th>smoking_status</th>\n",
              "      <th>bmi_median</th>\n",
              "      <th>stroke</th>\n",
              "    </tr>\n",
              "  </thead>\n",
              "  <tbody>\n",
              "    <tr>\n",
              "      <th>0</th>\n",
              "      <td>Male</td>\n",
              "      <td>senior</td>\n",
              "      <td>0</td>\n",
              "      <td>1</td>\n",
              "      <td>Yes</td>\n",
              "      <td>Private</td>\n",
              "      <td>Urban</td>\n",
              "      <td>diabatic</td>\n",
              "      <td>formerly smoked</td>\n",
              "      <td>Obese</td>\n",
              "      <td>1</td>\n",
              "    </tr>\n",
              "    <tr>\n",
              "      <th>1</th>\n",
              "      <td>Female</td>\n",
              "      <td>senior</td>\n",
              "      <td>0</td>\n",
              "      <td>0</td>\n",
              "      <td>Yes</td>\n",
              "      <td>Self-employed</td>\n",
              "      <td>Rural</td>\n",
              "      <td>diabatic</td>\n",
              "      <td>never smoked</td>\n",
              "      <td>Overweight</td>\n",
              "      <td>1</td>\n",
              "    </tr>\n",
              "    <tr>\n",
              "      <th>2</th>\n",
              "      <td>Male</td>\n",
              "      <td>senior</td>\n",
              "      <td>0</td>\n",
              "      <td>1</td>\n",
              "      <td>Yes</td>\n",
              "      <td>Private</td>\n",
              "      <td>Rural</td>\n",
              "      <td>pre_diabatic</td>\n",
              "      <td>never smoked</td>\n",
              "      <td>Obese</td>\n",
              "      <td>1</td>\n",
              "    </tr>\n",
              "    <tr>\n",
              "      <th>3</th>\n",
              "      <td>Female</td>\n",
              "      <td>senior</td>\n",
              "      <td>0</td>\n",
              "      <td>0</td>\n",
              "      <td>Yes</td>\n",
              "      <td>Private</td>\n",
              "      <td>Urban</td>\n",
              "      <td>diabatic</td>\n",
              "      <td>smokes</td>\n",
              "      <td>Obese</td>\n",
              "      <td>1</td>\n",
              "    </tr>\n",
              "    <tr>\n",
              "      <th>4</th>\n",
              "      <td>Female</td>\n",
              "      <td>senior</td>\n",
              "      <td>1</td>\n",
              "      <td>0</td>\n",
              "      <td>Yes</td>\n",
              "      <td>Self-employed</td>\n",
              "      <td>Rural</td>\n",
              "      <td>diabatic</td>\n",
              "      <td>never smoked</td>\n",
              "      <td>Healthy</td>\n",
              "      <td>1</td>\n",
              "    </tr>\n",
              "  </tbody>\n",
              "</table>\n",
              "</div>\n",
              "      <button class=\"colab-df-convert\" onclick=\"convertToInteractive('df-591ec3ee-8b65-4d98-95e0-e4740de1b714')\"\n",
              "              title=\"Convert this dataframe to an interactive table.\"\n",
              "              style=\"display:none;\">\n",
              "        \n",
              "  <svg xmlns=\"http://www.w3.org/2000/svg\" height=\"24px\"viewBox=\"0 0 24 24\"\n",
              "       width=\"24px\">\n",
              "    <path d=\"M0 0h24v24H0V0z\" fill=\"none\"/>\n",
              "    <path d=\"M18.56 5.44l.94 2.06.94-2.06 2.06-.94-2.06-.94-.94-2.06-.94 2.06-2.06.94zm-11 1L8.5 8.5l.94-2.06 2.06-.94-2.06-.94L8.5 2.5l-.94 2.06-2.06.94zm10 10l.94 2.06.94-2.06 2.06-.94-2.06-.94-.94-2.06-.94 2.06-2.06.94z\"/><path d=\"M17.41 7.96l-1.37-1.37c-.4-.4-.92-.59-1.43-.59-.52 0-1.04.2-1.43.59L10.3 9.45l-7.72 7.72c-.78.78-.78 2.05 0 2.83L4 21.41c.39.39.9.59 1.41.59.51 0 1.02-.2 1.41-.59l7.78-7.78 2.81-2.81c.8-.78.8-2.07 0-2.86zM5.41 20L4 18.59l7.72-7.72 1.47 1.35L5.41 20z\"/>\n",
              "  </svg>\n",
              "      </button>\n",
              "      \n",
              "  <style>\n",
              "    .colab-df-container {\n",
              "      display:flex;\n",
              "      flex-wrap:wrap;\n",
              "      gap: 12px;\n",
              "    }\n",
              "\n",
              "    .colab-df-convert {\n",
              "      background-color: #E8F0FE;\n",
              "      border: none;\n",
              "      border-radius: 50%;\n",
              "      cursor: pointer;\n",
              "      display: none;\n",
              "      fill: #1967D2;\n",
              "      height: 32px;\n",
              "      padding: 0 0 0 0;\n",
              "      width: 32px;\n",
              "    }\n",
              "\n",
              "    .colab-df-convert:hover {\n",
              "      background-color: #E2EBFA;\n",
              "      box-shadow: 0px 1px 2px rgba(60, 64, 67, 0.3), 0px 1px 3px 1px rgba(60, 64, 67, 0.15);\n",
              "      fill: #174EA6;\n",
              "    }\n",
              "\n",
              "    [theme=dark] .colab-df-convert {\n",
              "      background-color: #3B4455;\n",
              "      fill: #D2E3FC;\n",
              "    }\n",
              "\n",
              "    [theme=dark] .colab-df-convert:hover {\n",
              "      background-color: #434B5C;\n",
              "      box-shadow: 0px 1px 3px 1px rgba(0, 0, 0, 0.15);\n",
              "      filter: drop-shadow(0px 1px 2px rgba(0, 0, 0, 0.3));\n",
              "      fill: #FFFFFF;\n",
              "    }\n",
              "  </style>\n",
              "\n",
              "      <script>\n",
              "        const buttonEl =\n",
              "          document.querySelector('#df-591ec3ee-8b65-4d98-95e0-e4740de1b714 button.colab-df-convert');\n",
              "        buttonEl.style.display =\n",
              "          google.colab.kernel.accessAllowed ? 'block' : 'none';\n",
              "\n",
              "        async function convertToInteractive(key) {\n",
              "          const element = document.querySelector('#df-591ec3ee-8b65-4d98-95e0-e4740de1b714');\n",
              "          const dataTable =\n",
              "            await google.colab.kernel.invokeFunction('convertToInteractive',\n",
              "                                                     [key], {});\n",
              "          if (!dataTable) return;\n",
              "\n",
              "          const docLinkHtml = 'Like what you see? Visit the ' +\n",
              "            '<a target=\"_blank\" href=https://colab.research.google.com/notebooks/data_table.ipynb>data table notebook</a>'\n",
              "            + ' to learn more about interactive tables.';\n",
              "          element.innerHTML = '';\n",
              "          dataTable['output_type'] = 'display_data';\n",
              "          await google.colab.output.renderOutput(dataTable, element);\n",
              "          const docLink = document.createElement('div');\n",
              "          docLink.innerHTML = docLinkHtml;\n",
              "          element.appendChild(docLink);\n",
              "        }\n",
              "      </script>\n",
              "    </div>\n",
              "  </div>\n",
              "  "
            ],
            "text/plain": [
              "   gender     age  hypertension  heart_disease ever_married      work_type  \\\n",
              "0    Male  senior             0              1          Yes        Private   \n",
              "1  Female  senior             0              0          Yes  Self-employed   \n",
              "2    Male  senior             0              1          Yes        Private   \n",
              "3  Female  senior             0              0          Yes        Private   \n",
              "4  Female  senior             1              0          Yes  Self-employed   \n",
              "\n",
              "  Residence_type avg_glucose_level   smoking_status  bmi_median  stroke  \n",
              "0          Urban          diabatic  formerly smoked       Obese       1  \n",
              "1          Rural          diabatic     never smoked  Overweight       1  \n",
              "2          Rural      pre_diabatic     never smoked       Obese       1  \n",
              "3          Urban          diabatic           smokes       Obese       1  \n",
              "4          Rural          diabatic     never smoked     Healthy       1  "
            ]
          },
          "execution_count": 230,
          "metadata": {},
          "output_type": "execute_result"
        }
      ],
      "source": [
        "#Altering the index of bmi_median and stroke\n",
        "columns_titles = [\"gender\",\"age\",\"hypertension\",\"heart_disease\",\"ever_married\",\"work_type\",\"Residence_type\",\"avg_glucose_level\",\"smoking_status\",\"bmi_median\",\"stroke\"]\n",
        "df_new_median=df_new_median.reindex(columns=columns_titles)\n",
        "df_new_median.head()"
      ]
    },
    {
      "cell_type": "code",
      "execution_count": null,
      "metadata": {
        "colab": {
          "base_uri": "https://localhost:8080/",
          "height": 206
        },
        "id": "t2EZqQY83zj8",
        "outputId": "a01baab4-595a-40f1-c718-b51c895cf0e4"
      },
      "outputs": [
        {
          "data": {
            "text/html": [
              "\n",
              "  <div id=\"df-7f448ebd-93ed-4358-9c03-24d85c7211ec\">\n",
              "    <div class=\"colab-df-container\">\n",
              "      <div>\n",
              "<style scoped>\n",
              "    .dataframe tbody tr th:only-of-type {\n",
              "        vertical-align: middle;\n",
              "    }\n",
              "\n",
              "    .dataframe tbody tr th {\n",
              "        vertical-align: top;\n",
              "    }\n",
              "\n",
              "    .dataframe thead th {\n",
              "        text-align: right;\n",
              "    }\n",
              "</style>\n",
              "<table border=\"1\" class=\"dataframe\">\n",
              "  <thead>\n",
              "    <tr style=\"text-align: right;\">\n",
              "      <th></th>\n",
              "      <th>gender</th>\n",
              "      <th>age</th>\n",
              "      <th>hypertension</th>\n",
              "      <th>heart_disease</th>\n",
              "      <th>ever_married</th>\n",
              "      <th>work_type</th>\n",
              "      <th>Residence_type</th>\n",
              "      <th>avg_glucose_level</th>\n",
              "      <th>smoking_status</th>\n",
              "      <th>bmi_random</th>\n",
              "      <th>stroke</th>\n",
              "    </tr>\n",
              "  </thead>\n",
              "  <tbody>\n",
              "    <tr>\n",
              "      <th>0</th>\n",
              "      <td>Male</td>\n",
              "      <td>senior</td>\n",
              "      <td>0</td>\n",
              "      <td>1</td>\n",
              "      <td>Yes</td>\n",
              "      <td>Private</td>\n",
              "      <td>Urban</td>\n",
              "      <td>diabatic</td>\n",
              "      <td>formerly smoked</td>\n",
              "      <td>Obese</td>\n",
              "      <td>1</td>\n",
              "    </tr>\n",
              "    <tr>\n",
              "      <th>1</th>\n",
              "      <td>Female</td>\n",
              "      <td>senior</td>\n",
              "      <td>0</td>\n",
              "      <td>0</td>\n",
              "      <td>Yes</td>\n",
              "      <td>Self-employed</td>\n",
              "      <td>Rural</td>\n",
              "      <td>diabatic</td>\n",
              "      <td>never smoked</td>\n",
              "      <td>Overweight</td>\n",
              "      <td>1</td>\n",
              "    </tr>\n",
              "    <tr>\n",
              "      <th>2</th>\n",
              "      <td>Male</td>\n",
              "      <td>senior</td>\n",
              "      <td>0</td>\n",
              "      <td>1</td>\n",
              "      <td>Yes</td>\n",
              "      <td>Private</td>\n",
              "      <td>Rural</td>\n",
              "      <td>pre_diabatic</td>\n",
              "      <td>never smoked</td>\n",
              "      <td>Obese</td>\n",
              "      <td>1</td>\n",
              "    </tr>\n",
              "    <tr>\n",
              "      <th>3</th>\n",
              "      <td>Female</td>\n",
              "      <td>senior</td>\n",
              "      <td>0</td>\n",
              "      <td>0</td>\n",
              "      <td>Yes</td>\n",
              "      <td>Private</td>\n",
              "      <td>Urban</td>\n",
              "      <td>diabatic</td>\n",
              "      <td>smokes</td>\n",
              "      <td>Obese</td>\n",
              "      <td>1</td>\n",
              "    </tr>\n",
              "    <tr>\n",
              "      <th>4</th>\n",
              "      <td>Female</td>\n",
              "      <td>senior</td>\n",
              "      <td>1</td>\n",
              "      <td>0</td>\n",
              "      <td>Yes</td>\n",
              "      <td>Self-employed</td>\n",
              "      <td>Rural</td>\n",
              "      <td>diabatic</td>\n",
              "      <td>never smoked</td>\n",
              "      <td>Healthy</td>\n",
              "      <td>1</td>\n",
              "    </tr>\n",
              "  </tbody>\n",
              "</table>\n",
              "</div>\n",
              "      <button class=\"colab-df-convert\" onclick=\"convertToInteractive('df-7f448ebd-93ed-4358-9c03-24d85c7211ec')\"\n",
              "              title=\"Convert this dataframe to an interactive table.\"\n",
              "              style=\"display:none;\">\n",
              "        \n",
              "  <svg xmlns=\"http://www.w3.org/2000/svg\" height=\"24px\"viewBox=\"0 0 24 24\"\n",
              "       width=\"24px\">\n",
              "    <path d=\"M0 0h24v24H0V0z\" fill=\"none\"/>\n",
              "    <path d=\"M18.56 5.44l.94 2.06.94-2.06 2.06-.94-2.06-.94-.94-2.06-.94 2.06-2.06.94zm-11 1L8.5 8.5l.94-2.06 2.06-.94-2.06-.94L8.5 2.5l-.94 2.06-2.06.94zm10 10l.94 2.06.94-2.06 2.06-.94-2.06-.94-.94-2.06-.94 2.06-2.06.94z\"/><path d=\"M17.41 7.96l-1.37-1.37c-.4-.4-.92-.59-1.43-.59-.52 0-1.04.2-1.43.59L10.3 9.45l-7.72 7.72c-.78.78-.78 2.05 0 2.83L4 21.41c.39.39.9.59 1.41.59.51 0 1.02-.2 1.41-.59l7.78-7.78 2.81-2.81c.8-.78.8-2.07 0-2.86zM5.41 20L4 18.59l7.72-7.72 1.47 1.35L5.41 20z\"/>\n",
              "  </svg>\n",
              "      </button>\n",
              "      \n",
              "  <style>\n",
              "    .colab-df-container {\n",
              "      display:flex;\n",
              "      flex-wrap:wrap;\n",
              "      gap: 12px;\n",
              "    }\n",
              "\n",
              "    .colab-df-convert {\n",
              "      background-color: #E8F0FE;\n",
              "      border: none;\n",
              "      border-radius: 50%;\n",
              "      cursor: pointer;\n",
              "      display: none;\n",
              "      fill: #1967D2;\n",
              "      height: 32px;\n",
              "      padding: 0 0 0 0;\n",
              "      width: 32px;\n",
              "    }\n",
              "\n",
              "    .colab-df-convert:hover {\n",
              "      background-color: #E2EBFA;\n",
              "      box-shadow: 0px 1px 2px rgba(60, 64, 67, 0.3), 0px 1px 3px 1px rgba(60, 64, 67, 0.15);\n",
              "      fill: #174EA6;\n",
              "    }\n",
              "\n",
              "    [theme=dark] .colab-df-convert {\n",
              "      background-color: #3B4455;\n",
              "      fill: #D2E3FC;\n",
              "    }\n",
              "\n",
              "    [theme=dark] .colab-df-convert:hover {\n",
              "      background-color: #434B5C;\n",
              "      box-shadow: 0px 1px 3px 1px rgba(0, 0, 0, 0.15);\n",
              "      filter: drop-shadow(0px 1px 2px rgba(0, 0, 0, 0.3));\n",
              "      fill: #FFFFFF;\n",
              "    }\n",
              "  </style>\n",
              "\n",
              "      <script>\n",
              "        const buttonEl =\n",
              "          document.querySelector('#df-7f448ebd-93ed-4358-9c03-24d85c7211ec button.colab-df-convert');\n",
              "        buttonEl.style.display =\n",
              "          google.colab.kernel.accessAllowed ? 'block' : 'none';\n",
              "\n",
              "        async function convertToInteractive(key) {\n",
              "          const element = document.querySelector('#df-7f448ebd-93ed-4358-9c03-24d85c7211ec');\n",
              "          const dataTable =\n",
              "            await google.colab.kernel.invokeFunction('convertToInteractive',\n",
              "                                                     [key], {});\n",
              "          if (!dataTable) return;\n",
              "\n",
              "          const docLinkHtml = 'Like what you see? Visit the ' +\n",
              "            '<a target=\"_blank\" href=https://colab.research.google.com/notebooks/data_table.ipynb>data table notebook</a>'\n",
              "            + ' to learn more about interactive tables.';\n",
              "          element.innerHTML = '';\n",
              "          dataTable['output_type'] = 'display_data';\n",
              "          await google.colab.output.renderOutput(dataTable, element);\n",
              "          const docLink = document.createElement('div');\n",
              "          docLink.innerHTML = docLinkHtml;\n",
              "          element.appendChild(docLink);\n",
              "        }\n",
              "      </script>\n",
              "    </div>\n",
              "  </div>\n",
              "  "
            ],
            "text/plain": [
              "   gender     age  hypertension  heart_disease ever_married      work_type  \\\n",
              "0    Male  senior             0              1          Yes        Private   \n",
              "1  Female  senior             0              0          Yes  Self-employed   \n",
              "2    Male  senior             0              1          Yes        Private   \n",
              "3  Female  senior             0              0          Yes        Private   \n",
              "4  Female  senior             1              0          Yes  Self-employed   \n",
              "\n",
              "  Residence_type avg_glucose_level   smoking_status  bmi_random  stroke  \n",
              "0          Urban          diabatic  formerly smoked       Obese       1  \n",
              "1          Rural          diabatic     never smoked  Overweight       1  \n",
              "2          Rural      pre_diabatic     never smoked       Obese       1  \n",
              "3          Urban          diabatic           smokes       Obese       1  \n",
              "4          Rural          diabatic     never smoked     Healthy       1  "
            ]
          },
          "execution_count": 231,
          "metadata": {},
          "output_type": "execute_result"
        }
      ],
      "source": [
        "#Altering the index of bmi_random and stroke\n",
        "columns_titles = [\"gender\",\"age\",\"hypertension\",\"heart_disease\",\"ever_married\",\"work_type\",\"Residence_type\",\"avg_glucose_level\",\"smoking_status\",\"bmi_random\",\"stroke\"]\n",
        "df_new_random=df_new_random.reindex(columns=columns_titles)\n",
        "df_new_random.head()"
      ]
    },
    {
      "cell_type": "code",
      "execution_count": null,
      "metadata": {
        "id": "W4FNyuRWwfGw"
      },
      "outputs": [],
      "source": [
        "#lable encoding for df_median, df_random models\n",
        "label_cols = [\"gender\",\"age\", \"ever_married\",\"work_type\",\"Residence_type\",\"avg_glucose_level\",\"bmi_median\",\"smoking_status\",\"stroke\"]\n",
        "for col in label_cols:\n",
        "    df_new_median[col]= label_encoder.fit_transform(df_new_median[col])\n",
        "label_cols = [\"gender\",\"age\", \"ever_married\",\"work_type\",\"Residence_type\",\"avg_glucose_level\",\"bmi_random\",\"smoking_status\",\"stroke\"]    \n",
        "for col in label_cols:\n",
        "    df_new_random[col]= label_encoder.fit_transform(df_new_random[col])  "
      ]
    },
    {
      "cell_type": "code",
      "execution_count": null,
      "metadata": {
        "colab": {
          "base_uri": "https://localhost:8080/"
        },
        "id": "DTHhoEAdQu_r",
        "outputId": "f5252dec-3f71-423b-dbb6-d36b940635ae"
      },
      "outputs": [
        {
          "data": {
            "text/plain": [
              "array([2, 1, 0, 3])"
            ]
          },
          "execution_count": 233,
          "metadata": {},
          "output_type": "execute_result"
        }
      ],
      "source": [
        "df_new_median.head()\n",
        "df_new_median['age'].unique()"
      ]
    },
    {
      "cell_type": "code",
      "execution_count": null,
      "metadata": {
        "id": "efEc37IouUXJ"
      },
      "outputs": [],
      "source": [
        "data1, labels1 = load_data(df_new_median)\n",
        "#spliting the data\n",
        "x1_train, x1_test, y1_train, y1_test = train_test_split(data1, labels1, test_size=0.20,shuffle=False)\n",
        "data2, labels2 = load_data(df_new_random)\n",
        "#spliting the data\n",
        "x2_train, x2_test, y2_train, y2_test = train_test_split(data2, labels2, test_size=0.20,shuffle=False)\n"
      ]
    },
    {
      "cell_type": "code",
      "execution_count": null,
      "metadata": {
        "id": "gZidPgzJvaHH"
      },
      "outputs": [],
      "source": [
        "#normalizing and scaling the df_median modesl\n",
        "x1_train = std.fit_transform(x1_train)\n",
        "x1_test = std.transform(x1_test)\n",
        "sm = SMOTE(random_state=2)\n",
        "x1_train_res, y1_train_res = sm.fit_resample(x1_train, y1_train.ravel())"
      ]
    },
    {
      "cell_type": "code",
      "execution_count": null,
      "metadata": {
        "id": "ueMo01gHxxgN"
      },
      "outputs": [],
      "source": [
        "#normalizing and scaling the df_random modesl\n",
        "x2_train = std.fit_transform(x2_train)\n",
        "x2_test = std.transform(x2_test)\n",
        "sm = SMOTE(random_state=2)\n",
        "x2_train_res, y1_train_res = sm.fit_resample(x2_train, y2_train.ravel())"
      ]
    },
    {
      "cell_type": "code",
      "execution_count": null,
      "metadata": {
        "colab": {
          "base_uri": "https://localhost:8080/"
        },
        "id": "2hbRfTIayJZo",
        "outputId": "854b92f2-e69b-4360-b4a5-962159e459ea"
      },
      "outputs": [
        {
          "name": "stdout",
          "output_type": "stream",
          "text": [
            "accuracy score for trained data:  93.90900195694715\n",
            "accuracy score for test data:  100.0\n"
          ]
        }
      ],
      "source": [
        "#modling logistic regrssion for df_median dataframe\n",
        "clf1 = lr.fit(x1_train,y1_train)\n",
        "y1_lr_pred = lr.predict(x1_test)\n",
        "print(\"accuracy score for trained data: \",accuracy_score(y1_train,lr.predict(x1_train))*100)\n",
        "print(\"accuracy score for test data: \",accuracy_score(y1_test,y1_lr_pred)*100)"
      ]
    },
    {
      "cell_type": "code",
      "execution_count": null,
      "metadata": {
        "colab": {
          "base_uri": "https://localhost:8080/"
        },
        "id": "MSaQOrkuRwoV",
        "outputId": "d19ff4df-27c2-460e-daf4-ac421ac9b280"
      },
      "outputs": [
        {
          "name": "stdout",
          "output_type": "stream",
          "text": [
            "[[-0.053089    0.55669834  0.25879887  0.23555251  0.59845376  0.01952792\n",
            "   0.07066685 -0.21582864 -0.04572521  0.21122714]] [-3.15244419]\n"
          ]
        }
      ],
      "source": [
        "#Model coeff for df_median data\n",
        "print(clf1.coef_, clf1.intercept_)"
      ]
    },
    {
      "cell_type": "code",
      "execution_count": null,
      "metadata": {
        "colab": {
          "base_uri": "https://localhost:8080/"
        },
        "id": "WCd_MGUtL4VS",
        "outputId": "17c77c4f-7f72-4b4c-afe5-919e412dd59d"
      },
      "outputs": [
        {
          "name": "stdout",
          "output_type": "stream",
          "text": [
            "[1.]\n",
            "[1.]\n",
            "[1.]\n"
          ]
        }
      ],
      "source": [
        "#performance meteric of df_median data\n",
        "print(precision_score(y1_test, y1_lr_pred, average=None))\n",
        "print(recall_score(y1_test, y1_lr_pred, average=None))\n",
        "print(f1_score(y1_test, y1_lr_pred, average=None))"
      ]
    },
    {
      "cell_type": "code",
      "execution_count": null,
      "metadata": {
        "colab": {
          "base_uri": "https://localhost:8080/"
        },
        "id": "ovpQHIYayfIy",
        "outputId": "c1f0fff4-16fe-471b-d483-5fb66f7dfcb4"
      },
      "outputs": [
        {
          "name": "stdout",
          "output_type": "stream",
          "text": [
            "Training Accuracy of random Classifier is 95.71917808219177\n",
            "Test Accuracy of random Classifier is 98.53228962818004 \n",
            "\n"
          ]
        }
      ],
      "source": [
        "#modling RF for df_median dataframe\n",
        "clf_rf1 = rd_clf.fit(x1_train, y1_train)\n",
        "\n",
        "# accuracy score, confusion matrix and classification report of random forest\n",
        "\n",
        "rd_clf_acc = accuracy_score(y1_test, rd_clf.predict(x1_test))*100\n",
        "\n",
        "print(f\"Training Accuracy of random Classifier is {accuracy_score(y1_train, rd_clf.predict(x1_train))*100}\")\n",
        "print(f\"Test Accuracy of random Classifier is {rd_clf_acc} \\n\")"
      ]
    },
    {
      "cell_type": "code",
      "execution_count": null,
      "metadata": {
        "colab": {
          "base_uri": "https://localhost:8080/"
        },
        "id": "0qqZaN-iSBWZ",
        "outputId": "e17492c2-83e1-441b-8c3f-40a131862dc0"
      },
      "outputs": [
        {
          "data": {
            "text/plain": [
              "array([0.0830229 , 0.06728273, 0.05254466, 0.05262928, 0.04367337,\n",
              "       0.14225056, 0.09654243, 0.10934838, 0.213923  , 0.13878269])"
            ]
          },
          "execution_count": 241,
          "metadata": {},
          "output_type": "execute_result"
        }
      ],
      "source": [
        "#fEATURE IMPORATNCE OF RF model on df_median\n",
        "clf_rf1.feature_importances_"
      ]
    },
    {
      "cell_type": "code",
      "execution_count": null,
      "metadata": {
        "colab": {
          "base_uri": "https://localhost:8080/"
        },
        "id": "YQB1ECF3MLjw",
        "outputId": "35e88eb0-eba6-4d0e-b6c5-e3341e0cf257"
      },
      "outputs": [
        {
          "name": "stdout",
          "output_type": "stream",
          "text": [
            "[1. 0.]\n",
            "[0.9853229 0.       ]\n",
            "[0.9926072 0.       ]\n"
          ]
        }
      ],
      "source": [
        "#Performance metrices of RF model on df_median data\n",
        "print(precision_score(y1_test, rd_clf.predict(x1_test), average=None))\n",
        "print(recall_score(y1_test, rd_clf.predict(x1_test), average=None))\n",
        "print(f1_score(y1_test, rd_clf.predict(x1_test), average=None))"
      ]
    },
    {
      "cell_type": "code",
      "execution_count": null,
      "metadata": {
        "colab": {
          "base_uri": "https://localhost:8080/"
        },
        "id": "AMh1P8cMy99v",
        "outputId": "67d8e90d-1928-4a26-ce1c-84706d9fbde1"
      },
      "outputs": [
        {
          "name": "stdout",
          "output_type": "stream",
          "text": [
            "accuracy score for trained data:  93.90900195694715\n",
            "accuracy score for test data:  100.0\n"
          ]
        }
      ],
      "source": [
        "#modling logistic regrssion for df_random dataframe\n",
        "lr.fit(x2_train,y2_train)\n",
        "y2_lr_pred = lr.predict(x2_test)\n",
        "print(\"accuracy score for trained data: \",accuracy_score(y2_train,lr.predict(x2_train))*100)\n",
        "print(\"accuracy score for test data: \",accuracy_score(y2_test,y2_lr_pred)*100)"
      ]
    },
    {
      "cell_type": "code",
      "execution_count": null,
      "metadata": {
        "colab": {
          "base_uri": "https://localhost:8080/"
        },
        "id": "kgiqB2zxZ7ld",
        "outputId": "a8b1968e-9bb0-49ef-ab36-dca138605283"
      },
      "outputs": [
        {
          "name": "stdout",
          "output_type": "stream",
          "text": [
            "[1.]\n",
            "[1.]\n",
            "[1.]\n"
          ]
        }
      ],
      "source": [
        "#Performance metrices of logistic regression model on df_random data\n",
        "print(precision_score(y2_test, y2_lr_pred, average=None))\n",
        "print(recall_score(y2_test, y2_lr_pred, average=None))\n",
        "print(f1_score(y2_test, y2_lr_pred, average=None))"
      ]
    },
    {
      "cell_type": "code",
      "execution_count": null,
      "metadata": {
        "colab": {
          "base_uri": "https://localhost:8080/"
        },
        "id": "Rc8zgX9CzLwG",
        "outputId": "2a6ff2ee-f52e-4587-973c-2a3650632de5"
      },
      "outputs": [
        {
          "name": "stdout",
          "output_type": "stream",
          "text": [
            "Training Accuracy of random Classifier is 95.93933463796478\n",
            "Test Accuracy of random Classifier is 98.33659491193738 \n",
            "\n"
          ]
        }
      ],
      "source": [
        "#modling RF model for df_random dataframea\n",
        "rd_clf.fit(x2_train, y2_train)\n",
        "\n",
        "rd_clf_acc = accuracy_score(y2_test, rd_clf.predict(x2_test))*100\n",
        "\n",
        "print(f\"Training Accuracy of random Classifier is {accuracy_score(y2_train, rd_clf.predict(x2_train))*100}\")\n",
        "print(f\"Test Accuracy of random Classifier is {rd_clf_acc} \\n\")"
      ]
    },
    {
      "cell_type": "code",
      "execution_count": null,
      "metadata": {
        "colab": {
          "base_uri": "https://localhost:8080/"
        },
        "id": "Rz8vkU0E5kfJ",
        "outputId": "b18b37ff-25af-420c-86a6-02da721262d3"
      },
      "outputs": [
        {
          "name": "stdout",
          "output_type": "stream",
          "text": [
            "[1. 0.]\n",
            "[0.98336595 0.        ]\n",
            "[0.99161322 0.        ]\n"
          ]
        }
      ],
      "source": [
        "#Performance metrices of RF model on df_random data\n",
        "print(precision_score(y2_test, rd_clf.predict(x2_test), average=None))\n",
        "print(recall_score(y2_test, rd_clf.predict(x2_test), average=None))\n",
        "print(f1_score(y2_test, rd_clf.predict(x2_test), average=None))"
      ]
    },
    {
      "cell_type": "code",
      "execution_count": null,
      "metadata": {
        "colab": {
          "base_uri": "https://localhost:8080/"
        },
        "id": "2Q5umZqHaJn4",
        "outputId": "59ace5d0-f31f-4f1d-9230-4be6f666108f"
      },
      "outputs": [
        {
          "data": {
            "text/plain": [
              "const                3.367236e-01\n",
              "gender               7.607853e-01\n",
              "age                  2.488433e-05\n",
              "hypertension         1.560182e-11\n",
              "heart_disease        4.666635e-14\n",
              "ever_married         1.453117e-07\n",
              "work_type            2.378566e-01\n",
              "Residence_type       2.375124e-01\n",
              "avg_glucose_level    1.000383e-03\n",
              "smoking_status       2.600847e-01\n",
              "bmi_median           1.489658e-02\n",
              "dtype: float64"
            ]
          },
          "execution_count": 247,
          "metadata": {},
          "output_type": "execute_result"
        }
      ],
      "source": [
        "#pvalue calculation\n",
        "import statsmodels.api as sm\n",
        "data_1 = sm.add_constant(data1)\n",
        "#Fitting sm.OLS model\n",
        "model = sm.OLS(labels1,data_1).fit()\n",
        "model.pvalues"
      ]
    },
    {
      "cell_type": "code",
      "execution_count": null,
      "metadata": {
        "colab": {
          "base_uri": "https://localhost:8080/"
        },
        "id": "ADcDU_NhVbFl",
        "outputId": "268d539e-c6b0-4e76-8957-d76e09cc29c2"
      },
      "outputs": [
        {
          "name": "stdout",
          "output_type": "stream",
          "text": [
            "                 Generalized Linear Model Regression Results                  \n",
            "==============================================================================\n",
            "Dep. Variable:                 stroke   No. Observations:                 5110\n",
            "Model:                            GLM   Df Residuals:                     5099\n",
            "Model Family:                Binomial   Df Model:                           10\n",
            "Link Function:                  logit   Scale:                          1.0000\n",
            "Method:                          IRLS   Log-Likelihood:                -894.04\n",
            "Date:                Sat, 02 Jul 2022   Deviance:                       1788.1\n",
            "Time:                        12:57:21   Pearson chi2:                 4.70e+03\n",
            "No. Iterations:                     7                                         \n",
            "Covariance Type:            nonrobust                                         \n",
            "=====================================================================================\n",
            "                        coef    std err          z      P>|z|      [0.025      0.975]\n",
            "-------------------------------------------------------------------------------------\n",
            "const                -5.5924      0.450    -12.422      0.000      -6.475      -4.710\n",
            "gender               -0.0575      0.137     -0.421      0.674      -0.325       0.210\n",
            "age                   0.6851      0.130      5.279      0.000       0.431       0.939\n",
            "hypertension          0.8671      0.160      5.423      0.000       0.554       1.181\n",
            "heart_disease         1.0324      0.185      5.587      0.000       0.670       1.395\n",
            "ever_married          1.3009      0.217      6.007      0.000       0.876       1.725\n",
            "work_type             0.0334      0.072      0.461      0.645      -0.108       0.175\n",
            "Residence_type        0.1604      0.134      1.198      0.231      -0.102       0.423\n",
            "avg_glucose_level    -0.3508      0.114     -3.070      0.002      -0.575      -0.127\n",
            "smoking_status       -0.0507      0.068     -0.750      0.453      -0.183       0.082\n",
            "bmi_median            0.2477      0.091      2.714      0.007       0.069       0.427\n",
            "=====================================================================================\n"
          ]
        }
      ],
      "source": [
        "glm_binom = sm.GLM(labels1, data_1, family=sm.families.Binomial())\n",
        "res = glm_binom.fit()\n",
        "print(res.summary())"
      ]
    },
    {
      "cell_type": "code",
      "execution_count": null,
      "metadata": {
        "colab": {
          "base_uri": "https://localhost:8080/"
        },
        "id": "LVI2O3oLVfkX",
        "outputId": "9551c717-7558-4c28-d7da-595837335f30"
      },
      "outputs": [
        {
          "name": "stdout",
          "output_type": "stream",
          "text": [
            "                   CI 95%(2.5%)  CI 95%(97.5%)  Odds Ratio  pvalue\n",
            "const                  0.001542       0.009005    0.003726   0.000\n",
            "gender                 0.722341       1.234094    0.944159   0.674\n",
            "age                    1.538368       2.558608    1.983956   0.000\n",
            "hypertension           1.739767       3.256072    2.380085   0.000\n",
            "heart_disease          1.954651       4.033354    2.807811   0.000\n",
            "ever_married           2.402390       5.614783    3.672724   0.000\n",
            "work_type              0.897252       1.191416    1.033925   0.645\n",
            "Residence_type         0.903004       1.526170    1.173941   0.231\n",
            "avg_glucose_level      0.562889       0.880856    0.704148   0.002\n",
            "smoking_status         0.832722       1.085115    0.950578   0.453\n",
            "bmi_median             1.071258       1.532134    1.281137   0.007\n"
          ]
        }
      ],
      "source": [
        "#get odd ratio\n",
        "params = np.exp(res.params)\n",
        "conf = np.exp(res.conf_int())\n",
        "conf['OR'] = params\n",
        "pvalue=round(res.pvalues,3)\n",
        "conf['pvalue']=pvalue\n",
        "conf.columns = ['CI 95%(2.5%)', 'CI 95%(97.5%)', 'Odds Ratio','pvalue']\n",
        "print ((conf))"
      ]
    },
    {
      "cell_type": "code",
      "execution_count": null,
      "metadata": {
        "colab": {
          "base_uri": "https://localhost:8080/"
        },
        "id": "4zahfnGEVlRN",
        "outputId": "9eade45d-1176-407c-9b05-3e41cf7bb33d"
      },
      "outputs": [
        {
          "name": "stdout",
          "output_type": "stream",
          "text": [
            "[-5.584111813277126, 98.39559943536982, 138.0085077853482, 180.78106706592956, 267.27235807747934, 3.392504218524617, 17.394129000816207, -29.585220658563095, -4.942179569826899, 28.113656535247266]\n"
          ]
        }
      ],
      "source": [
        "#% of odd ratio\n",
        "lst=[]\n",
        "prob=[]\n",
        "for i in range(1,11):\n",
        "  lst.append(conf.iloc[i,2])\n",
        "for i in range(len(lst)):\n",
        "  prob.append((lst[i]-1)*100)\n",
        "print(prob)"
      ]
    },
    {
      "cell_type": "code",
      "execution_count": null,
      "metadata": {
        "colab": {
          "base_uri": "https://localhost:8080/"
        },
        "id": "SxI2DR4-VplQ",
        "outputId": "0cae9100-5ce3-4a00-fdc0-f9939c619b82"
      },
      "outputs": [
        {
          "name": "stdout",
          "output_type": "stream",
          "text": [
            "['age', 'hypertension', 'heart_disease', 'ever_married', 'avg_glucose_level', 'bmi_median']\n"
          ]
        }
      ],
      "source": [
        "#feature imporatnce based on p value\n",
        "cols = list(data1.columns)\n",
        "pmax = 1\n",
        "while (len(cols)>0):\n",
        "    p= []\n",
        "    data_1 = data1[cols]\n",
        "    data_1 = sm.add_constant(data_1)\n",
        "    model = sm.OLS(labels1,data_1).fit()\n",
        "    p = pd.Series(model.pvalues.values[1:],index = cols)      \n",
        "    pmax = max(p)\n",
        "    feature_with_p_max = p.idxmax()\n",
        "    if(pmax>0.05):\n",
        "        cols.remove(feature_with_p_max)\n",
        "    else:\n",
        "        break\n",
        "selected_features_BE = cols\n",
        "print(selected_features_BE)"
      ]
    },
    {
      "cell_type": "code",
      "execution_count": null,
      "metadata": {
        "id": "WgetYKn3h5fB"
      },
      "outputs": [],
      "source": [
        "#Crossvalidation kfold =5"
      ]
    },
    {
      "cell_type": "code",
      "execution_count": null,
      "metadata": {
        "id": "1WJsrqp5qiQl"
      },
      "outputs": [],
      "source": [
        "from sklearn.model_selection import RandomizedSearchCV, cross_val_score, StratifiedKFold, RepeatedStratifiedKFold, learning_curve, train_test_split\n",
        "from sklearn.metrics import fbeta_score, make_scorer\n",
        "from sklearn import metrics \n",
        "from imblearn.ensemble import BalancedBaggingClassifier\n",
        "from imblearn.pipeline import Pipeline"
      ]
    },
    {
      "cell_type": "code",
      "execution_count": null,
      "metadata": {
        "id": "7bl-Q8BvQTmu"
      },
      "outputs": [],
      "source": [
        "k_data, k_label = load_data(df_new_median)"
      ]
    },
    {
      "cell_type": "code",
      "execution_count": null,
      "metadata": {
        "id": "2-Dg0UVAqTPJ"
      },
      "outputs": [],
      "source": [
        "kfold = RepeatedStratifiedKFold(n_splits=5, n_repeats=3)\n",
        "f2 = make_scorer(fbeta_score, beta=2)\n"
      ]
    },
    {
      "cell_type": "code",
      "execution_count": null,
      "metadata": {
        "id": "M_95_DgEsLoE"
      },
      "outputs": [],
      "source": [
        "#Unbalanced Data\n",
        "X_train, X_test, y_train, y_test = train_test_split(k_data,k_label,test_size=0.20, random_state=32)"
      ]
    },
    {
      "cell_type": "code",
      "execution_count": null,
      "metadata": {
        "colab": {
          "base_uri": "https://localhost:8080/"
        },
        "id": "JY--zjOLrlnh",
        "outputId": "5c515919-79d5-4c06-c10a-098df22dcd6c"
      },
      "outputs": [
        {
          "data": {
            "text/plain": [
              "0    3889\n",
              "1    3889\n",
              "Name: stroke, dtype: int64"
            ]
          },
          "execution_count": 266,
          "metadata": {},
          "output_type": "execute_result"
        }
      ],
      "source": [
        "from imblearn.over_sampling import SMOTE\n",
        "#balanced Data Oversampling\n",
        "sm = SMOTE(random_state=0)\n",
        "synthetic_X, synthetic_y = sm.fit_resample(X_train, y_train)\n",
        "synthetic_y.value_counts()"
      ]
    },
    {
      "cell_type": "code",
      "execution_count": null,
      "metadata": {
        "colab": {
          "base_uri": "https://localhost:8080/"
        },
        "id": "QySULEsEzudN",
        "outputId": "6e10ce7e-a0c3-4925-8ec1-bb62a523d5c0"
      },
      "outputs": [
        {
          "data": {
            "text/plain": [
              "1    199\n",
              "0    199\n",
              "Name: stroke, dtype: int64"
            ]
          },
          "execution_count": 267,
          "metadata": {},
          "output_type": "execute_result"
        }
      ],
      "source": [
        "from sklearn.utils import resample\n",
        "#balanced Data Undersampling\n",
        "train = X_train.copy()\n",
        "train['stroke'] = y_train\n",
        "stroke = train[(train.stroke == 1)]\n",
        "not_stroke = train[(train.stroke == 0)]\n",
        "not_stroke_downsampled = resample(not_stroke, replace=False, n_samples=len(stroke), random_state=32)\n",
        "train_downsampled = pd.concat([not_stroke_downsampled, stroke]).sample(frac=1)\n",
        "train_downsampled.stroke.value_counts()\n",
        "downsampled_y = train_downsampled['stroke']\n",
        "downsampled_X = train_downsampled.drop('stroke', axis=1)\n",
        "downsampled_y.value_counts()"
      ]
    },
    {
      "cell_type": "code",
      "execution_count": null,
      "metadata": {
        "id": "HOVxypaFsD00"
      },
      "outputs": [],
      "source": [
        "from sklearn.model_selection import RandomizedSearchCV\n",
        "from scipy.stats import uniform\n",
        "# Create regularization penalty space\n",
        "penalty = ['l1', 'l2']\n",
        "\n",
        "# Create regularization hyperparameter distribution using uniform distribution\n",
        "C = uniform(loc=0, scale=4)\n",
        "\n",
        "# Create hyperparameter options\n",
        "hyperparameters = dict(C=C, penalty=penalty)"
      ]
    },
    {
      "cell_type": "code",
      "execution_count": null,
      "metadata": {
        "id": "rB1QTefhqoSw"
      },
      "outputs": [],
      "source": [
        "#Logistic Regression on unbalanced data\n",
        "lg = LogisticRegression(random_state = 32)\n",
        "lf = RandomizedSearchCV(lg, hyperparameters, random_state=32, n_iter=100, cv=kfold, verbose=0, n_jobs=-1)\n",
        "search_rf = lf.fit(X_train, y_train)\n",
        "rf_tuned = search_rf.best_estimator_\n",
        "y_pred_prob_yes = rf_tuned.predict_proba(X_test)[::,1]\n",
        "y_pred = rf_tuned.predict(X_test)"
      ]
    },
    {
      "cell_type": "code",
      "execution_count": null,
      "metadata": {
        "colab": {
          "base_uri": "https://localhost:8080/"
        },
        "id": "O9IJNKMIuZ6y",
        "outputId": "b44bfee0-9ffb-449c-8ef4-496822737057"
      },
      "outputs": [
        {
          "name": "stdout",
          "output_type": "stream",
          "text": [
            "unbalanced data LR accuracy score 0.9510763209393346\n",
            "unbalanced data LR precision score 0.0\n",
            "unbalanced data LR recall score 0.0\n",
            "unbalanced data LR f1 score 0.0\n"
          ]
        }
      ],
      "source": [
        "#Performance Metrics of Logistic Regression on unbalanced data\n",
        "print(\"unbalanced data LR accuracy score\",accuracy_score(y_test, y_pred))\n",
        "print(\"unbalanced data LR precision score\",precision_score(y_test, y_pred))\n",
        "print(\"unbalanced data LR recall score\",recall_score(y_test, y_pred))\n",
        "print(\"unbalanced data LR f1 score\",f1_score(y_test, y_pred))"
      ]
    },
    {
      "cell_type": "code",
      "execution_count": null,
      "metadata": {
        "colab": {
          "base_uri": "https://localhost:8080/",
          "height": 295
        },
        "id": "LF1ylNnOv1rW",
        "outputId": "1ba32ca8-616a-41c6-ac2a-2d60413724b1"
      },
      "outputs": [
        {
          "data": {
            "image/png": "[encoded data removed]",
            "text/plain": [
              "<Figure size 432x288 with 1 Axes>"
            ]
          },
          "metadata": {
            "needs_background": "light"
          },
          "output_type": "display_data"
        }
      ],
      "source": [
        "#ROC curve for Logistic Regression on unbalanced data\n",
        "from sklearn.metrics import roc_curve\n",
        "fpr, tpr, thresholds = roc_curve(y_test, y_pred_prob_yes)\n",
        "plt.plot(fpr,tpr)\n",
        "plt.xlim([0.0, 1.0])\n",
        "plt.ylim([0.0, 1.0])\n",
        "plt.title('ROC curve for Logistic Regession on Unbalanced Data')\n",
        "plt.xlabel('False positive rate (1-Specificity)')\n",
        "plt.ylabel('True positive rate (Sensitivity)')\n",
        "plt.grid(True)"
      ]
    },
    {
      "cell_type": "code",
      "execution_count": null,
      "metadata": {
        "id": "CjJpJe7Mz7hk"
      },
      "outputs": [],
      "source": [
        "#Logistic Regression on undersampled data\n",
        "lf = RandomizedSearchCV(lg, hyperparameters, random_state=32, n_iter=100, cv=kfold, verbose=0, n_jobs=-1)\n",
        "search_rf = lf.fit(downsampled_X, downsampled_y)\n",
        "rf_tuned = search_rf.best_estimator_\n",
        "y_pred_prob_yes_ds = rf_tuned.predict_proba(X_test)[::,1]\n",
        "y_pred_ds = rf_tuned.predict(X_test)"
      ]
    },
    {
      "cell_type": "code",
      "execution_count": null,
      "metadata": {
        "colab": {
          "base_uri": "https://localhost:8080/"
        },
        "id": "hpVM0rkevqs5",
        "outputId": "4623f226-a93b-4e15-ed84-d92f24c68102"
      },
      "outputs": [
        {
          "name": "stdout",
          "output_type": "stream",
          "text": [
            "downsampled data LR accuracy score 0.6448140900195695\n",
            "downsampled data LR precision score 0.09350649350649351\n",
            "downsampled data LR recall score 0.72\n",
            "downsampled data LR f1 score 0.16551724137931034\n"
          ]
        }
      ],
      "source": [
        "#Performance Metrics of Logistic Regression on undersampled data\n",
        "print(\"downsampled data LR accuracy score\",accuracy_score(y_test, y_pred_ds))\n",
        "print(\"downsampled data LR precision score\",precision_score(y_test, y_pred_ds))\n",
        "print(\"downsampled data LR recall score\",recall_score(y_test, y_pred_ds))\n",
        "print(\"downsampled data LR f1 score\",f1_score(y_test, y_pred_ds))"
      ]
    },
    {
      "cell_type": "code",
      "execution_count": null,
      "metadata": {
        "colab": {
          "base_uri": "https://localhost:8080/",
          "height": 295
        },
        "id": "XG2VkM6V0BRh",
        "outputId": "ff02a3ea-3c3a-4b5f-95bb-193037e1dfc0"
      },
      "outputs": [
        {
          "data": {
            "image/png": "[encoded data removed]",
            "text/plain": [
              "<Figure size 432x288 with 1 Axes>"
            ]
          },
          "metadata": {
            "needs_background": "light"
          },
          "output_type": "display_data"
        }
      ],
      "source": [
        "#ROC curve of Logistic Regression on undersampled data\n",
        "from sklearn.metrics import roc_curve\n",
        "fpr, tpr, thresholds = roc_curve(y_test, y_pred_prob_yes_ds)\n",
        "plt.plot(fpr,tpr)\n",
        "plt.xlim([0.0, 1.0])\n",
        "plt.ylim([0.0, 1.0])\n",
        "plt.title('ROC curve for Logistic Regession on undersampled Data')\n",
        "plt.xlabel('False positive rate (1-Specificity)')\n",
        "plt.ylabel('True positive rate (Sensitivity)')\n",
        "plt.grid(True)"
      ]
    },
    {
      "cell_type": "code",
      "execution_count": null,
      "metadata": {
        "id": "w84mOxCmwCqV"
      },
      "outputs": [],
      "source": [
        "#Logistic Regression on oversampled data\n",
        "lf = RandomizedSearchCV(lg, hyperparameters, random_state=1, n_iter=100, cv=kfold, verbose=0, n_jobs=-1)\n",
        "search_rf = lf.fit(synthetic_X, synthetic_y)\n",
        "rf_tuned = search_rf.best_estimator_\n",
        "y_pred_prob_yes_os = rf_tuned.predict_proba(X_test)[::,1]\n",
        "y_pred_os = rf_tuned.predict(X_test)"
      ]
    },
    {
      "cell_type": "code",
      "execution_count": null,
      "metadata": {
        "colab": {
          "base_uri": "https://localhost:8080/"
        },
        "id": "gdpzdPrbwSFj",
        "outputId": "58fda0e2-62bc-4e65-9811-a690669a77d2"
      },
      "outputs": [
        {
          "name": "stdout",
          "output_type": "stream",
          "text": [
            "oversampled data LR accuracy score 0.6027397260273972\n",
            "oversampled data LR precision score 0.0761904761904762\n",
            "oversampled data LR recall score 0.64\n",
            "oversampled data LR f1 score 0.13617021276595745\n"
          ]
        }
      ],
      "source": [
        "#Performance Metrics of Logistic Regression on oversampled data\n",
        "print(\"oversampled data LR accuracy score\",accuracy_score(y_test, y_pred_os))\n",
        "print(\"oversampled data LR precision score\",precision_score(y_test, y_pred_os))\n",
        "print(\"oversampled data LR recall score\",recall_score(y_test, y_pred_os))\n",
        "print(\"oversampled data LR f1 score\",f1_score(y_test, y_pred_os))"
      ]
    },
    {
      "cell_type": "code",
      "execution_count": null,
      "metadata": {
        "colab": {
          "base_uri": "https://localhost:8080/",
          "height": 295
        },
        "id": "4kkfZiKqwYcE",
        "outputId": "5687bee6-81a3-4ebf-9b16-689513436e1d"
      },
      "outputs": [
        {
          "data": {
            "image/png": "[encoded data removed]",
            "text/plain": [
              "<Figure size 432x288 with 1 Axes>"
            ]
          },
          "metadata": {
            "needs_background": "light"
          },
          "output_type": "display_data"
        }
      ],
      "source": [
        "#ROC curve of Logistic Regression on oversampled data\n",
        "from sklearn.metrics import roc_curve\n",
        "fpr, tpr, thresholds = roc_curve(y_test, y_pred_prob_yes_os)\n",
        "plt.plot(fpr,tpr)\n",
        "plt.xlim([0.0, 1.0])\n",
        "plt.ylim([0.0, 1.0])\n",
        "plt.title('ROC curve for Logistic Regession on oversampled Data')\n",
        "plt.xlabel('False positive rate (1-Specificity)')\n",
        "plt.ylabel('True positive rate (Sensitivity)')\n",
        "plt.grid(True)"
      ]
    },
    {
      "cell_type": "code",
      "execution_count": null,
      "metadata": {
        "id": "ZEentvN1w85d"
      },
      "outputs": [],
      "source": []
    },
    {
      "cell_type": "code",
      "execution_count": null,
      "metadata": {
        "id": "UCNxOx4Ow9fK"
      },
      "outputs": [],
      "source": []
    },
    {
      "cell_type": "code",
      "execution_count": null,
      "metadata": {
        "id": "bNkEmjYvw-Kn"
      },
      "outputs": [],
      "source": [
        "r_forest = RandomForestClassifier(class_weight='balanced', random_state=32)\n",
        "n_estimators = [10, 100, 1000]\n",
        "max_features = ['sqrt', 'log2']\n",
        "max_depth = [int(x) for x in np.linspace(10, 50, num = 4)]\n",
        "parameters_rf = dict(n_estimators=n_estimators, max_features=max_features, max_depth=max_depth, min_samples_split = [2, 5, 10,15], min_samples_leaf=[2,5,10,15])"
      ]
    },
    {
      "cell_type": "code",
      "execution_count": null,
      "metadata": {
        "id": "aYvxg3k-xYD9"
      },
      "outputs": [],
      "source": [
        "#Random forest on unbalanced data\n",
        "clf_rf = RandomizedSearchCV(r_forest, parameters_rf,cv=kfold, random_state=32, n_jobs=-1)\n",
        "search_rf = clf_rf.fit(X_train, y_train)\n",
        "r_forest= search_rf.best_estimator_\n",
        "y_pred_proba_rf = r_forest.predict_proba(X_test)[::,1]\n",
        "y_pred_rf = r_forest.predict(X_test)"
      ]
    },
    {
      "cell_type": "code",
      "execution_count": null,
      "metadata": {
        "colab": {
          "base_uri": "https://localhost:8080/"
        },
        "id": "pMsBcsjHyk-X",
        "outputId": "6ba844cc-4b3c-4799-f39c-7d7f9ea304ae"
      },
      "outputs": [
        {
          "name": "stdout",
          "output_type": "stream",
          "text": [
            "unbalanced data RF accuracy score 0.8649706457925636\n",
            "unbalanced data RF precision score 0.10714285714285714\n",
            "unbalanced data RF recall score 0.24\n",
            "unbalanced data RF f1 score 0.1481481481481481\n"
          ]
        }
      ],
      "source": [
        "#Performance Metrics of Random Forest on unbalanced data\n",
        "print(\"unbalanced data RF accuracy score\",accuracy_score(y_test, y_pred_rf))\n",
        "print(\"unbalanced data RF precision score\",precision_score(y_test, y_pred_rf))\n",
        "print(\"unbalanced data RF recall score\",recall_score(y_test, y_pred_rf))\n",
        "print(\"unbalanced data RF f1 score\",f1_score(y_test, y_pred_rf))"
      ]
    },
    {
      "cell_type": "code",
      "execution_count": null,
      "metadata": {
        "colab": {
          "base_uri": "https://localhost:8080/",
          "height": 295
        },
        "id": "Fy1pXhjxy6eO",
        "outputId": "600baeb3-d59d-4dcc-90bd-4ac2dbbb8a7f"
      },
      "outputs": [
        {
          "data": {
            "image/png": "[encoded data removed]",
            "text/plain": [
              "<Figure size 432x288 with 1 Axes>"
            ]
          },
          "metadata": {
            "needs_background": "light"
          },
          "output_type": "display_data"
        }
      ],
      "source": [
        "#ROC curve of Random forest on unbalanced data\n",
        "from sklearn.metrics import roc_curve\n",
        "fpr, tpr, thresholds = roc_curve(y_test, y_pred_proba_rf)\n",
        "plt.plot(fpr,tpr)\n",
        "plt.xlim([0.0, 1.0])\n",
        "plt.ylim([0.0, 1.0])\n",
        "plt.title('ROC curve for Random Forest on Unbalanced Data')\n",
        "plt.xlabel('False positive rate (1-Specificity)')\n",
        "plt.ylabel('True positive rate (Sensitivity)')\n",
        "plt.grid(True)"
      ]
    },
    {
      "cell_type": "code",
      "execution_count": null,
      "metadata": {
        "id": "53cCaE-7zNDD"
      },
      "outputs": [],
      "source": [
        "#Random forest on undersampled data\n",
        "clf_rf = RandomizedSearchCV(r_forest, parameters_rf,cv=kfold, random_state=32, n_jobs=-1)\n",
        "search_rf = clf_rf.fit(downsampled_X, downsampled_y)\n",
        "r_forest= search_rf.best_estimator_\n",
        "y_pred_proba_rf_ds = r_forest.predict_proba(X_test)[::,1]\n",
        "y_pred_rf_ds = r_forest.predict(X_test)"
      ]
    },
    {
      "cell_type": "code",
      "execution_count": null,
      "metadata": {
        "colab": {
          "base_uri": "https://localhost:8080/"
        },
        "id": "6NNDxmQuzgS0",
        "outputId": "b68546b9-2f5f-44d8-aab6-f1bfbf2f33e6"
      },
      "outputs": [
        {
          "name": "stdout",
          "output_type": "stream",
          "text": [
            "unbalanced data RF accuracy score 0.5802348336594912\n",
            "unbalanced data RF precision score 0.09766454352441614\n",
            "unbalanced data RF recall score 0.92\n",
            "unbalanced data RF f1 score 0.17658349328214973\n"
          ]
        }
      ],
      "source": [
        "#Performance Metrics of Random Forest on undersampled data\n",
        "print(\"unbalanced data RF accuracy score\",accuracy_score(y_test, y_pred_rf_ds))\n",
        "print(\"unbalanced data RF precision score\",precision_score(y_test, y_pred_rf_ds))\n",
        "print(\"unbalanced data RF recall score\",recall_score(y_test, y_pred_rf_ds))\n",
        "print(\"unbalanced data RF f1 score\",f1_score(y_test, y_pred_rf_ds))"
      ]
    },
    {
      "cell_type": "code",
      "execution_count": null,
      "metadata": {
        "colab": {
          "base_uri": "https://localhost:8080/",
          "height": 295
        },
        "id": "i-driUw_zrjF",
        "outputId": "081ea901-518e-4f07-b449-64e5391be1fd"
      },
      "outputs": [
        {
          "data": {
            "image/png": "[encoded data removed]",
            "text/plain": [
              "<Figure size 432x288 with 1 Axes>"
            ]
          },
          "metadata": {
            "needs_background": "light"
          },
          "output_type": "display_data"
        }
      ],
      "source": [
        "#ROC curve of Random forest on undersapled data\n",
        "from sklearn.metrics import roc_curve\n",
        "fpr, tpr, thresholds = roc_curve(y_test, y_pred_proba_rf_ds)\n",
        "plt.plot(fpr,tpr)\n",
        "plt.xlim([0.0, 1.0])\n",
        "plt.ylim([0.0, 1.0])\n",
        "plt.title('ROC curve for Random Forest on undersampled Data')\n",
        "plt.xlabel('False positive rate (1-Specificity)')\n",
        "plt.ylabel('True positive rate (Sensitivity)')\n",
        "plt.grid(True)"
      ]
    },
    {
      "cell_type": "code",
      "execution_count": null,
      "metadata": {
        "id": "VgOS7oGpz-qz"
      },
      "outputs": [],
      "source": [
        "#Random forest on oversampled data\n",
        "clf_rf = RandomizedSearchCV(r_forest, parameters_rf,cv=kfold, random_state=32, n_jobs=-1)\n",
        "search_rf = clf_rf.fit(synthetic_X, synthetic_y)\n",
        "r_forest= search_rf.best_estimator_\n",
        "y_pred_proba_rf_os = r_forest.predict_proba(X_test)[::,1]\n",
        "y_pred_rf_os = r_forest.predict(X_test)"
      ]
    },
    {
      "cell_type": "code",
      "execution_count": null,
      "metadata": {
        "colab": {
          "base_uri": "https://localhost:8080/"
        },
        "id": "1pD7BilJ0LNr",
        "outputId": "c19d55ac-ab8f-4054-a9e2-485cfb393f32"
      },
      "outputs": [
        {
          "name": "stdout",
          "output_type": "stream",
          "text": [
            "unbalanced data RF accuracy score 0.7592954990215264\n",
            "unbalanced data RF precision score 0.0811965811965812\n",
            "unbalanced data RF recall score 0.38\n",
            "unbalanced data RF f1 score 0.13380281690140847\n"
          ]
        }
      ],
      "source": [
        "#Performance Metrics of Random Forest on oversampled data\n",
        "print(\"unbalanced data RF accuracy score\",accuracy_score(y_test, y_pred_rf_os))\n",
        "print(\"unbalanced data RF precision score\",precision_score(y_test, y_pred_rf_os))\n",
        "print(\"unbalanced data RF recall score\",recall_score(y_test, y_pred_rf_os))\n",
        "print(\"unbalanced data RF f1 score\",f1_score(y_test, y_pred_rf_os))"
      ]
    },
    {
      "cell_type": "code",
      "execution_count": null,
      "metadata": {
        "colab": {
          "base_uri": "https://localhost:8080/",
          "height": 295
        },
        "id": "sw-XplJz0tjE",
        "outputId": "9e0b655e-825f-4e39-b5c7-0750d74a0fe4"
      },
      "outputs": [
        {
          "data": {
            "image/png": "[encoded data removed]",
            "text/plain": [
              "<Figure size 432x288 with 1 Axes>"
            ]
          },
          "metadata": {
            "needs_background": "light"
          },
          "output_type": "display_data"
        }
      ],
      "source": [
        "#ROC curve of Random forest on oversampled data\n",
        "from sklearn.metrics import roc_curve\n",
        "fpr, tpr, thresholds = roc_curve(y_test, y_pred_proba_rf_os)\n",
        "plt.plot(fpr,tpr)\n",
        "plt.xlim([0.0, 1.0])\n",
        "plt.ylim([0.0, 1.0])\n",
        "plt.title('ROC curve for Random Forest on oversampled Data')\n",
        "plt.xlabel('False positive rate (1-Specificity)')\n",
        "plt.ylabel('True positive rate (Sensitivity)')\n",
        "plt.grid(True)"
      ]
    }
  ],
  "metadata": {
    "colab": {
      "provenance": [],
      "include_colab_link": true
    },
    "gpuClass": "standard",
    "kernelspec": {
      "display_name": "Python 3",
      "name": "python3"
    },
    "language_info": {
      "codemirror_mode": {
        "name": "ipython",
        "version": 3
      },
      "file_extension": ".py",
      "mimetype": "text/x-python",
      "name": "python",
      "nbconvert_exporter": "python",
      "pygments_lexer": "ipython3",
      "version": "3.11.1"
    }
  },
  "nbformat": 4,
  "nbformat_minor": 0
}